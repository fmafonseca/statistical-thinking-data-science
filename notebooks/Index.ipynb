{
 "cells": [
  {
   "cell_type": "markdown",
   "metadata": {},
   "source": [
    "# Statistical Thinking for Data Science\n",
    "\n",
    "Este repositório concentra os meus estudos e experimentos de implementação em Python para ajudar a consolidar os aprendizados relacionados aos fundamentos de estatística."
   ]
  },
  {
   "cell_type": "markdown",
   "metadata": {},
   "source": [
    "## Fundamentos de Estatística\n",
    "- [Teorema Central do Limite](001.Teorema-Central-do-Limite.ipynb)\n",
    "- [Para que serve uma amostra de tamanho grande](002.Para-que-serve-uma-amostra-de-tamanho-grande.ipynb)\n",
    "- [Tamanho da Amostra, Variância e Viés](003.Tamanho-da-Amostra-Variância-e-Viés.ipynb)"
   ]
  },
  {
   "cell_type": "code",
   "execution_count": null,
   "metadata": {},
   "outputs": [],
   "source": []
  }
 ],
 "metadata": {
  "kernelspec": {
   "display_name": "Python 3",
   "language": "python",
   "name": "python3"
  },
  "language_info": {
   "codemirror_mode": {
    "name": "ipython",
    "version": 3
   },
   "file_extension": ".py",
   "mimetype": "text/x-python",
   "name": "python",
   "nbconvert_exporter": "python",
   "pygments_lexer": "ipython3",
   "version": "3.7.0"
  }
 },
 "nbformat": 4,
 "nbformat_minor": 2
}

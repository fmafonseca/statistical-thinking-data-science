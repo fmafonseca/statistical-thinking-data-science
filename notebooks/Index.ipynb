{
 "cells": [
  {
   "cell_type": "markdown",
   "metadata": {},
   "source": [
    "# Statistical Thinking for Data Science"
   ]
  },
  {
   "cell_type": "markdown",
   "metadata": {},
   "source": [
    "Este repositório concentra os meus estudos e experimentos de implementação em Python para ajudar a consolidar os aprendizados relacionados aos fundamentos de estatística.\n",
    "\n",
    "Abaixo eu listo alguns materiais (palestras, livros, ...) que me inspiraram a criar este repositório (listados na ordem em que tive acesso aos mesmos):\n",
    ">**(Palestra)** ***John Rauser keynote: \"Statistics Without the Agonizing Pain\" -- Strata + Hadoop 2014***\n",
    "<small>(Fonte: https://www.youtube.com/watch?v=5Dnw46eC-0o)</small>\n",
    "\n",
    "> **(Palestra)** ***Statistical Thinking for Data Science | SciPy 2015 | Chris Fonnesbeck***\n",
    "<small>(Fonte: https://www.youtube.com/watch?v=TGGGDpb04Yc)</small>\n",
    "\n",
    ">**(Livro)** ***Efron, B., & Hastie, T. (2016). Computer Age Statistical Inference: Algorithms, Evidence, and Data Science. Cambridge: Cambridge University Press.***\n",
    "<small>(Fonte: https://web.stanford.edu/~hastie/CASI/)</small>\n",
    "\n",
    "A palestra do ***John Rauser*** (no momento da escrita deste texto, cientista de dados e engenheiro de software na Snapchat) me inspirou a, sempre que possível, buscar a explicação intuitiva por trás dos procedimentos estatísticos utilizados.\n",
    "\n",
    "A palestra do ***Christopher Fonnesbeck*** (professor de bioestatística da universidade de *Vanderbilt* e um dos criadores do [PyMC3](https://docs.pymc.io/#)), por mais óbvio que pareça, me inspirou a querer buscar o entendimento a respeito da estatística e da matemática por trás dos algoritmos que constumamos utilizar como cientista de dados.\n",
    "\n",
    "Finalmente, o livro do ***Bradley Efron*** (professor de estatística de *Stanford* e criador da técnica de amostragem *bootstrap*) e do ***Trevor Hastie*** (professor de estatística de *Stanford* e um dos co-autores do famoso livro *Elements of Statistical Learning*) -- que estou estudando aos poucos -- apresentou-me um ponto de vista interessante sobre a estatística, no qual, a análise estatística, de maneira geral, tem duas componentes operacionais: a componente algorítmica e a componente da inferência ...\n",
    "\n",
    ">*Very broadly speaking, algorithms are what statisticians do while inference says why they do them. A particularly energetic brand of the statistical enterprise has flourished in the new century, data science, emphasizing algorithmic thinking rather than its inferential justification*\n",
    "<small>(Fonte: *Efron, B., & Hastie, T. (2016). Computer Age Statistical Inference: Algorithms, Evidence, and Data Science. Cambridge: Cambridge University Press.*)</small>\n",
    "\n",
    "sendo que, na minha opinião, o conhecimento sobre a parte *\"... its inferential justification\"* é muito importante, melhor dizendo **fundamental**, para qualquer cientista de dados."
   ]
  },
  {
   "cell_type": "markdown",
   "metadata": {},
   "source": [
    "## Fundamentos de Estatística\n",
    "- [Teorema Central do Limite](001.Teorema-Central-do-Limite.ipynb)\n",
    "- [Para que serve uma amostra de tamanho grande](002.Para-que-serve-uma-amostra-de-tamanho-grande.ipynb)\n",
    "- [Tamanho da Amostra, Variância e Viés](003.Tamanho-da-Amostra-Variância-e-Viés.ipynb)"
   ]
  },
  {
   "cell_type": "code",
   "execution_count": null,
   "metadata": {},
   "outputs": [],
   "source": []
  }
 ],
 "metadata": {
  "kernelspec": {
   "display_name": "Python 3",
   "language": "python",
   "name": "python3"
  },
  "language_info": {
   "codemirror_mode": {
    "name": "ipython",
    "version": 3
   },
   "file_extension": ".py",
   "mimetype": "text/x-python",
   "name": "python",
   "nbconvert_exporter": "python",
   "pygments_lexer": "ipython3",
   "version": "3.7.0"
  }
 },
 "nbformat": 4,
 "nbformat_minor": 2
}

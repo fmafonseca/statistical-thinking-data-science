{
 "cells": [
  {
   "cell_type": "markdown",
   "metadata": {},
   "source": [
    "<!--NAVIGATION-->\n",
    "< [Tamanho da Amostra, Variância e Viés](004.Tamanho-da-Amostra-Variância-e-Viés.ipynb) | [Conteúdo](Index.ipynb) | [A ser definido] >\n",
    "\n",
    "<a href=\"https://colab.research.google.com/github/fmafonseca/statistical-thinking-data-science/blob/master/notebooks/005.Teste-de-Hipotese-o-inicio.ipynb\"><img align=\"left\" src=\"https://colab.research.google.com/assets/colab-badge.svg\" alt=\"Open in Colab\" title=\"Open and Execute in Google Colaboratory\"></a>"
   ]
  },
  {
   "cell_type": "markdown",
   "metadata": {},
   "source": [
    "# Teste de Hipótese, o início"
   ]
  },
  {
   "cell_type": "markdown",
   "metadata": {},
   "source": [
    "Já vimos [aqui](002.Intervalo-de-Confiança-Margem-de-Erro-Acurácia-e-Precisão.ipynb) que um dos problemas clássicos da estatística consiste em **estimar o valor de um parâmetro desconhecido**, por exemplo, estimar a média $\\mu$ de uma <font color=orange>população</font> (*<font color=orange>population</font>*) a partir:\n",
    "- (1a) de uma <font color=gray>amostra aleatória</font> (<font color=gray>random sample</font>) $x = \\{ x_1, x_2, \\ldots, x_n \\}$ desta <font color=orange>população</font> (*<font color=orange>population</font>*) e \n",
    "- (1b) de um **estimador** (***estimator***) para a média, ou seja, um <font color=magenta>algoritmo</font> como a média aritmética $\\bar{x} = \\sum_{i=1}^n \\frac{x_i}{n}$;\n",
    "- (2) além de se basear no Teorema Central do Limite (*Central Limit Theorem - CLT*) e nas suas condições para fornecermos uma <font color=magenta>inferência</font> a respeito da precisão do <font color=magenta>algoritmo</font> (média aritmética) através do cálculo da aproximação $\\hat{se}$ para o erro padrão (*standard error*) $SE$ desta estimativa via $SE \\approx \\hat{se} = \\frac{s}{\\sqrt{n}}$.\n",
    "\n",
    "Um outro problema muito comum na estatística clássica é **verificar se uma dada hipótese é plausível em detrimento de outra com base nos dados observados**. Considere o seguinte exemplo:\n",
    "\n",
    ">*Researchers investigating characteristics of gifted children collected data from schools in a large city on a random sample of $36$ children who were identified as gifted children soon after they reached the age of four. In this study, along with variables on the children, the researchers also collected data on the mother's IQ of the $36$ randomly sampled gifted children. Our goal is to evaluate if these data provide convincing evidence that the average IQ of mothers of gifted children is different than the average IQ for the population at large, which is $100$.*\n",
    "<small>(Fonte: \"A. Graybill and H.K. Iyer. <em>Regression Analysis: Concepts and Applications</em>. Duxbury Press, 1994, pp. 511-516\")</small>\n",
    "<small>(Fonte: https://www.openintro.org/stat/textbook.php?stat_book=os)</small>"
   ]
  },
  {
   "cell_type": "code",
   "execution_count": 1,
   "metadata": {},
   "outputs": [
    {
     "data": {
      "text/html": [
       "<div>\n",
       "<style scoped>\n",
       "    .dataframe tbody tr th:only-of-type {\n",
       "        vertical-align: middle;\n",
       "    }\n",
       "\n",
       "    .dataframe tbody tr th {\n",
       "        vertical-align: top;\n",
       "    }\n",
       "\n",
       "    .dataframe thead th {\n",
       "        text-align: right;\n",
       "    }\n",
       "</style>\n",
       "<table border=\"1\" class=\"dataframe\">\n",
       "  <thead>\n",
       "    <tr style=\"text-align: right;\">\n",
       "      <th></th>\n",
       "      <th>score</th>\n",
       "      <th>fatheriq</th>\n",
       "      <th>motheriq</th>\n",
       "      <th>speak</th>\n",
       "      <th>count</th>\n",
       "      <th>read</th>\n",
       "      <th>edutv</th>\n",
       "      <th>cartoons</th>\n",
       "    </tr>\n",
       "  </thead>\n",
       "  <tbody>\n",
       "    <tr>\n",
       "      <th>0</th>\n",
       "      <td>159</td>\n",
       "      <td>115</td>\n",
       "      <td>117</td>\n",
       "      <td>18</td>\n",
       "      <td>26</td>\n",
       "      <td>1.9</td>\n",
       "      <td>3.00</td>\n",
       "      <td>2.00</td>\n",
       "    </tr>\n",
       "    <tr>\n",
       "      <th>1</th>\n",
       "      <td>164</td>\n",
       "      <td>117</td>\n",
       "      <td>113</td>\n",
       "      <td>20</td>\n",
       "      <td>37</td>\n",
       "      <td>2.5</td>\n",
       "      <td>1.75</td>\n",
       "      <td>3.25</td>\n",
       "    </tr>\n",
       "    <tr>\n",
       "      <th>2</th>\n",
       "      <td>154</td>\n",
       "      <td>115</td>\n",
       "      <td>118</td>\n",
       "      <td>20</td>\n",
       "      <td>32</td>\n",
       "      <td>2.2</td>\n",
       "      <td>2.75</td>\n",
       "      <td>2.50</td>\n",
       "    </tr>\n",
       "    <tr>\n",
       "      <th>3</th>\n",
       "      <td>157</td>\n",
       "      <td>113</td>\n",
       "      <td>131</td>\n",
       "      <td>12</td>\n",
       "      <td>24</td>\n",
       "      <td>1.7</td>\n",
       "      <td>2.75</td>\n",
       "      <td>2.25</td>\n",
       "    </tr>\n",
       "    <tr>\n",
       "      <th>4</th>\n",
       "      <td>156</td>\n",
       "      <td>110</td>\n",
       "      <td>109</td>\n",
       "      <td>17</td>\n",
       "      <td>34</td>\n",
       "      <td>2.2</td>\n",
       "      <td>2.25</td>\n",
       "      <td>2.50</td>\n",
       "    </tr>\n",
       "  </tbody>\n",
       "</table>\n",
       "</div>"
      ],
      "text/plain": [
       "   score  fatheriq  motheriq  speak  count  read  edutv  cartoons\n",
       "0    159       115       117     18     26   1.9   3.00      2.00\n",
       "1    164       117       113     20     37   2.5   1.75      3.25\n",
       "2    154       115       118     20     32   2.2   2.75      2.50\n",
       "3    157       113       131     12     24   1.7   2.75      2.25\n",
       "4    156       110       109     17     34   2.2   2.25      2.50"
      ]
     },
     "execution_count": 1,
     "metadata": {},
     "output_type": "execute_result"
    }
   ],
   "source": [
    "import pandas as pd\n",
    "\n",
    "gifted_df = pd.read_csv(\"data/gifted.txt\", delimiter='\\t')\n",
    "gifted_df.head()"
   ]
  },
  {
   "cell_type": "code",
   "execution_count": 2,
   "metadata": {},
   "outputs": [
    {
     "data": {
      "text/plain": [
       "count     36.000000\n",
       "mean     118.166667\n",
       "std        6.504943\n",
       "min      101.000000\n",
       "25%      113.750000\n",
       "50%      118.000000\n",
       "75%      122.250000\n",
       "max      131.000000\n",
       "Name: motheriq, dtype: float64"
      ]
     },
     "execution_count": 2,
     "metadata": {},
     "output_type": "execute_result"
    }
   ],
   "source": [
    "# some statistics about the IQ of mothers of gifted children from this random sample\n",
    "gifted_df.motheriq.describe()"
   ]
  },
  {
   "cell_type": "code",
   "execution_count": 3,
   "metadata": {},
   "outputs": [
    {
     "data": {
      "text/plain": [
       "array([[<matplotlib.axes._subplots.AxesSubplot object at 0x000001187F0A9358>]],\n",
       "      dtype=object)"
      ]
     },
     "execution_count": 3,
     "metadata": {},
     "output_type": "execute_result"
    },
    {
     "data": {
      "image/png": "[encoded data removed]",
      "text/plain": [
       "<Figure size 432x288 with 1 Axes>"
      ]
     },
     "metadata": {
      "needs_background": "light"
     },
     "output_type": "display_data"
    }
   ],
   "source": [
    "import matplotlib.pyplot as plt\n",
    "%matplotlib inline\n",
    "\n",
    "# histogram of IQ of mothers of gifted children from this random sample\n",
    "gifted_df.hist(column='motheriq', bins=(100,105,110,115,120,125,130,135))"
   ]
  },
  {
   "cell_type": "markdown",
   "metadata": {},
   "source": [
    "A <font color=orange>população</font> (*<font color=orange>population</font>*) em foco aqui consiste nas <font color=orange>mães de crianças superdotadas</font> e o parâmetro de interesse é o <font color=orange>QI médio das mães de crianças superdotadas</font>. Além disto, observou-se um <font color=gray>QI médio</font> $\\bar{x}_{gifted} = 118,2$ de uma <font color=gray>amostra aleatória</font> (*<font color=gray>random sample</font>*) de $n = 36$ <font color=gray>mães de crianças superdotadas</font>."
   ]
  },
  {
   "cell_type": "code",
   "execution_count": 4,
   "metadata": {},
   "outputs": [
    {
     "name": "stdout",
     "output_type": "stream",
     "text": [
      "Random sample size = 36\n",
      "Observed average IQ of mothers of gifted children = 118.2\n"
     ]
    }
   ],
   "source": [
    "n = len(gifted_df.index)\n",
    "mean_observed_IQ_gifted = gifted_df.motheriq.mean()\n",
    "\n",
    "print(\"Random sample size = {0}\".format(n))\n",
    "print(\"Observed average IQ of mothers of gifted children = {0:.1f}\".format(mean_observed_IQ_gifted))"
   ]
  },
  {
   "cell_type": "markdown",
   "metadata": {},
   "source": [
    "Queremos verificar se estes dados observados suportam a **hipótese** ($H_A$) de que o <font color=orange>QI médio das mães de crianças superdotadas</font> ($\\mu_{gifted}$, que é desconhecido) é maior do que o <font color=orange>QI médio para a população geral</font> (que é igual a $\\mu_{pop\\_geral} = 100$) versus a outra **hipótese** ($H_0$) de que o <font color=orange>QI médio das mães de crianças superdotadas</font> não é tão diferente assim do <font color=orange>QI médio para a população geral</font>. Ou seja:\n",
    "\n",
    "- $H_0$: o <font color=orange>QI médio das mães de crianças superdotadas</font> **não é diferente** do <font color=orange>QI médio para a população geral</font>, ou seja, $\\mu_{gifted} = \\mu_{pop\\_geral}$.\n",
    "- $H_A$: o <font color=orange>QI médio das mães de crianças superdotadas</font> **é maior do que** o <font color=orange>QI médio para a população geral</font>, ou seja, $\\mu_{gifted} \\gt \\mu_{pop\\_geral}$."
   ]
  },
  {
   "cell_type": "markdown",
   "metadata": {},
   "source": [
    "![HT-gifted-01](figures/HT_gifted_01.jpg)"
   ]
  },
  {
   "cell_type": "markdown",
   "metadata": {},
   "source": [
    "Em outras palavras, será que este <font color=gray>QI médio</font> $\\bar{x}_{gifted}=118,2$ <font color=gray>observado</font> **é raro o suficiente** dentro dos valores de QIs médios da população geral para que possamos considerar o <font color=orange>QI médio das mães de crianças superdotadas</font> **como diferente** do <font color=orange>QI médio para a população geral</font> (que é igual a $\\mu_{pop\\_geral}=100$)?\n",
    "\n",
    "<blockquote>\n",
    "Até aqui estamos o tempo todo nos referindo ao <strong>QI médio</strong>, ou seja, estamos nos referindo a uma <font color=blue>estatística da amostra</font> (<em><font color=blue>sample statistic</font></em>) que no nosso caso é a <font color=blue>média da amostra</font> (<em><font color=blue>sample mean</font></em>). E, como já vimos <a href=\"002.Intervalo-de-Confiança-Margem-de-Erro-Acurácia-e-Precisão.ipynb\" target=\"_blank\">aqui</a>, a distribuição destas <font color=blue>estatísticas das amostras</font> (<em><font color=blue>sample statistics</font></em>) é denominada <font color=blue>distribuição amostral</font> (<em><font color=blue>sampling distribution</font></em>).\n",
    "</blockquote>\n",
    "\n",
    "Então, novamente em outras palavras, se tivermos a <font color=blue>distribuição amostral</font> (*<font color=blue>sampling distribution</font>*) das <font color=blue>médias de QIs para a população geral</font>:\n",
    "- $H_A$: A probabilidade de uma média de QI igual ou mais extrema do que $118,2$ é pequena o suficiente para considerarmos raro o evento de termos observado, na prática, um <font color=gray>QI médio</font> $\\bar{x}_{gifted}=118,2$?\n",
    "- $H_0$: Ou será que esta probabilidade não é tão pequena, indicando que um QI médio de $\\bar{x}_{gifted}=118,2$ não é tão diferente do QI médio da população geral $\\mu_{pop\\_geral}=100$?"
   ]
  },
  {
   "cell_type": "markdown",
   "metadata": {},
   "source": [
    "![HT-gifted-02](figures/HT_gifted_02_v2.jpg)"
   ]
  },
  {
   "cell_type": "markdown",
   "metadata": {},
   "source": [
    "<blockquote>\n",
    "E por falar em <font color=blue>distribuição amostral</font> (<em><font color=blue>sampling distribution</font></em>), podemos invocar aqui o Teorema Central do Limite (<em>Central Limit Theorem - CLT</em>) que nos diz que quando a <font color=blue>estatística da amostra</font> (<em><font color=blue>sample statistic</font></em>) é a <strong>média</strong>, se:\n",
    "\n",
    "<ul>\n",
    "<li><strong>(1a)</strong> o <font color=gray>tamanho da amostra</font> (<em><font color=gray>sample size</font></em>) é suficientemente grande ($n > 30$ ou maior se os dados são consideravelmente enviesados), ou</li>\n",
    "<li><strong>(1b)</strong> sabe-se de antemão que a <font color=orange>população</font> (<em><font color=orange>population</font></em>) tem uma distribuição normal, e</li>\n",
    "<li><strong>(2)</strong> as observações da <font color=gray>amostra</font> (<em><font color=gray>sample</font></em>) são independentes,</li>\n",
    "</ul>\n",
    "    \n",
    "<p>então, a <font color=blue>distribuição das médias</font> das <font color=gray>amostras</font> (<em><font color=gray>samples</font></em>) será aproximadamente normal (<em>nearly normal</em>), centrada na <font color=orange>média da população</font> (<em><font color=orange>population mean</font></em>) $\\mu$ e com um <font color=blue>erro padrão</font> (<em><font color=blue>standard error</font></em>) de $SE=\\frac{\\sigma}{\\sqrt{n}}$:</p>\n",
    "\n",
    "<p>$$\n",
    "\\bar{X} \\sim N\\left(mean=\\mu, SE=\\frac{\\sigma}{\\sqrt{n}}\\right)\n",
    "$$</p>\n",
    "</blockquote>"
   ]
  },
  {
   "cell_type": "markdown",
   "metadata": {},
   "source": [
    "![HT-gifted-03](figures/HT_gifted_03_v2.jpg)"
   ]
  },
  {
   "cell_type": "markdown",
   "metadata": {},
   "source": [
    "Bom, não temos a <font color=blue>distribuição amostral</font> (*<font color=blue>sampling distribution</font>*) das <font color=blue>médias de QIs para a população geral</font>, o que temos são:\n",
    "- uma <font color=gray>amostra aleatória</font> (<font color=gray>random sample</font>) de $n = 36$ QIs de <font color=gray>*mães de crianças superdotadas*</font>;\n",
    "- e o <font color=orange>QI médio para a população geral</font> $\\mu_{pop\\_geral}=100$.\n",
    "\n",
    "<mark>Mas pelo Teorema Central do Limite (<em>Central Limit Theorem - CLT</em>), se as condições <strong>(1)</strong> e <strong>(2)</strong> forem verdadeiras para o nosso caso, então, podemos assumir que a <font color=blue>distribuição amostral</font> (<em><font color=blue>sampling distribution</font></em>) das <font color=blue>médias de QIs para a população geral</font> é da forma:<mark>\n",
    "\n",
    "$$\n",
    "\\text{Médias QIs população geral} \\sim N\\left(mean=100, SE_{pop\\_geral}=\\frac{\\sigma_{pop\\_geral}}{\\sqrt{n}}\\right)\n",
    "$$\n",
    "\n",
    "Ainda precisamos calcular o valor do <font color=blue>erro padrão</font> (<em><font color=blue>standard error</font></em>) $SE_{pop\\_geral}=\\frac{\\sigma_{pop\\_geral}}{\\sqrt{n}}$ para termos a forma completa da <font color=blue>distribuição amostral</font> (*<font color=blue>sampling distribution</font>*) das <font color=blue>médias de QIs para a população geral</font>. Ou seja, precisamos:\n",
    "- do <font color=orange>desvio padrão</font> (*<font color=orange>standard deviation</font>*) $\\sigma_{pop\\_geral}$ da <font color=orange>distribuição de QIs para a população geral</font>;\n",
    "- e do tamanho $n$ de alguma <font color=gray>amostra aleatória</font> (*<font color=gray>random sample</font>*) de QIs da população geral.\n",
    "\n",
    "Bom, não temos acesso à <font color=orange>distribuição de QIs para a população geral</font>, logo, não temos o <font color=orange>desvio padrão</font> (*<font color=orange>standard deviation</font>*) $\\sigma_{pop\\_geral}$. <mark>Entretanto, podemos ter uma aproximação para $\\sigma_{pop\\_geral}$ através do <font color=gray>desvio padrão</font> (<em><font color=gray>standard deviation</font></em>) $s_{pop\\_geral}$ de alguma <font color=gray>amostra aleatória</font> (<em><font color=gray>random sample</font></em>) de QIs da população geral.</mark>\n",
    "\n",
    "Mas o que temos não é uma <font color=gray>amostra aleatória</font> (*<font color=gray>random sample</font>*) de QIs da população geral, mas sim uma <font color=gray>amostra aleatória</font> (*<font color=gray>random sample</font>*) de $n = 36$ QIs de <font color=gray>mães de crianças superdotadas</font>. <mark>Então, se, por um instante, <strong>assumirmos</strong> que a <strong>hipótese</strong> $H_0$ <strong>é verdadeira</strong>, estamos assumindo que o <font color=orange>QI médio das mães de crianças superdotadas</font> <strong>não é diferente</strong> do <font color=orange>QI médio para a população geral</font>, o que implica que podemos considerar a <font color=gray>amostra aleatória</font> (<em><font color=gray>random sample</font></em>) de $n = 36$ QIs de <strong>mães de crianças superdotadas</strong> como se fosse uma <font color=gray>amostra aleatória</font> (<em><font color=gray>random sample</font></em>) de QIs <strong>da população geral</strong>.</mark>\n",
    "\n",
    "Então,\n",
    "\n",
    "$$\n",
    "\\text{se } H_0 = True \\enspace \\Rightarrow \\enspace \\text{podemos assumir que } s_{pop\\_geral} = s_{gifted} = 6,5 \\enspace \\Rightarrow \\enspace SE_{pop\\_geral} = \\frac{\\sigma_{pop\\_geral}}{\\sqrt{n}} \\approx \\frac{s_{pop\\_geral}}{\\sqrt{n}} = \\frac{6,5}{\\sqrt{36}} = 1,084\n",
    "$$"
   ]
  },
  {
   "cell_type": "markdown",
   "metadata": {},
   "source": [
    "![HT-gifted-04](figures/HT_gifted_04_v2.jpg)"
   ]
  },
  {
   "cell_type": "code",
   "execution_count": 5,
   "metadata": {},
   "outputs": [
    {
     "name": "stdout",
     "output_type": "stream",
     "text": [
      "Standard deviation of IQ of mothers of gifted children = 6.5\n",
      "Estimated standard error of IQs for the pop. at large when H0 is true = 1.084\n"
     ]
    }
   ],
   "source": [
    "import numpy as np\n",
    "\n",
    "std_observed_IQs_gifted = gifted_df.motheriq.std()\n",
    "\n",
    "# estimated SE for IQs for population at large when H0 is true\n",
    "estimated_SE = std_observed_IQs_gifted / np.sqrt(n)\n",
    "\n",
    "print(\"Standard deviation of IQ of mothers of gifted children = {0:.1f}\".format(std_observed_IQs_gifted))\n",
    "print(\"Estimated standard error of IQs for the pop. at large when H0 is true = {0:.3f}\".format(estimated_SE))"
   ]
  },
  {
   "cell_type": "markdown",
   "metadata": {},
   "source": [
    "Logo, o nosso **modelo** que descreve as médias de QIs para a população geral quando assumimos que a **hipótese** $H_0$ é verdadeira é o:\n",
    "\n",
    "$$\n",
    "\\text{se } H_0 = True \\enspace \\Rightarrow \\enspace \\text{Médias QIs população geral} \\sim N\\left(mean=100, SE_{pop\\_geral}=1,084\\right)\n",
    "$$"
   ]
  },
  {
   "cell_type": "code",
   "execution_count": 6,
   "metadata": {},
   "outputs": [],
   "source": [
    "from scipy import stats as st\n",
    "\n",
    "mean_pop_IQ = 100\n",
    "\n",
    "sampling_dist_mean_IQs_when_H0_is_true = st.norm(loc=mean_pop_IQ, scale=estimated_SE)"
   ]
  },
  {
   "cell_type": "code",
   "execution_count": 7,
   "metadata": {
    "code_folding": [
     4,
     25
    ]
   },
   "outputs": [],
   "source": [
    "# import some dependencies to visualization with altair\n",
    "import altair as alt\n",
    "alt.renderers.enable('notebook') # for the notebook only (not for JupyterLab) run this command once per session\n",
    "\n",
    "def draw_density_plot(distribution, distribution_name, x_axis_limits=None):\n",
    "    # Create the points to draw the probability density function\n",
    "    x_i = distribution.ppf(0.00000000000001)\n",
    "    x_f = distribution.ppf(0.99999999999999)\n",
    "    x = np.linspace(x_i, x_f, 100)\n",
    "    f_x = distribution.pdf(x)\n",
    "    \n",
    "    # draw the density function f(x)\n",
    "    data = pd.DataFrame({'x': x, 'f(x)': f_x})\n",
    "    \n",
    "    altX = 'x:Q'\n",
    "    if x_axis_limits is not None:\n",
    "        altX = alt.X('x:Q', scale=alt.Scale(domain=x_axis_limits))\n",
    "    \n",
    "    density = alt.Chart(data).mark_line().encode(\n",
    "        x=altX,\n",
    "        y='f(x):Q'\n",
    "    ).properties(title='{0}'.format(distribution_name))\n",
    "    \n",
    "    return density\n",
    "\n",
    "def draw_density_and_point_plot(distribution, distribution_name, obs_point, draw_area=False, type_area='left_area', \n",
    "                                x_axis_limits=None):\n",
    "    \n",
    "    density = draw_density_plot(distribution, distribution_name, x_axis_limits)\n",
    "    \n",
    "    obs_value_mark_rule = density.mark_rule(color='red').encode(\n",
    "        x='obs_value:Q',\n",
    "        size=alt.value(1)\n",
    "    ).transform_calculate(\n",
    "        obs_value=str(obs_point)\n",
    "    )\n",
    "    \n",
    "    plot = density + obs_value_mark_rule\n",
    "    \n",
    "    if draw_area:\n",
    "        if type_area == 'left_area':\n",
    "            predicate = alt.FieldLTEPredicate(field='x', lte=obs_point)\n",
    "        elif type_area == 'range_area':\n",
    "            obs_value_mark_rule2 = density.mark_rule(color='red').encode(\n",
    "                x='obs_value:Q',\n",
    "                size=alt.value(1)\n",
    "            ).transform_calculate(\n",
    "                obs_value=str(-obs_point)\n",
    "            )\n",
    "            \n",
    "            plot = density + obs_value_mark_rule + obs_value_mark_rule2\n",
    "\n",
    "            predicate = alt.FieldRangePredicate(\n",
    "                field='x', \n",
    "                range=[(obs_point if obs_point < 0 else -obs_point), (obs_point if obs_point > 0 else -obs_point)]\n",
    "            )\n",
    "        else:\n",
    "            predicate = alt.FieldGTEPredicate(field='x', gte=obs_point)\n",
    "            \n",
    "        obs_value_mark_area = density.mark_area().encode(\n",
    "            x='x:Q',\n",
    "            y='f(x):Q'\n",
    "        ).transform_filter(\n",
    "            predicate\n",
    "        )\n",
    "        plot = plot + obs_value_mark_area\n",
    "    \n",
    "    return plot"
   ]
  },
  {
   "cell_type": "code",
   "execution_count": 8,
   "metadata": {},
   "outputs": [
    {
     "data": {
      "application/javascript": [
       "var spec = {\"config\": {\"view\": {\"width\": 400, \"height\": 300}}, \"data\": {\"name\": \"data-563570b8e2e5c3a75025a7ce9a0ec8a8\"}, \"mark\": \"line\", \"encoding\": {\"x\": {\"type\": \"quantitative\", \"field\": \"x\", \"scale\": {\"domain\": [81.83333333333333, 118.16666666666667]}}, \"y\": {\"type\": \"quantitative\", \"field\": \"f(x)\"}}, \"title\": \"Sampling distribution when H0 is true ~ Normal(mean=100,sd=1.084)\", \"$schema\": \"https://vega.github.io/schema/vega-lite/v2.6.0.json\", \"datasets\": {\"data-563570b8e2e5c3a75025a7ce9a0ec8a8\": [{\"x\": 91.70551649997748, \"f(x)\": 7.173507695658371e-14}, {\"x\": 91.87308294911539, \"f(x)\": 2.31252547903335e-13}, {\"x\": 92.04064939825331, \"f(x)\": 7.278917932956891e-13}, {\"x\": 92.20821584739122, \"f(x)\": 2.2370333464742013e-12}, {\"x\": 92.37578229652914, \"f(x)\": 6.712795727465458e-12}, {\"x\": 92.54334874566705, \"f(x)\": 1.9667979364093568e-11}, {\"x\": 92.71091519480497, \"f(x)\": 5.6265397946637974e-11}, {\"x\": 92.87848164394288, \"f(x)\": 1.571623030536557e-10}, {\"x\": 93.0460480930808, \"f(x)\": 4.2862817235166886e-10}, {\"x\": 93.2136145422187, \"f(x)\": 1.1414013427524263e-09}, {\"x\": 93.38118099135663, \"f(x)\": 2.9677094828443706e-09}, {\"x\": 93.54874744049454, \"f(x)\": 7.534071341854167e-09}, {\"x\": 93.71631388963246, \"f(x)\": 1.8675120417098007e-08}, {\"x\": 93.88388033877037, \"f(x)\": 4.519833450152279e-08}, {\"x\": 94.05144678790829, \"f(x)\": 1.0680873995708597e-07}, {\"x\": 94.2190132370462, \"f(x)\": 2.4644300172927335e-07}, {\"x\": 94.38657968618412, \"f(x)\": 5.552026455468077e-07}, {\"x\": 94.55414613532203, \"f(x)\": 1.2212706001664057e-06}, {\"x\": 94.72171258445995, \"f(x)\": 2.622995928760931e-06}, {\"x\": 94.88927903359786, \"f(x)\": 5.500582328237187e-06}, {\"x\": 95.05684548273578, \"f(x)\": 1.1262765985376014e-05}, {\"x\": 95.22441193187369, \"f(x)\": 2.251680623005245e-05}, {\"x\": 95.39197838101161, \"f(x)\": 4.395354003030604e-05}, {\"x\": 95.55954483014952, \"f(x)\": 8.377342396058303e-05}, {\"x\": 95.72711127928744, \"f(x)\": 0.00015589924497313917}, {\"x\": 95.89467772842535, \"f(x)\": 0.0002832742485963156}, {\"x\": 96.06224417756327, \"f(x)\": 0.0005025687948305327}, {\"x\": 96.22981062670118, \"f(x)\": 0.0008705811925402407}, {\"x\": 96.3973770758391, \"f(x)\": 0.0014724765287212483}, {\"x\": 96.56494352497701, \"f(x)\": 0.002431715816790467}, {\"x\": 96.73250997411492, \"f(x)\": 0.00392105195593871}, {\"x\": 96.90007642325284, \"f(x)\": 0.0061733046950622405}, {\"x\": 97.06764287239076, \"f(x)\": 0.009489824207088155}, {\"x\": 97.23520932152867, \"f(x)\": 0.014243737475019226}, {\"x\": 97.40277577066658, \"f(x)\": 0.02087445244570326}, {\"x\": 97.5703422198045, \"f(x)\": 0.029869748283816392}, {\"x\": 97.73790866894241, \"f(x)\": 0.041732400993888086}, {\"x\": 97.90547511808033, \"f(x)\": 0.05692991289235449}, {\"x\": 98.07304156721824, \"f(x)\": 0.07582859435379058}, {\"x\": 98.24060801635616, \"f(x)\": 0.09861678278323904}, {\"x\": 98.40817446549407, \"f(x)\": 0.12522585155307717}, {\"x\": 98.575740914632, \"f(x)\": 0.15526104168104304}, {\"x\": 98.7433073637699, \"f(x)\": 0.1879560615517516}, {\"x\": 98.91087381290782, \"f(x)\": 0.22216493574524723}, {\"x\": 99.07844026204573, \"f(x)\": 0.2564011880483981}, {\"x\": 99.24600671118365, \"f(x)\": 0.28892817179381036}, {\"x\": 99.41357316032156, \"f(x)\": 0.3178960155380772}, {\"x\": 99.58113960945948, \"f(x)\": 0.3415117245383448}, {\"x\": 99.74870605859739, \"f(x)\": 0.3582213698947462}, {\"x\": 99.91627250773531, \"f(x)\": 0.3668788712014256}, {\"x\": 100.08383895687322, \"f(x)\": 0.3668759562553257}, {\"x\": 100.25140540601114, \"f(x)\": 0.3582128314824473}, {\"x\": 100.41897185514905, \"f(x)\": 0.3414981577656446}, {\"x\": 100.58653830428698, \"f(x)\": 0.317878335605669}, {\"x\": 100.75410475342488, \"f(x)\": 0.2889075119790039}, {\"x\": 100.9216712025628, \"f(x)\": 0.2563787800382248}, {\"x\": 101.08923765170071, \"f(x)\": 0.22214198979794708}, {\"x\": 101.25680410083864, \"f(x)\": 0.18793366241563886}, {\"x\": 101.42437054997654, \"f(x)\": 0.15524007200891682}, {\"x\": 101.59193699911447, \"f(x)\": 0.12520694883021233}, {\"x\": 101.75950344825237, \"f(x)\": 0.09860032984577366}, {\"x\": 101.92706989739028, \"f(x)\": 0.07581473858227936}, {\"x\": 102.0946363465282, \"f(x)\": 0.056918605903891376}, {\"x\": 102.26220279566613, \"f(x)\": 0.04172344940545399}, {\"x\": 102.42976924480404, \"f(x)\": 0.02986286668927387}, {\"x\": 102.59733569394194, \"f(x)\": 0.020869311620281307}, {\"x\": 102.76490214307987, \"f(x)\": 0.014240003335678762}, {\"x\": 102.93246859221779, \"f(x)\": 0.009487185596014969}, {\"x\": 103.1000350413557, \"f(x)\": 0.006171490160873837}, {\"x\": 103.2676014904936, \"f(x)\": 0.003919837142823719}, {\"x\": 103.43516793963153, \"f(x)\": 0.002430923797984312}, {\"x\": 103.60273438876943, \"f(x)\": 0.0014719735469990495}, {\"x\": 103.77030083790736, \"f(x)\": 0.0008702699824201086}, {\"x\": 103.93786728704526, \"f(x)\": 0.0005023811563776475}, {\"x\": 104.10543373618319, \"f(x)\": 0.00028316398600564276}, {\"x\": 104.2730001853211, \"f(x)\": 0.00015583608589920194}, {\"x\": 104.44056663445902, \"f(x)\": 8.373815438358788e-05}, {\"x\": 104.60813308359693, \"f(x)\": 4.393433693605849e-05}, {\"x\": 104.77569953273485, \"f(x)\": 2.2506611097873894e-05}, {\"x\": 104.94326598187276, \"f(x)\": 1.1257487554526377e-05}, {\"x\": 105.11083243101068, \"f(x)\": 5.497917048373745e-06}, {\"x\": 105.27839888014859, \"f(x)\": 2.621683308723514e-06}, {\"x\": 105.44596532928651, \"f(x)\": 1.2206400456040864e-06}, {\"x\": 105.61353177842442, \"f(x)\": 5.549071708521128e-07}, {\"x\": 105.78109822756234, \"f(x)\": 2.463079326021045e-07}, {\"x\": 105.94866467670025, \"f(x)\": 1.0674850450103211e-07}, {\"x\": 106.11623112583817, \"f(x)\": 4.517212680179381e-08}, {\"x\": 106.28379757497608, \"f(x)\": 1.8663995293716777e-08}, {\"x\": 106.451364024114, \"f(x)\": 7.529463504244672e-09}, {\"x\": 106.61893047325191, \"f(x)\": 2.9658473025048253e-09}, {\"x\": 106.78649692238983, \"f(x)\": 1.1406670094752493e-09}, {\"x\": 106.95406337152774, \"f(x)\": 4.2834560292802e-10}, {\"x\": 107.12162982066565, \"f(x)\": 1.5705619942888248e-10}, {\"x\": 107.28919626980357, \"f(x)\": 5.622651849704932e-11}, {\"x\": 107.45676271894149, \"f(x)\": 1.9654076452505382e-11}, {\"x\": 107.6243291680794, \"f(x)\": 6.70794398897589e-12}, {\"x\": 107.7918956172173, \"f(x)\": 2.23538098707001e-12}, {\"x\": 107.95946206635523, \"f(x)\": 7.273425862652089e-13}, {\"x\": 108.12702851549315, \"f(x)\": 2.3107439189629744e-13}, {\"x\": 108.29459496463106, \"f(x)\": 7.167867352558927e-14}]}};\n",
       "var opt = {};\n",
       "var type = \"vega-lite\";\n",
       "var id = \"30e9588d-9deb-4098-ac1f-cecfaebea3dd\";\n",
       "\n",
       "var output_area = this;\n",
       "\n",
       "require([\"nbextensions/jupyter-vega/index\"], function(vega) {\n",
       "  var target = document.createElement(\"div\");\n",
       "  target.id = id;\n",
       "  target.className = \"vega-embed\";\n",
       "\n",
       "  var style = document.createElement(\"style\");\n",
       "  style.textContent = [\n",
       "    \".vega-embed .error p {\",\n",
       "    \"  color: firebrick;\",\n",
       "    \"  font-size: 14px;\",\n",
       "    \"}\",\n",
       "  ].join(\"\\\\n\");\n",
       "\n",
       "  // element is a jQuery wrapped DOM element inside the output area\n",
       "  // see http://ipython.readthedocs.io/en/stable/api/generated/\\\n",
       "  // IPython.display.html#IPython.display.Javascript.__init__\n",
       "  element[0].appendChild(target);\n",
       "  element[0].appendChild(style);\n",
       "\n",
       "  vega.render(\"#\" + id, spec, type, opt, output_area);\n",
       "}, function (err) {\n",
       "  if (err.requireType !== \"scripterror\") {\n",
       "    throw(err);\n",
       "  }\n",
       "});\n"
      ],
      "text/plain": [
       "<vega.vegalite.VegaLite at 0x1187e3bc0f0>"
      ]
     },
     "metadata": {
      "jupyter-vega": "#30e9588d-9deb-4098-ac1f-cecfaebea3dd"
     },
     "output_type": "display_data"
    },
    {
     "data": {
      "text/plain": []
     },
     "execution_count": 8,
     "metadata": {},
     "output_type": "execute_result"
    },
    {
     "data": {
      "image/png": "[encoded data removed]"
     },
     "metadata": {
      "jupyter-vega": "#30e9588d-9deb-4098-ac1f-cecfaebea3dd"
     },
     "output_type": "display_data"
    }
   ],
   "source": [
    "distribution_name = \"Sampling distribution when H0 is true ~ Normal(mean={0},sd={1:.3f})\".format(mean_pop_IQ, estimated_SE)\n",
    "\n",
    "diff = mean_observed_IQ_gifted - mean_pop_IQ\n",
    "x_axis_limits = ((mean_pop_IQ-diff), (mean_pop_IQ+diff))\n",
    "\n",
    "draw_density_plot(sampling_dist_mean_IQs_when_H0_is_true, distribution_name, x_axis_limits)"
   ]
  },
  {
   "cell_type": "markdown",
   "metadata": {},
   "source": [
    "Logo, como já temos um **modelo** que representa a <font color=blue>distribuição amostral</font> (*<font color=blue>sampling distribution</font>*) das <font color=blue>médias de QIs para a população geral</font> <mark>quando assumimos que a <strong>hipótese</strong> $H_0$ é verdadeira</mark>, então, podemos calcular, utilizando este **modelo** (curva azul na figura abaixo), qual a probabilidade de observarmos uma média de QI igual ou mais extrema do que $118,2$ (marcação vermelha na figura abaixo)."
   ]
  },
  {
   "cell_type": "code",
   "execution_count": 9,
   "metadata": {},
   "outputs": [
    {
     "data": {
      "application/javascript": [
       "var spec = {\"config\": {\"view\": {\"width\": 400, \"height\": 300}}, \"layer\": [{\"data\": {\"name\": \"data-563570b8e2e5c3a75025a7ce9a0ec8a8\"}, \"mark\": \"line\", \"encoding\": {\"x\": {\"type\": \"quantitative\", \"field\": \"x\", \"scale\": {\"domain\": [81.83333333333333, 118.16666666666667]}}, \"y\": {\"type\": \"quantitative\", \"field\": \"f(x)\"}}, \"title\": \"Sampling distribution when H0 is true ~ Normal(mean=100,sd=1.084)\"}, {\"data\": {\"name\": \"data-563570b8e2e5c3a75025a7ce9a0ec8a8\"}, \"mark\": {\"type\": \"rule\", \"color\": \"red\"}, \"encoding\": {\"size\": {\"value\": 1}, \"x\": {\"type\": \"quantitative\", \"field\": \"obs_value\"}, \"y\": {\"type\": \"quantitative\", \"field\": \"f(x)\"}}, \"title\": \"Sampling distribution when H0 is true ~ Normal(mean=100,sd=1.084)\", \"transform\": [{\"calculate\": \"118.16666666666667\", \"as\": \"obs_value\"}]}], \"$schema\": \"https://vega.github.io/schema/vega-lite/v2.6.0.json\", \"datasets\": {\"data-563570b8e2e5c3a75025a7ce9a0ec8a8\": [{\"x\": 91.70551649997748, \"f(x)\": 7.173507695658371e-14}, {\"x\": 91.87308294911539, \"f(x)\": 2.31252547903335e-13}, {\"x\": 92.04064939825331, \"f(x)\": 7.278917932956891e-13}, {\"x\": 92.20821584739122, \"f(x)\": 2.2370333464742013e-12}, {\"x\": 92.37578229652914, \"f(x)\": 6.712795727465458e-12}, {\"x\": 92.54334874566705, \"f(x)\": 1.9667979364093568e-11}, {\"x\": 92.71091519480497, \"f(x)\": 5.6265397946637974e-11}, {\"x\": 92.87848164394288, \"f(x)\": 1.571623030536557e-10}, {\"x\": 93.0460480930808, \"f(x)\": 4.2862817235166886e-10}, {\"x\": 93.2136145422187, \"f(x)\": 1.1414013427524263e-09}, {\"x\": 93.38118099135663, \"f(x)\": 2.9677094828443706e-09}, {\"x\": 93.54874744049454, \"f(x)\": 7.534071341854167e-09}, {\"x\": 93.71631388963246, \"f(x)\": 1.8675120417098007e-08}, {\"x\": 93.88388033877037, \"f(x)\": 4.519833450152279e-08}, {\"x\": 94.05144678790829, \"f(x)\": 1.0680873995708597e-07}, {\"x\": 94.2190132370462, \"f(x)\": 2.4644300172927335e-07}, {\"x\": 94.38657968618412, \"f(x)\": 5.552026455468077e-07}, {\"x\": 94.55414613532203, \"f(x)\": 1.2212706001664057e-06}, {\"x\": 94.72171258445995, \"f(x)\": 2.622995928760931e-06}, {\"x\": 94.88927903359786, \"f(x)\": 5.500582328237187e-06}, {\"x\": 95.05684548273578, \"f(x)\": 1.1262765985376014e-05}, {\"x\": 95.22441193187369, \"f(x)\": 2.251680623005245e-05}, {\"x\": 95.39197838101161, \"f(x)\": 4.395354003030604e-05}, {\"x\": 95.55954483014952, \"f(x)\": 8.377342396058303e-05}, {\"x\": 95.72711127928744, \"f(x)\": 0.00015589924497313917}, {\"x\": 95.89467772842535, \"f(x)\": 0.0002832742485963156}, {\"x\": 96.06224417756327, \"f(x)\": 0.0005025687948305327}, {\"x\": 96.22981062670118, \"f(x)\": 0.0008705811925402407}, {\"x\": 96.3973770758391, \"f(x)\": 0.0014724765287212483}, {\"x\": 96.56494352497701, \"f(x)\": 0.002431715816790467}, {\"x\": 96.73250997411492, \"f(x)\": 0.00392105195593871}, {\"x\": 96.90007642325284, \"f(x)\": 0.0061733046950622405}, {\"x\": 97.06764287239076, \"f(x)\": 0.009489824207088155}, {\"x\": 97.23520932152867, \"f(x)\": 0.014243737475019226}, {\"x\": 97.40277577066658, \"f(x)\": 0.02087445244570326}, {\"x\": 97.5703422198045, \"f(x)\": 0.029869748283816392}, {\"x\": 97.73790866894241, \"f(x)\": 0.041732400993888086}, {\"x\": 97.90547511808033, \"f(x)\": 0.05692991289235449}, {\"x\": 98.07304156721824, \"f(x)\": 0.07582859435379058}, {\"x\": 98.24060801635616, \"f(x)\": 0.09861678278323904}, {\"x\": 98.40817446549407, \"f(x)\": 0.12522585155307717}, {\"x\": 98.575740914632, \"f(x)\": 0.15526104168104304}, {\"x\": 98.7433073637699, \"f(x)\": 0.1879560615517516}, {\"x\": 98.91087381290782, \"f(x)\": 0.22216493574524723}, {\"x\": 99.07844026204573, \"f(x)\": 0.2564011880483981}, {\"x\": 99.24600671118365, \"f(x)\": 0.28892817179381036}, {\"x\": 99.41357316032156, \"f(x)\": 0.3178960155380772}, {\"x\": 99.58113960945948, \"f(x)\": 0.3415117245383448}, {\"x\": 99.74870605859739, \"f(x)\": 0.3582213698947462}, {\"x\": 99.91627250773531, \"f(x)\": 0.3668788712014256}, {\"x\": 100.08383895687322, \"f(x)\": 0.3668759562553257}, {\"x\": 100.25140540601114, \"f(x)\": 0.3582128314824473}, {\"x\": 100.41897185514905, \"f(x)\": 0.3414981577656446}, {\"x\": 100.58653830428698, \"f(x)\": 0.317878335605669}, {\"x\": 100.75410475342488, \"f(x)\": 0.2889075119790039}, {\"x\": 100.9216712025628, \"f(x)\": 0.2563787800382248}, {\"x\": 101.08923765170071, \"f(x)\": 0.22214198979794708}, {\"x\": 101.25680410083864, \"f(x)\": 0.18793366241563886}, {\"x\": 101.42437054997654, \"f(x)\": 0.15524007200891682}, {\"x\": 101.59193699911447, \"f(x)\": 0.12520694883021233}, {\"x\": 101.75950344825237, \"f(x)\": 0.09860032984577366}, {\"x\": 101.92706989739028, \"f(x)\": 0.07581473858227936}, {\"x\": 102.0946363465282, \"f(x)\": 0.056918605903891376}, {\"x\": 102.26220279566613, \"f(x)\": 0.04172344940545399}, {\"x\": 102.42976924480404, \"f(x)\": 0.02986286668927387}, {\"x\": 102.59733569394194, \"f(x)\": 0.020869311620281307}, {\"x\": 102.76490214307987, \"f(x)\": 0.014240003335678762}, {\"x\": 102.93246859221779, \"f(x)\": 0.009487185596014969}, {\"x\": 103.1000350413557, \"f(x)\": 0.006171490160873837}, {\"x\": 103.2676014904936, \"f(x)\": 0.003919837142823719}, {\"x\": 103.43516793963153, \"f(x)\": 0.002430923797984312}, {\"x\": 103.60273438876943, \"f(x)\": 0.0014719735469990495}, {\"x\": 103.77030083790736, \"f(x)\": 0.0008702699824201086}, {\"x\": 103.93786728704526, \"f(x)\": 0.0005023811563776475}, {\"x\": 104.10543373618319, \"f(x)\": 0.00028316398600564276}, {\"x\": 104.2730001853211, \"f(x)\": 0.00015583608589920194}, {\"x\": 104.44056663445902, \"f(x)\": 8.373815438358788e-05}, {\"x\": 104.60813308359693, \"f(x)\": 4.393433693605849e-05}, {\"x\": 104.77569953273485, \"f(x)\": 2.2506611097873894e-05}, {\"x\": 104.94326598187276, \"f(x)\": 1.1257487554526377e-05}, {\"x\": 105.11083243101068, \"f(x)\": 5.497917048373745e-06}, {\"x\": 105.27839888014859, \"f(x)\": 2.621683308723514e-06}, {\"x\": 105.44596532928651, \"f(x)\": 1.2206400456040864e-06}, {\"x\": 105.61353177842442, \"f(x)\": 5.549071708521128e-07}, {\"x\": 105.78109822756234, \"f(x)\": 2.463079326021045e-07}, {\"x\": 105.94866467670025, \"f(x)\": 1.0674850450103211e-07}, {\"x\": 106.11623112583817, \"f(x)\": 4.517212680179381e-08}, {\"x\": 106.28379757497608, \"f(x)\": 1.8663995293716777e-08}, {\"x\": 106.451364024114, \"f(x)\": 7.529463504244672e-09}, {\"x\": 106.61893047325191, \"f(x)\": 2.9658473025048253e-09}, {\"x\": 106.78649692238983, \"f(x)\": 1.1406670094752493e-09}, {\"x\": 106.95406337152774, \"f(x)\": 4.2834560292802e-10}, {\"x\": 107.12162982066565, \"f(x)\": 1.5705619942888248e-10}, {\"x\": 107.28919626980357, \"f(x)\": 5.622651849704932e-11}, {\"x\": 107.45676271894149, \"f(x)\": 1.9654076452505382e-11}, {\"x\": 107.6243291680794, \"f(x)\": 6.70794398897589e-12}, {\"x\": 107.7918956172173, \"f(x)\": 2.23538098707001e-12}, {\"x\": 107.95946206635523, \"f(x)\": 7.273425862652089e-13}, {\"x\": 108.12702851549315, \"f(x)\": 2.3107439189629744e-13}, {\"x\": 108.29459496463106, \"f(x)\": 7.167867352558927e-14}]}};\n",
       "var opt = {};\n",
       "var type = \"vega-lite\";\n",
       "var id = \"66776864-d5cb-4a8c-942d-26b4fd1a5298\";\n",
       "\n",
       "var output_area = this;\n",
       "\n",
       "require([\"nbextensions/jupyter-vega/index\"], function(vega) {\n",
       "  var target = document.createElement(\"div\");\n",
       "  target.id = id;\n",
       "  target.className = \"vega-embed\";\n",
       "\n",
       "  var style = document.createElement(\"style\");\n",
       "  style.textContent = [\n",
       "    \".vega-embed .error p {\",\n",
       "    \"  color: firebrick;\",\n",
       "    \"  font-size: 14px;\",\n",
       "    \"}\",\n",
       "  ].join(\"\\\\n\");\n",
       "\n",
       "  // element is a jQuery wrapped DOM element inside the output area\n",
       "  // see http://ipython.readthedocs.io/en/stable/api/generated/\\\n",
       "  // IPython.display.html#IPython.display.Javascript.__init__\n",
       "  element[0].appendChild(target);\n",
       "  element[0].appendChild(style);\n",
       "\n",
       "  vega.render(\"#\" + id, spec, type, opt, output_area);\n",
       "}, function (err) {\n",
       "  if (err.requireType !== \"scripterror\") {\n",
       "    throw(err);\n",
       "  }\n",
       "});\n"
      ],
      "text/plain": [
       "<vega.vegalite.VegaLite at 0x118018881d0>"
      ]
     },
     "metadata": {
      "jupyter-vega": "#66776864-d5cb-4a8c-942d-26b4fd1a5298"
     },
     "output_type": "display_data"
    },
    {
     "data": {
      "text/plain": []
     },
     "execution_count": 9,
     "metadata": {},
     "output_type": "execute_result"
    },
    {
     "data": {
      "image/png": "[encoded data removed]"
     },
     "metadata": {
      "jupyter-vega": "#66776864-d5cb-4a8c-942d-26b4fd1a5298"
     },
     "output_type": "display_data"
    }
   ],
   "source": [
    "draw_density_and_point_plot(\n",
    "    sampling_dist_mean_IQs_when_H0_is_true, distribution_name, mean_observed_IQ_gifted, \n",
    "    False, '', x_axis_limits\n",
    ")"
   ]
  },
  {
   "cell_type": "code",
   "execution_count": 10,
   "metadata": {},
   "outputs": [
    {
     "name": "stdout",
     "output_type": "stream",
     "text": [
      "Observed average IQ of mothers of gifted children = 118.2\n",
      "Probability(IQ >= 118.2 | H0 is true) ~ 0.0 (0.0%)\n"
     ]
    }
   ],
   "source": [
    "# use the CDF (cumulative distribution function) to calculate the probability \n",
    "# that we will take a value grater than or equal to the observed mean\n",
    "probability = 1.0 - sampling_dist_mean_IQs_when_H0_is_true.cdf(x=mean_observed_IQ_gifted)\n",
    "\n",
    "print(\"Observed average IQ of mothers of gifted children = {0:.1f}\".format(mean_observed_IQ_gifted))\n",
    "print(\"Probability(IQ >= 118.2 | H0 is true) ~ {0} ({1}%)\".format(probability, probability*100))"
   ]
  },
  {
   "cell_type": "markdown",
   "metadata": {},
   "source": [
    "Então, <mark>se a <strong>hipótese</strong> $H_0$ for verdadeira e as condições <strong>(1)</strong> e <strong>(2)</strong> do Teorema Central do Limite (<em>Central Limit Theorem - CLT</em>) forem válidas para o nosso caso</mark>, a probabilidade de observarmos uma média de QI igual ou maior do que $118,2$ é de praticamente $0\\%$. No entanto, os dados que temos mostram que observamos um <font color=gray>QI médio</font> $\\bar{x}_{gifted}=118,2$. Logo:\n",
    "- ou as condições **(1)** e **(2)** do Teorema Central do Limite (*Central Limit Theorem - CLT*) não são válidas para o nosso caso;\n",
    "- ou temos uma evidência forte o suficiente para acreditar que a **hipótese** $H_0$ não seja verdadeira, mostrando que a **hipótese** válida é a $H_A$.\n",
    "\n",
    "Vamos verificar se as condições **(1)** e **(2)** do Teorema Central do Limite (*Central Limit Theorem - CLT*) são válidas para o nosso caso.\n",
    "\n",
    "A condição **(1)** exige que:\n",
    "- **(1a)** o <font color=gray>tamanho da amostra</font> (*<font color=gray>sample size</font>*) seja suficientemente grande ($n > 30$ ou maior se os dados são consideravelmente enviesados), ou\n",
    "- **(1b)** que a <font color=orange>população</font> (*<font color=orange>population</font>*) tenha uma distribuição normal.\n",
    "\n",
    "Como temos uma <font color=gray>amostra aleatória</font> (*<font color=gray>random sample</font>*) de $n = 36$ QIs de <font color=gray>mães de crianças superdotadas</font> e o histograma desta <font color=gray>amostra aleatória</font> (*<font color=gray>random sample</font>*) não é consideravelmente enviesado, então, a condição **(1a)** está satisfeita, o que já satisfaz a condição **(1)**."
   ]
  },
  {
   "cell_type": "code",
   "execution_count": 11,
   "metadata": {},
   "outputs": [
    {
     "data": {
      "text/plain": [
       "array([[<matplotlib.axes._subplots.AxesSubplot object at 0x0000011801A03438>]],\n",
       "      dtype=object)"
      ]
     },
     "execution_count": 11,
     "metadata": {},
     "output_type": "execute_result"
    },
    {
     "data": {
      "image/png": "[encoded data removed]",
      "text/plain": [
       "<Figure size 432x288 with 1 Axes>"
      ]
     },
     "metadata": {
      "needs_background": "light"
     },
     "output_type": "display_data"
    }
   ],
   "source": [
    "# histogram of IQ of mothers of gifted children from this random sample\n",
    "gifted_df.hist(column='motheriq', bins=(100,105,110,115,120,125,130,135))"
   ]
  },
  {
   "cell_type": "markdown",
   "metadata": {},
   "source": [
    "A condição **(2)** exige que:\n",
    "- **(2)** as observações da <font color=gray>amostra</font> (<em><font color=gray>sample</font></em>) sejam independentes.\n",
    "\n",
    "<mark>A independência de observações em uma amostra é viabilizada pelo uso de <strong>amostragem aleatória</strong> (no caso de estudos observacionais) ou <strong>atribuição aleatória</strong> (no caso de experimentos)</mark>. O nosso caso trata de um estudo observacional e, conforme informado no enunciado, os pesquisadores obtiveram uma **<font color=gray>amostra aleatória</font>** (***<font color=gray>random sample</font>***) de $n = 36$ QIs de <font color=gray>mães de crianças superdotadas</font>. Logo, a condição **(2)** também está safisfeita.\n",
    "\n",
    "Portanto, concluímos que temos uma evidência forte o suficiente para acreditar que a **hipótese** $H_0$ não é verdadeira, mostrando que a **hipótese** válida é a $H_A$, ou seja, a de que o <font color=orange>QI médio das mães de crianças superdotadas</font> **é maior do que** o <font color=orange>QI médio para a população geral</font>."
   ]
  },
  {
   "cell_type": "markdown",
   "metadata": {},
   "source": [
    "![HT-gifted-05](figures/HT_gifted_05_v2.jpg)"
   ]
  },
  {
   "cell_type": "markdown",
   "metadata": {},
   "source": [
    "## Hipóteses Nula e Alternativa\n",
    "\n",
    "No exemplo anterior, as notações $H_0$ e $H_A$ para as **hipóteses** não foram utilizadas à toa. Denota-se por $H_0$ a **hipótese nula** (***null hypothesis***) e por $H_A$ a **hipótese alternativa** (***alternative hypothesis***).\n",
    "\n",
    "A **hipótese nula** (***null hypothesis***) $H_0$ geralmente representa uma **posição cética** ou uma **perspectiva de nenhuma diferença**, por exemplo, o <font color=orange>QI médio das mães de crianças superdotadas</font> **não é diferente** do <font color=orange>QI médio para a população geral</font>.\n",
    "\n",
    "A **hipótese alternativa** (***alternative hypothesis***) $H_A$ geralmente representa uma **nova perspectiva**, como a **possibilidade de que houve uma mudança**, por exemplo, o <font color=orange>QI médio das mães de crianças superdotadas</font> **é maior do que** o <font color=orange>QI médio para a população geral</font>.\n",
    "\n",
    "***\n",
    "<mark>Além disto, as <strong>hipóteses</strong> sempre devem ser construídas em relação aos parâmetros da <font color=orange>população</font> (<em><font color=orange>population</font></em>) -- por exemplo, a <font color=orange>média da população</font> (<em><font color=orange>population mean</font></em>) $\\mu$ -- e não em relação às <font color=blue>estatísticas das amostras</font> (<em><font color=blue>sample statistics</font></em>) -- por exemplo, a <font color=gray>média da amostra</font> (<em><font color=gray>sample mean</font></em>) $\\bar{x}$.</mark>\n",
    "\n",
    "<mark>Observe que o parâmetro da <font color=orange>população</font> (<em><font color=orange>population</font></em>) é <strong>desconhecido</strong>, enquanto que a <font color=blue>estatística da amostra</font> (<em><font color=blue>sample statistic</font></em>) é <strong>medida</strong> utilizando os dados observados e, portanto, não há razão para criar <strong>hipóteses</strong> sobre isso.</mark>\n",
    "***"
   ]
  },
  {
   "cell_type": "markdown",
   "metadata": {},
   "source": [
    "## Utilizando o escore-z (*z-score*)\n",
    "\n",
    "No exemplo anterior, a partir do momento em que assumimos que a <font color=blue>distribuição amostral</font> (*<font color=blue>sampling distribution</font>*) das <font color=blue>médias de QIs para a população geral</font> é uma **normal**:\n",
    "\n",
    "$$\n",
    "\\text{se } H_0 = True \\enspace \\Rightarrow \\enspace \\text{Médias QIs população geral} \\sim N\\left(mean=100, SE_{pop\\_geral}=1,084\\right)\n",
    "$$\n",
    "\n",
    "então, ao invés de verificar:\n",
    "- **(a)** Qual a probabilidade de observarmos uma média de QI igual ou mais extrema do que $118,2$ dentro do modelo $N\\left(mean=100, SE_{pop\\_geral}=1,084\\right)$?\n",
    "\n",
    "podemos transformar esta pergunta em:\n",
    "- **(b)** Qual a probabilidade de observarmos uma distância **em unidades de QI** igual ou mais extrema do que $118,2 - 100 = 18,2$ dentro do modelo $N\\left(mean=100, SE_{pop\\_geral}=1,084\\right)$?\n",
    "\n",
    "Como a distribuição é uma **normal** e estamos medindo a distância de um valor ($118,2$) para a média de uma **normal** ($\\mu=100$), então, é possível **generalizar** este conceito para trabalharmos com o **escore-z** (***z-score***), que como já vimos [aqui](002.Intervalo-de-Confiança-Margem-de-Erro-Acurácia-e-Precisão.ipynb), é também uma medida de distância, no caso, o número de **desvios padrão** (***standard deviations***) acima (positivo) ou abaixo (negativo) de uma média de uma distribuição **normal**.\n",
    "\n",
    "A **generalização** aqui ocorre a partir do momento que substituímos uma distância ($18,2$) dada em **unidades de QI** por uma distância dada em **desvios padrão** (***standard deviations***), em outras palavras, uma distância dada em **escores-z** (***z-scores***)."
   ]
  },
  {
   "cell_type": "code",
   "execution_count": 12,
   "metadata": {},
   "outputs": [
    {
     "name": "stdout",
     "output_type": "stream",
     "text": [
      "Distance from the mean in IQ units = 18.2\n",
      "Standard deviation of our model when H0 is true (i.e. the estimated SE) = 1.084\n",
      "Observed z-score (i.e. distance in standard deviations) = 16.76\n"
     ]
    }
   ],
   "source": [
    "distance_in_IQ_units = mean_observed_IQ_gifted - mean_pop_IQ\n",
    "\n",
    "std_of_our_model_when_H0_is_true = estimated_SE\n",
    "\n",
    "distance_in_standard_deviations = distance_in_IQ_units / std_of_our_model_when_H0_is_true\n",
    "\n",
    "observed_z_score = distance_in_standard_deviations\n",
    "\n",
    "print(\"Distance from the mean in IQ units = {0:.1f}\".format(distance_in_IQ_units))\n",
    "print(\"Standard deviation of our model when H0 is true (i.e. the estimated SE) = {0:.3f}\".format(\n",
    "    std_of_our_model_when_H0_is_true))\n",
    "print(\"Observed z-score (i.e. distance in standard deviations) = {0:.2f}\".format(observed_z_score))"
   ]
  },
  {
   "cell_type": "markdown",
   "metadata": {},
   "source": [
    "Assim, a pergunta passa a ser: Qual a probabilidade de observarmos um **escore-z** (***z-score***) igual ou mais extremo do que $16,76$?\n",
    "\n",
    "Uma vez que já sabemos que os valores de **escore-z** (***z-score***) são distribuídos de acordo com a **distribuição normal padrão** (***standard normal distribution***) que também é conhecida como **distribuição z** (***z distribution***), então:"
   ]
  },
  {
   "cell_type": "code",
   "execution_count": 13,
   "metadata": {},
   "outputs": [
    {
     "data": {
      "application/javascript": [
       "var spec = {\"config\": {\"view\": {\"width\": 400, \"height\": 300}}, \"layer\": [{\"data\": {\"name\": \"data-e9c9a9ab7cfbd85c0fbea1b4ae5f7a16\"}, \"mark\": \"line\", \"encoding\": {\"x\": {\"type\": \"quantitative\", \"field\": \"x\", \"scale\": {\"domain\": [-16.756487652861495, 16.756487652861495]}}, \"y\": {\"type\": \"quantitative\", \"field\": \"f(x)\"}}, \"title\": \"z distribution ~ Normal(mean=1,sd=0)\"}, {\"data\": {\"name\": \"data-e9c9a9ab7cfbd85c0fbea1b4ae5f7a16\"}, \"mark\": {\"type\": \"rule\", \"color\": \"red\"}, \"encoding\": {\"size\": {\"value\": 1}, \"x\": {\"type\": \"quantitative\", \"field\": \"obs_value\"}, \"y\": {\"type\": \"quantitative\", \"field\": \"f(x)\"}}, \"title\": \"z distribution ~ Normal(mean=1,sd=0)\", \"transform\": [{\"calculate\": \"16.756487652861495\", \"as\": \"obs_value\"}]}], \"$schema\": \"https://vega.github.io/schema/vega-lite/v2.6.0.json\", \"datasets\": {\"data-e9c9a9ab7cfbd85c0fbea1b4ae5f7a16\": [{\"x\": -7.6506280929352695, \"f(x)\": 7.7772099880097e-14}, {\"x\": -7.496068911136371, \"f(x)\": 2.507141138769669e-13}, {\"x\": -7.341509729337473, \"f(x)\": 7.891491255297149e-13}, {\"x\": -7.186950547538575, \"f(x)\": 2.425295800022686e-12}, {\"x\": -7.032391365739677, \"f(x)\": 7.277725792461336e-12}, {\"x\": -6.877832183940779, \"f(x)\": 2.132318135616972e-11}, {\"x\": -6.723273002141881, \"f(x)\": 6.100053606337786e-11}, {\"x\": -6.568713820342983, \"f(x)\": 1.7038864177803924e-10}, {\"x\": -6.414154638544085, \"f(x)\": 4.6470031741560005e-10}, {\"x\": -6.259595456745187, \"f(x)\": 1.237458479141893e-09}, {\"x\": -6.105036274946288, \"f(x)\": 3.2174635911322777e-09}, {\"x\": -5.9504770931473905, \"f(x)\": 8.168117659608849e-09}, {\"x\": -5.795917911348492, \"f(x)\": 2.024676618428114e-08}, {\"x\": -5.641358729549594, \"f(x)\": 4.9002099592003085e-08}, {\"x\": -5.486799547750696, \"f(x)\": 1.1579746400825819e-07}, {\"x\": -5.332240365951797, \"f(x)\": 2.6718295370116393e-07}, {\"x\": -5.1776811841529, \"f(x)\": 6.019269433459043e-07}, {\"x\": -5.023122002354002, \"f(x)\": 1.3240493092975101e-06}, {\"x\": -4.868562820555104, \"f(x)\": 2.8437399109523896e-06}, {\"x\": -4.714003638756205, \"f(x)\": 5.963495912735641e-06}, {\"x\": -4.559444456957308, \"f(x)\": 1.2210608788653605e-05}, {\"x\": -4.404885275158409, \"f(x)\": 2.441175750273896e-05}, {\"x\": -4.2503260933595115, \"f(x)\": 4.765254670862914e-05}, {\"x\": -4.095766911560613, \"f(x)\": 9.082356041108618e-05}, {\"x\": -3.941207729761715, \"f(x)\": 0.00016901928827121182}, {\"x\": -3.786648547962817, \"f(x)\": 0.00030711381502560936}, {\"x\": -3.6320893661639184, \"f(x)\": 0.0005448635753445302}, {\"x\": -3.477530184365021, \"f(x)\": 0.0009438468644977078}, {\"x\": -3.3229710025661223, \"f(x)\": 0.0015963960243900524}, {\"x\": -3.1684118207672247, \"f(x)\": 0.002636362201129299}, {\"x\": -3.0138526389683262, \"f(x)\": 0.004251036693483774}, {\"x\": -2.8592934571694286, \"f(x)\": 0.006692832707564061}, {\"x\": -2.70473427537053, \"f(x)\": 0.010288461201831437}, {\"x\": -2.5501750935716316, \"f(x)\": 0.015442450479888964}, {\"x\": -2.395615911772734, \"f(x)\": 0.02263118782924207}, {\"x\": -2.2410567299738355, \"f(x)\": 0.03238350254127803}, {\"x\": -2.086497548174938, \"f(x)\": 0.04524448283922916}, {\"x\": -1.9319383663760394, \"f(x)\": 0.06172097472355211}, {\"x\": -1.7773791845771418, \"f(x)\": 0.08221011622277363}, {\"x\": -1.6228200027782433, \"f(x)\": 0.10691609468982248}, {\"x\": -1.4682608209793457, \"f(x)\": 0.13576450807253576}, {\"x\": -1.3137016391804472, \"f(x)\": 0.16832737557964808}, {\"x\": -1.1591424573815488, \"f(x)\": 0.20377391664219605}, {\"x\": -1.0045832755826511, \"f(x)\": 0.24086171376231716}, {\"x\": -0.8500240937837527, \"f(x)\": 0.2779791930570342}, {\"x\": -0.695464911984855, \"f(x)\": 0.31324355654516967}, {\"x\": -0.5409057301859566, \"f(x)\": 0.3446492527898916}, {\"x\": -0.38634654838705895, \"f(x)\": 0.3702523936385393}, {\"x\": -0.23178736658816046, \"f(x)\": 0.3883682758924274}, {\"x\": -0.07722818478926197, \"f(x)\": 0.3977543682324775}, {\"x\": 0.07733099700963564, \"f(x)\": 0.3977512079726875}, {\"x\": 0.23189017880853413, \"f(x)\": 0.3883590189112916}, {\"x\": 0.3864493606074326, \"f(x)\": 0.37023768512429056}, {\"x\": 0.5410085424063293, \"f(x)\": 0.34463008496394754}, {\"x\": 0.6955677242052278, \"f(x)\": 0.3132211580582803}, {\"x\": 0.8501269060041263, \"f(x)\": 0.2779548992515578}, {\"x\": 1.0046860878030248, \"f(x)\": 0.24083683674843387}, {\"x\": 1.1592452696019233, \"f(x)\": 0.20374963245759614}, {\"x\": 1.31380445140082, \"f(x)\": 0.16830464115871593}, {\"x\": 1.4683636331997185, \"f(x)\": 0.13574401454951895}, {\"x\": 1.622922814998617, \"f(x)\": 0.10689825711927484}, {\"x\": 1.7774819967975155, \"f(x)\": 0.08219509438838238}, {\"x\": 1.9320411785964122, \"f(x)\": 0.0617087161706454}, {\"x\": 2.0866003603953107, \"f(x)\": 0.045234777910213186}, {\"x\": 2.241159542194209, \"f(x)\": 0.032376041811035136}, {\"x\": 2.3957187239931077, \"f(x)\": 0.02262561436636702}, {\"x\": 2.550277905792006, \"f(x)\": 0.015438402085852284}, {\"x\": 2.704837087590903, \"f(x)\": 0.010285600532649515}, {\"x\": 2.8593962693898014, \"f(x)\": 0.006690865467266428}, {\"x\": 3.0139554511887, \"f(x)\": 0.0042497196451032546}, {\"x\": 3.1685146329875984, \"f(x)\": 0.00263550352824128}, {\"x\": 3.323073814786495, \"f(x)\": 0.0015958507131365034}, {\"x\": 3.4776329965853936, \"f(x)\": 0.0009435094638065173}, {\"x\": 3.632192178384292, \"f(x)\": 0.0005446601457655984}, {\"x\": 3.7867513601831906, \"f(x)\": 0.00030699427304448676}, {\"x\": 3.941310541982089, \"f(x)\": 0.0001689508139067131}, {\"x\": 4.095869723780986, \"f(x)\": 9.078532264538902e-05}, {\"x\": 4.250428905579884, \"f(x)\": 4.763172753581633e-05}, {\"x\": 4.404988087378783, \"f(x)\": 2.4400704376823975e-05}, {\"x\": 4.559547269177681, \"f(x)\": 1.2204886139864622e-05}, {\"x\": 4.714106450976578, \"f(x)\": 5.960606330392485e-06}, {\"x\": 4.8686656327754765, \"f(x)\": 2.8423168244932967e-06}, {\"x\": 5.023224814574375, \"f(x)\": 1.323365689031343e-06}, {\"x\": 5.1777839963732735, \"f(x)\": 6.016066023294286e-07}, {\"x\": 5.332343178172172, \"f(x)\": 2.670365175349915e-07}, {\"x\": 5.486902359971069, \"f(x)\": 1.1573215930512689e-07}, {\"x\": 5.641461541769967, \"f(x)\": 4.897368632575301e-08}, {\"x\": 5.796020723568866, \"f(x)\": 2.0234704801711514e-08}, {\"x\": 5.950579905367764, \"f(x)\": 8.163122039306739e-09}, {\"x\": 6.105139087166663, \"f(x)\": 3.2154446949169913e-09}, {\"x\": 6.259698268965559, \"f(x)\": 1.2366623464352257e-09}, {\"x\": 6.414257450764458, \"f(x)\": 4.6439396774159653e-10}, {\"x\": 6.568816632563356, \"f(x)\": 1.702736087697091e-10}, {\"x\": 6.723375814362255, \"f(x)\": 6.095838462833196e-11}, {\"x\": 6.877934996161152, \"f(x)\": 2.1308108414526906e-11}, {\"x\": 7.03249417796005, \"f(x)\": 7.27246574526502e-12}, {\"x\": 7.1870533597589485, \"f(x)\": 2.423504382684111e-12}, {\"x\": 7.341612541557847, \"f(x)\": 7.885536987755564e-13}, {\"x\": 7.4961717233567455, \"f(x)\": 2.5052096475993395e-13}, {\"x\": 7.650730905155642, \"f(x)\": 7.771094969450853e-14}]}};\n",
       "var opt = {};\n",
       "var type = \"vega-lite\";\n",
       "var id = \"0b18a27f-93a1-475f-b873-150a4247f28e\";\n",
       "\n",
       "var output_area = this;\n",
       "\n",
       "require([\"nbextensions/jupyter-vega/index\"], function(vega) {\n",
       "  var target = document.createElement(\"div\");\n",
       "  target.id = id;\n",
       "  target.className = \"vega-embed\";\n",
       "\n",
       "  var style = document.createElement(\"style\");\n",
       "  style.textContent = [\n",
       "    \".vega-embed .error p {\",\n",
       "    \"  color: firebrick;\",\n",
       "    \"  font-size: 14px;\",\n",
       "    \"}\",\n",
       "  ].join(\"\\\\n\");\n",
       "\n",
       "  // element is a jQuery wrapped DOM element inside the output area\n",
       "  // see http://ipython.readthedocs.io/en/stable/api/generated/\\\n",
       "  // IPython.display.html#IPython.display.Javascript.__init__\n",
       "  element[0].appendChild(target);\n",
       "  element[0].appendChild(style);\n",
       "\n",
       "  vega.render(\"#\" + id, spec, type, opt, output_area);\n",
       "}, function (err) {\n",
       "  if (err.requireType !== \"scripterror\") {\n",
       "    throw(err);\n",
       "  }\n",
       "});\n"
      ],
      "text/plain": [
       "<vega.vegalite.VegaLite at 0x1187ef1ac50>"
      ]
     },
     "metadata": {
      "jupyter-vega": "#0b18a27f-93a1-475f-b873-150a4247f28e"
     },
     "output_type": "display_data"
    },
    {
     "data": {
      "text/plain": []
     },
     "execution_count": 13,
     "metadata": {},
     "output_type": "execute_result"
    },
    {
     "data": {
      "image/png": "[encoded data removed]"
     },
     "metadata": {
      "jupyter-vega": "#0b18a27f-93a1-475f-b873-150a4247f28e"
     },
     "output_type": "display_data"
    }
   ],
   "source": [
    "z_distribution = st.norm(loc=0, scale=1)\n",
    "distribution_name = \"z distribution ~ Normal(mean=1,sd=0)\"\n",
    "\n",
    "x_axis_limits = (-observed_z_score, +observed_z_score)\n",
    "\n",
    "draw_density_and_point_plot(z_distribution, distribution_name, observed_z_score, False, '', x_axis_limits)"
   ]
  },
  {
   "cell_type": "code",
   "execution_count": 14,
   "metadata": {},
   "outputs": [
    {
     "name": "stdout",
     "output_type": "stream",
     "text": [
      "Observed z-score = 16.76\n",
      "Probability(z-score >= 16.76 | H0 is true) ~ 0.0 (0.0%)\n"
     ]
    }
   ],
   "source": [
    "# use the CDF (cumulative distribution function) to calculate the probability \n",
    "# that we will take a value grater than or equal to the observed z-score\n",
    "probability = 1.0 - z_distribution.cdf(x=observed_z_score)\n",
    "\n",
    "print(\"Observed z-score = {0:.2f}\".format(observed_z_score))\n",
    "print(\"Probability(z-score >= 16.76 | H0 is true) ~ {0} ({1}%)\".format(probability, probability*100))"
   ]
  },
  {
   "cell_type": "markdown",
   "metadata": {},
   "source": [
    "Logo, utilizando o **escore-z** (***z-score***), chegaríamos na mesma conclusão de antes, ou seja:\n",
    "\n",
    "><mark>Se a <strong>hipótese nula</strong> (<strong><em>null hypothesis</em></strong>) $H_0$ for verdadeira e as condições <strong>(1)</strong> e <strong>(2)</strong> do Teorema Central do Limite (<em>Central Limit Theorem - CLT</em>) forem válidas para o nosso caso</mark>, a probabilidade de observarmos um <strong>escore-z</strong> (<strong><em>z-score</em></strong>) igual ou maior do que $16,76$ é de praticamente $0\\%$. No entanto, os dados que temos mostram que observamos um <strong>escore-z</strong> (<strong><em>z-score</em></strong>) de $16,76 = \\frac{\\bar{x}_{gifted}-\\mu_{pop\\_geral}}{\\hat{se}_{pop\\_geral}}$.\n",
    "\n",
    "E como já sabemos que as condições **(1)** e **(2)** do Teorema Central do Limite (*Central Limit Theorem - CLT*) são válidas para o nosso caso, então:\n",
    "\n",
    ">Concluímos que temos uma evidência forte o suficiente para acreditar que a <strong>hipótese nula</strong> (<strong><em>null hypothesis</em></strong>) $H_0$ não é verdadeira, mostrando que a <strong>hipótese alternativa</strong> (<strong><em>alternative hypothesis</em></strong>) $H_A$ é válida, ou seja, a de que o <font color=orange>QI médio das mães de crianças superdotadas</font> <strong>é maior do que</strong> o <font color=orange>QI médio para a população geral</font>."
   ]
  },
  {
   "cell_type": "markdown",
   "metadata": {},
   "source": [
    "## O p-valor (*p-value*)\n",
    "\n",
    "Nas duas abordagens anteriores (sem o uso e com o uso do ***z-score***) tivemos que calcular uma **probabilidade** que, no caso deste exemplo das mães de crianças superdotadas, nos ajudou a rejeitar a **hipótese nula** (***null hypothesis***) $H_0$ em detrimento da **hipótese alternativa** (***alternative hypothesis***) $H_A$, ou seja, vimos que:\n",
    "- **(sem o uso do *z-score*):** <mark>se a <strong>hipótese nula</strong> (<strong><em>null hypothesis</em></strong>) $H_0$ for verdadeira e as condições <strong>(1)</strong> e <strong>(2)</strong> do Teorema Central do Limite (<em>Central Limit Theorem - CLT</em>) forem válidas para o nosso caso</mark>, a **probabilidade** de observarmos uma média de QI igual ou maior do que $118,2$ é de praticamente $0\\%$.\n",
    "- **(com o uso do *z-score*):** <mark>se a <strong>hipótese nula</strong> (<strong><em>null hypothesis</em></strong>) $H_0$ for verdadeira e as condições <strong>(1)</strong> e <strong>(2)</strong> do Teorema Central do Limite (<em>Central Limit Theorem - CLT</em>) forem válidas para o nosso caso</mark>, a **probabilidade** de observarmos um <strong>escore-z</strong> (<strong><em>z-score</em></strong>) igual ou maior do que $16,76$ é de praticamente $0\\%$.\n",
    "\n",
    "Em outras palavras, trata-se de uma **probabilidade condicional** (***conditional probability***) denominada de **p-valor** (***p-value***) onde assumimos que a **hipótese nula** (***null hypothesis***) $H_0$ é verdadeira, ou seja:\n",
    "- **(sem o uso do *z-score*):** $\\text{p-value} = \\Pr\\left( \\bar{x} \\geq 118,2 \\;\\middle\\vert\\; H_0 = True \\right) \\approx 0$.\n",
    "- **(com o uso do *z-score*):** $\\text{p-value} = \\Pr\\left( \\text{z-score} \\geq 16,76 \\;\\middle\\vert\\; H_0 = True \\right) \\approx 0$."
   ]
  },
  {
   "cell_type": "code",
   "execution_count": 15,
   "metadata": {},
   "outputs": [
    {
     "name": "stdout",
     "output_type": "stream",
     "text": [
      "Observerd average IQ of mothers of gifted children = 118.2\n",
      "p-value = Probability(IQ >= 118.2 | H0 is true) ~ 0.0 (0.0%)\n",
      "-------------------------\n",
      "Observed z-score = 16.76\n",
      "p-value = Probability(z-score >= 16.76 | H0 is true) ~ 0.0 (0.0%)\n"
     ]
    }
   ],
   "source": [
    "# use the CDF (cumulative distribution function) to calculate the probability \n",
    "# that we will take a value grater than or equal to the observed mean\n",
    "p_value = 1.0 - sampling_dist_mean_IQs_when_H0_is_true.cdf(x=mean_observed_IQ_gifted)\n",
    "\n",
    "print(\"Observerd average IQ of mothers of gifted children = {0:.1f}\".format(mean_observed_IQ_gifted))\n",
    "print(\"p-value = Probability(IQ >= 118.2 | H0 is true) ~ {0} ({1}%)\".format(p_value, p_value*100))\n",
    "\n",
    "print(\"-------------------------\")\n",
    "\n",
    "# use the CDF (cumulative distribution function) to calculate the probability \n",
    "# that we will take a value grater than or equal to the observed z-score\n",
    "p_value = 1.0 - z_distribution.cdf(x=observed_z_score)\n",
    "\n",
    "print(\"Observed z-score = {0:.2f}\".format(observed_z_score))\n",
    "print(\"p-value = Probability(z-score >= 16.76 | H0 is true) ~ {0} ({1}%)\".format(p_value, p_value*100))"
   ]
  },
  {
   "cell_type": "markdown",
   "metadata": {},
   "source": [
    "Esta **probabilidade condicional** (***conditional probability***) quantifica a força da evidência contra a **hipótese nula** (***null hypothesis***) $H_0$ e a favor da **hipótese alternativa** (***alternative hypothesis***) $H_A$. Quanto <font color=magenta>menor</font> o valor do **p-valor** (***p-value***) <font color=magenta>mais forte é a evidência contra a</font> **hipótese nula** (***null hypothesis***) $H_0$, uma vez que o **p-valor** (***p-value***) é uma probabilidade <font color=magenta>condicionada à</font> **<font color=magenta>validade</font>** <font color=magenta>da</font> **hipótese nula** (***null hypothesis***) $H_0$.\n",
    "\n",
    "Mas o quão pequeno deve ser o valor do **p-valor** (***p-value***) para que possamos rejeitar a **hipótese nula** (***null hypothesis***) $H_0$ e ficar com a **hipótese alternativa** (***alternative hypothesis***) $H_A$? Este é um assunto para um outro tópico :).\n",
    "\n",
    "Pela definição da wikipedia:\n",
    "\n",
    ">*In statistical hypothesis testing, the <strong>p-value</strong> or <strong>probability value</strong> or <strong>asymptotic significance</strong> is the probability for a given statistical model that, when the null hypothesis is true, the statistical summary (such as the sample mean difference between two compared groups) would be greater than or equal to the actual observed results.*\n",
    "<small>(Fonte: https://en.wikipedia.org/wiki/P-value)</small>\n",
    "\n",
    "ou seja, para o nosso exemplo:\n",
    "- **(sem o uso do *z-score*):** \n",
    "  - o modelo estatístico (*statistical model*): $\\bar{X} \\sim N\\left(mean=100, std=1,084\\right)$\n",
    "  - a estatística utilizada (*statistical summary*): $\\bar{x}_{observed} = 118,2$ \n",
    "  - o p-valor (*p-value*): $\\Pr\\left( \\bar{x} \\geq 118,2 \\;\\middle\\vert\\; H_0 = True \\right) \\approx 0$\n",
    "- **(com o uso do *z-score*):**\n",
    "  - o modelo estatístico (*statistical model*): $\\text{z-score} \\sim N\\left(mean=0, std=1\\right)$\n",
    "  - a estatística utilizada (*statistical summary*): $\\text{z-score}_{observed} = 16,76$ \n",
    "  - o p-valor (*p-value*): $\\Pr\\left( \\text{z-score} \\geq 16,76 \\;\\middle\\vert\\; H_0 = True \\right) \\approx 0$\n",
    "\n",
    "Então, de maneira mais genérica, podemos definir o **p-valor** (***p-value***) como:\n",
    "\n",
    "$$\n",
    "\\text{p-value} = \\Pr\\left( \\text{observed or more extreme sample statistic} \\;\\middle\\vert\\; H_0 = True \\right).\n",
    "$$"
   ]
  },
  {
   "cell_type": "markdown",
   "metadata": {},
   "source": [
    "![HT-gifted-06](figures/HT_gifted_06.jpg)"
   ]
  },
  {
   "cell_type": "markdown",
   "metadata": {},
   "source": [
    "## O teste Z (*Z test*)\n",
    "\n",
    "Todo o procedimento que fizemos anteriormente e <mark>tudo o que assumimos ao longo do procedimento</mark> para chegar à conclusão de que o <font color=orange>QI médio das mães de crianças superdotadas</font> **é maior do que** o <font color=orange>QI médio para a população geral</font>, na prática, foi um **teste Z** (***Z test***).\n",
    "\n",
    "Pela wikipedia:\n",
    "\n",
    ">*A <strong>Z-test</strong> is any statistical test for which the distribution of the test statistic under the null hypothesis can be approximated by a normal distribution.*\n",
    "<small>(Fonte: https://en.wikipedia.org/wiki/Z-test)</small>\n",
    "\n",
    "Utilizando Python (e talvez qualquer outra linguagem de programação com bibliotecas/pacotes estatísticos), <font color=magenta>com apenas uma linha de código</font> (como a abaixo `ztest(.)`) podemos executar um **teste Z** (***Z test***) e chegar na mesma conclusão de antes:"
   ]
  },
  {
   "cell_type": "code",
   "execution_count": 16,
   "metadata": {},
   "outputs": [
    {
     "name": "stdout",
     "output_type": "stream",
     "text": [
      "test statistic (in this case, the z-score) = 16.76\n",
      "p-value = 0.000\n"
     ]
    }
   ],
   "source": [
    "from statsmodels.stats.weightstats import ztest\n",
    "\n",
    "# run a one-sided Z test\n",
    "test_statistic, p_value = ztest(x1=np.array(gifted_df.motheriq), x2=None, value=mean_pop_IQ, alternative='larger')\n",
    "\n",
    "print(\"test statistic (in this case, the z-score) = {:.2f}\".format(test_statistic))\n",
    "print(\"p-value = {:.3f}\".format(p_value))"
   ]
  },
  {
   "cell_type": "markdown",
   "metadata": {},
   "source": [
    "Ao executar o **teste Z** (***Z test***) obtivemos como resultado:\n",
    "- uma **estatística de teste** (***test statistic***) -- que no caso é o **escore-z** (***z-score***) -- de $16,76$, ou seja, idêntico ao **escore-z** (***z-score***) que calculamos anteriormente;\n",
    "- um **p-valor** (***p-value***) praticamente igual a $0$, ou seja, idêntico ao **p-valor** (***p-value***) que calculamos anteriormente.\n",
    "\n",
    "e tudo isto <font color=magenta>com apenas uma linha de código</font> ... e é \"aqui que mora o perigo\", ou seja, é tão fácil e rápido utilizar esta \"<font color=magenta>apenas uma linha de código</font>\" que muitas pessoas esquecem (ou não sabem) as premissas por trás do uso desta \"<font color=magenta>apenas uma linha de código</font>\" e, como consequência, podem acabar tirando conclusões equivocadas. Talvez este seja o motivo do nome ***Danger Zone!*** no famoso diagrama de Venn abaixo."
   ]
  },
  {
   "cell_type": "markdown",
   "metadata": {},
   "source": [
    "![ds-venn-diagram](figures/Data_Science_VD.png)\n",
    "<small>(Fonte: Image of <a href=\"https://static1.squarespace.com/static/5150aec6e4b0e340ec52710a/t/51525c33e4b0b3e0d10f77ab/1364352052403/Data_Science_VD.png?format=750w\" target=\"_blank\">Data Science Venn Diagram</a>, by Drew Conway, licensed under a Creative Commons Attribution-<a href=\"http://creativecommons.org/licenses/by-nc/3.0/legalcode\" target=\"_blank\">Attribution-NonCommercial</a>.)</small>"
   ]
  },
  {
   "cell_type": "markdown",
   "metadata": {},
   "source": [
    "Então, vamos listar aqui tudo o que tivemos que assumir para executar o **teste de hipótese** (***hypothesis testing***) -- na prática o **teste Z** (***Z test***) -- do exemplo do <font color=orange>QI médio das mães de crianças superdotadas</font>:\n",
    "- Que as condições **(1)** e **(2)** impostas pelo Teorema Central do Limite (*Central Limit Theorem - CLT*) são válidas para o nosso caso, ou seja:\n",
    "  - **(1a)** o <font color=gray>tamanho da amostra</font> (*<font color=gray>sample size</font>*) é suficientemente grande ($n > 30$ ou maior se os dados são consideravelmente enviesados), ou\n",
    "  - **(1b)** sabe-se de antemão que a <font color=orange>população</font> (*<font color=orange>population</font>*) tem uma distribuição normal, e\n",
    "  - **(2)** as observações da <font color=gray>amostra</font> (*<font color=gray>sample</font>*) são independentes.\n",
    "- Que a <font color=blue>distribuição amostral</font> (*<font color=blue>sampling distribution</font>*) das <font color=blue>médias de QIs</font> é aproximadamente normal (*nearly normal*).\n",
    "- Que o <font color=gray>desvio padrão</font> (*<font color=gray>standard deviation</font>*) $s$ da <font color=gray>amostra aleatória</font> (*<font color=gray>random sample</font>*) -- que utilizamos para calcular a estimativa $\\hat{se}$ para o <font color=blue>erro padrão</font> (*<font color=blue>standard error</font>*) $SE=\\frac{\\sigma}{\\sqrt{n}}$ da <font color=blue>distribuição amostral</font> (*<font color=blue>sampling distribution</font>*) das médias de QIs -- é uma boa aproximação para o <font color=orange>desvio padrão</font> (*<font color=orange>standard deviation</font>*) $\\sigma$ da <font color=orange>população</font> (*<font color=orange>population</font>*);\n",
    "- Que a estimativa $\\hat{se}$ também é uma boa aproximação para o <font color=blue>erro padrão</font> (*<font color=blue>standard error</font>*) $SE=\\frac{\\sigma}{\\sqrt{n}}$ da <font color=blue>distribuição amostral</font> (*<font color=blue>sampling distribution</font>*) das médias de QIs.\n",
    "\n",
    "Ou seja, por trás do uso desta \"<font color=magenta>apenas uma linha de código</font>\" temos todas as premissas anteriores que tivemos que assumir para poder utilizar o **teste Z** (***Z test***)."
   ]
  },
  {
   "cell_type": "markdown",
   "metadata": {},
   "source": [
    "## Resumo\n",
    "\n",
    "**R1.** Em **teste de hipótese** (***hypothesis testing***) avaliamos duas afirmações concorrentes:\n",
    "- A hipótese nula (*null hypothesis*) $H_0$ que geralmente representa uma posição cética ou uma perspectiva de nenhuma diferença;\n",
    "- A hipótese alternativa (*alternative hypothesis*) $H_A$ que geralmente representa uma nova perspectiva, como a possibilidade de que houve uma mudança.\n",
    "\n",
    "**R2.** As **hipóteses** sempre devem ser construídas em relação aos parâmetros da <font color=orange>população</font> (*<font color=orange>population</font>*) -- por exemplo, a <font color=orange>média da população</font> (*<font color=orange>population mean</font>*) $\\mu$ -- e não em relação às <font color=blue>estatísticas das amostras</font> (*<font color=blue>sample statistics</font>*) -- por exemplo, a <font color=gray>média da amostra</font> (*<font color=gray>sample mean</font>*) $\\bar{x}$.\n",
    "\n",
    "**R3.** A **independência** de observações em uma amostra é viabilizada pelo uso de amostragem aleatória (no caso de estudos observacionais) ou atribuição aleatória (no caso de experimentos).\n",
    "\n",
    "**R4.** O **p-valor** (***p-value***) é uma probabilidade condicional (*conditional probability*) que quantifica a força da evidência contra a hipótese nula (*null hypothesis*) $H_0$. Quanto <font color=magenta>menor</font> o valor do p-valor (*p-value*) <font color=magenta>mais forte é a evidência contra a</font> hipótese nula (*null hypothesis*) $H_0$, uma vez que o p-valor (*p-value*) é uma probabilidade <font color=magenta>condicionada à</font> **<font color=magenta>validade</font>** <font color=magenta>da</font> hipótese nula (*null hypothesis*) $H_0$.\n",
    "- $\\text{p-value} = \\Pr\\left( \\text{observed or more extreme sample statistic} \\;\\middle\\vert\\; H_0 = True \\right).$\n",
    "\n",
    "**R5.** Teste de hipótese (*hypothesis testing*) para uma **única média** via o **teste Z** (***Z test***):\n",
    "1. Estabeleça as hipóteses:\n",
    "  - $H_0: \\mu = \\text{null value}$\n",
    "  - $H_A: \\mu < \\text{ou} > \\text{ou} \\neq \\text{null value}$\n",
    "1. Calcule a <font color=blue>estimativa pontual</font> (*<font color=blue>point estimate</font>*): $\\bar{x}$\n",
    "1. Verifique se as condições do Teorema Central do Limite (*Central Limit Theorem - CLT*) são válidas:\n",
    "  - **(1a)** o <font color=gray>tamanho da amostra</font> (*<font color=gray>sample size</font>*) é suficientemente grande ($n > 30$ ou maior se os dados são consideravelmente enviesados), ou\n",
    "  - **(1b)** sabe-se de antemão que a <font color=orange>população</font> (*<font color=orange>population</font>*) tem uma distribuição normal, e\n",
    "  - **(2)** as observações da <font color=gray>amostra</font> (*<font color=gray>sample</font>*) são independentes.\n",
    "1. Calcule o <font color=blue>erro padrão</font> (*<font color=blue>standard error</font>*):\n",
    "  - $SE = \\frac{\\sigma}{\\sqrt{n}}$, se tiver acesso ao <font color=orange>desvio padrão</font> (*<font color=orange>standard deviation</font>*) $\\sigma$ da <font color=orange>população</font> (*<font color=orange>population</font>*);\n",
    "  - $\\hat{se} = \\frac{s}{\\sqrt{n}}$, caso contrário.\n",
    "1. Calcule a estatística de teste (*test statistic*):\n",
    "  - $\\text{z-score}_{observed} = \\frac{\\bar{x} - \\mu}{SE}$, ou\n",
    "  - $\\text{z-score}_{observed} = \\frac{\\bar{x} - \\mu}{\\bar{se}}$.\n",
    "1. Calcule o p-valor (*p-value*):\n",
    "  - $\\text{p-value} = \\Pr\\left( \\text{z-score} \\geq \\text{z-score}_{observed} \\;\\middle\\vert\\; H_0 = True \\right)$\n",
    "  - onde $\\text{z-score} \\sim N\\left(mean=0, std=1\\right)$\n",
    "1. Com base no valor calculado para o p-valor (*p-value*), determine se a hipótese $H_0$ deve ou não ser rejeitada:\n",
    "  - Lembre-se, quanto <font color=magenta>menor</font> o valor do p-valor (*p-value*) <font color=magenta>mais forte é a evidência contra a</font> hipótese nula (*null hypothesis*) $H_0$."
   ]
  },
  {
   "cell_type": "markdown",
   "metadata": {},
   "source": [
    "*Referências*:\n",
    "- https://www.openintro.org/stat/textbook.php?stat_book=os\n",
    "- https://en.wikipedia.org/wiki/Conditional_probability\n",
    "- https://en.wikipedia.org/wiki/P-value\n",
    "- https://en.wikipedia.org/wiki/Z-test\n",
    "- https://en.wikipedia.org/wiki/Test_statistic"
   ]
  },
  {
   "cell_type": "markdown",
   "metadata": {},
   "source": [
    "<!--NAVIGATION-->\n",
    "< [Tamanho da Amostra, Variância e Viés](004.Tamanho-da-Amostra-Variância-e-Viés.ipynb) | [Conteúdo](Index.ipynb) | [A ser definido] >\n",
    "\n",
    "<a href=\"https://colab.research.google.com/github/fmafonseca/statistical-thinking-data-science/blob/master/notebooks/005.Teste-de-Hipotese-o-inicio.ipynb\"><img align=\"left\" src=\"https://colab.research.google.com/assets/colab-badge.svg\" alt=\"Open in Colab\" title=\"Open and Execute in Google Colaboratory\"></a>"
   ]
  },
  {
   "cell_type": "code",
   "execution_count": null,
   "metadata": {},
   "outputs": [],
   "source": []
  }
 ],
 "metadata": {
  "kernelspec": {
   "display_name": "Python 3",
   "language": "python",
   "name": "python3"
  },
  "language_info": {
   "codemirror_mode": {
    "name": "ipython",
    "version": 3
   },
   "file_extension": ".py",
   "mimetype": "text/x-python",
   "name": "python",
   "nbconvert_exporter": "python",
   "pygments_lexer": "ipython3",
   "version": "3.7.0"
  }
 },
 "nbformat": 4,
 "nbformat_minor": 2
}

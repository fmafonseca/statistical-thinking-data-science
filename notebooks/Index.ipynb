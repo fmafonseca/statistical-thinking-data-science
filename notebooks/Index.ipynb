{
 "cells": [
  {
   "cell_type": "markdown",
   "metadata": {},
   "source": [
    "## Conteúdo\n",
    "\n",
    "- [Teorema Central do Limite](001.Teorema-Central-do-Limite.ipynb)\n",
    "- [Para que serve uma amostra de tamanho grande](002.Para-que-serve-uma-amostra-de-tamanho-grande.ipynb)\n",
    "- [Tamanho da Amostra, Variância e Viés](003.Tamanho-da-Amostra-Variância-e-Viés.ipynb)\n",
    "- ... a ser definido (to be defined)"
   ]
  },
  {
   "cell_type": "code",
   "execution_count": null,
   "metadata": {},
   "outputs": [],
   "source": []
  }
 ],
 "metadata": {
  "kernelspec": {
   "display_name": "Python 3",
   "language": "python",
   "name": "python3"
  },
  "language_info": {
   "codemirror_mode": {
    "name": "ipython",
    "version": 3
   },
   "file_extension": ".py",
   "mimetype": "text/x-python",
   "name": "python",
   "nbconvert_exporter": "python",
   "pygments_lexer": "ipython3",
   "version": "3.7.0"
  }
 },
 "nbformat": 4,
 "nbformat_minor": 2
}

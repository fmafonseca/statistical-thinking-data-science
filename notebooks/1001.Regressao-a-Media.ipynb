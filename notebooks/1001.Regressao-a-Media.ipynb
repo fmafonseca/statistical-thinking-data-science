{
 "cells": [
  {
   "cell_type": "markdown",
   "metadata": {},
   "source": [
    "<!--NAVIGATION-->\n",
    "< [Conteúdo](Index.ipynb) >\n",
    "\n",
    "<a href=\"https://colab.research.google.com/github/fmafonseca/statistical-thinking-data-science/blob/master/notebooks/1001.Regressao-a-Media.ipynb\"><img align=\"left\" src=\"https://colab.research.google.com/assets/colab-badge.svg\" alt=\"Open in Colab\" title=\"Open and Execute in Google Colaboratory\"></a>"
   ]
  },
  {
   "cell_type": "markdown",
   "metadata": {},
   "source": [
    "# Regressão à média"
   ]
  },
  {
   "cell_type": "markdown",
   "metadata": {},
   "source": [
    "<strong>Regressão à média</strong> (<strong><em>regression to the mean</em></strong>) <mark>é um fenômeno estatístico</mark> que ocorre sempre que:\n",
    "- você trabalha com uma <strong><font color=gray>amostra</font></strong> <strong>não aleatória</strong> extraída da <strong><font color=orange>população</font></strong>\n",
    "- e duas variáveis <strong>imperfeitamente correlacionadas</strong> (correlação diferente de $1$ ou diferente de $-1$) são medidas, por exemplo, duas medições consecutivas da pressão arterial.\n",
    "\n",
    "Quanto menos correlacionadas as duas variáveis, maior o efeito da regressão para a média. Além disso, quanto mais extremo for o valor da média da <strong><font color=gray>amostra</font></strong> não aleatória (quando comparada com a média da <strong><font color=orange>população</font></strong>), mais espaço haverá para regredir à média.\n",
    "\n",
    "Mas para entendermos com maior clareza as frases anteriores, e o que é <strong>regressão à média</strong> (<strong><em>regression to the mean</em></strong>), vamos recorrer a um pouco de história e a um exemplo."
   ]
  },
  {
   "cell_type": "markdown",
   "metadata": {},
   "source": [
    "## Francis Galton e o fenômeno de <em>regression towards mediocrity</em>\n",
    "\n",
    "A primeira pessoa que descreveu e explicou o fenômeno de <strong>regressão à média</strong> (<strong><em>regression to the mean</em></strong>) foi <strong><em>Sir Francis Galton</em></strong> em 1886. <em>Galton</em> foi pioneiro na aplicação de métodos estatísticos para realização de medições em muitos ramos da ciência e, ao estudar dados sobre os tamanhos relativos entre pais e filhos em várias espécies de plantas e animais, ele observou o seguinte fenômeno:\n",
    "- Um pai cuja altura é maior do que a média da sua geração tende a produzir um filho cuja altura também será maior do que a média da sua geração, no entanto, é provável que a altura do filho não se destaque tanto quanto a do pai em termos relativos dentro de suas próprias gerações.\n",
    "- Em outras palavras, se a altura do pai está a $x$ desvios padrão da média dentro da sua própria geração, deve-se esperar que a altura do filho esteja a $rx$ desvios padrão da média dentro do conjunto de filhos desses pais, onde $r$ é um número menor do que $1$ em magnitude.\n",
    "\n",
    "<em>Galton</em> denominou esse fenômeno de <em>regression towards mediocrity</em>, conhecido altualmente como <strong>regressão à média</strong> (<strong><em>regression to the mean</em></strong>). Para um observador ingênuo, isso pode sugerir que as gerações posteriores exibirão menos variabilidade (literalmente mais mediocridade) do que as anteriores, mas esse não é o caso. Trata-se de um fenômeno puramente estatístico, já iremos entender o porquê."
   ]
  },
  {
   "cell_type": "markdown",
   "metadata": {},
   "source": [
    "## Uma explicação intuitiva\n",
    "\n",
    "A explicação intuitiva para o efeito da <strong>regressão à média</strong> (<strong><em>regression to the mean</em></strong>) é pensar em termos de <strong>viés de seleção</strong>. Em geral, o desempenho de um jogador durante um determinado período de tempo pode ser atribuído a uma combinação de <font color=magenta>habilidade</font> com <font color=magenta>sorte</font>. Suponha que selecionamos uma amostra de atletas profissionais cujo desempenho foi muito melhor do que a média (ou estudantes cujas notas foram muito melhores do que a média) na primeira metade do ano. O fato de terem se saído tão bem no primeiro semestre torna provável que suas <font color=magenta>habilidades</font> e <font color=magenta>sorte</font> tenham sido melhores do que a média durante esse período. No segundo semestre, podemos esperar que sejam igualmente <font color=magenta>habilidosos</font>, mas não devemos esperar que tenham a mesma <font color=magenta>sorte</font>. Portanto, devemos esperar que no segundo semestre <mark>o desempenho deles esteja mais próximo da média</mark>. O mesmo vale para os jogadores com desempenho muito pior do que a média na primeira metade do ano. O fato de terem se saído tão mal no primeiro semestre torna provável que suas <font color=magenta>habilidades</font> e <font color=magenta>sorte</font> tenham sido piores do que a média durante esse período. No segundo semestre, podemos esperar o mesmo nível de <font color=magenta>habilidade</font> do primeiro semestre, mas não devemos esperar que tenham a mesma <font color=magenta>sorte</font> (ou neste caso, o mesmo <font color=magenta>azar</font>). Portanto, também devemos esperar que no segundo semestre <mark>o desempenho deles esteja mais próximo da média</mark>. Na prática, o desempenho real dos jogadores deve ter uma variação igualmente grande tanto no primeiro semestre quanto no segundo, pois esta variação resulta meramente de uma redistribuição da <font color=magenta>sorte</font> (que é aleatória e independente) entre os jogadores (que continuam possuindo a mesma distribuição de <font color=magenta>habilidades</font> de antes).\n",
    "\n",
    "Outra maneira de pensar no efeito da <strong>regressão à média</strong> (<strong><em>regression to the mean</em></strong>) é o seguinte: tipicamente, tudo o que tentamos prever consiste em uma componente previsível (o <font color=magenta>sinal</font>) e uma componente imprevisível (o <font color=magenta>ruído</font>) que é estatisticamente independente. O melhor que podemos esperar é prever (apenas) a parte da variabilidade que é devida ao <font color=magenta>sinal</font>. Portanto, as nossas previsões tenderão a exibir menos variabilidade do que os valores reais observados, o que implica em uma <strong>regressão à média</strong> (<strong><em>regression to the mean</em></strong>)."
   ]
  },
  {
   "cell_type": "markdown",
   "metadata": {},
   "source": [
    "## Um exemplo numérico\n",
    "\n",
    "Primeiramente, vamos criar $3$ variáveis aleatórias:\n",
    "- $\\text{rv_skill} \\sim N \\left(\\mu=50, \\sigma=10 \\right)$: uma para representar a <strong>habilidade dos jogadores</strong> (`rv_skill`) tanto no primeiro quanto no segundo semestre (estamos assumindo que a habilidade dos jogadores não sofrerá grandes ou quaisquer modificações entre um semestre e outro). Representaremos esta variável aleatória através de uma distribuição normal com média $\\mu=50$ e desvio padrão $\\sigma=10$.\n",
    "- $\\text{rv_luck_period1} \\sim N \\left(\\mu=0, \\sigma=5 \\right)$: uma para representar a <strong>sorte dos jogadores no primeiro semestre</strong> (`rv_luck_period1`), através de uma distribuição normal com média $\\mu=0$ e desvio padrão igual a $\\sigma=5$.\n",
    "- $\\text{rv_luck_period2} \\sim N \\left(\\mu=0, \\sigma=5 \\right)$: uma para representar a <strong>sorte dos jogadores no segundo semestre</strong> (`rv_luck_period2`), através de uma distribuição normal com média $\\mu=0$ e desvio padrão igual a $\\sigma=5$.\n",
    "\n",
    "Vamos supor que a nossa <strong><font color=orange>população</font></strong> seja composta por $500$ jogadores."
   ]
  },
  {
   "cell_type": "code",
   "execution_count": 1,
   "metadata": {},
   "outputs": [],
   "source": [
    "from scipy import stats as st\n",
    "\n",
    "rv_skill = st.norm(loc=50.0, scale=10.0)\n",
    "rv_luck_period1 = st.norm(loc=0.0, scale=5.0)\n",
    "rv_luck_period2 = st.norm(loc=0.0, scale=5.0)\n",
    "\n",
    "pop_size = 500\n",
    "\n",
    "pop_skill = rv_skill.rvs(size=pop_size)\n",
    "pop_luck_period1 = rv_luck_period1.rvs(size=pop_size)\n",
    "pop_luck_period2 = rv_luck_period2.rvs(size=pop_size)"
   ]
  },
  {
   "cell_type": "markdown",
   "metadata": {},
   "source": [
    "A simulação dos experimentos que representam a medição das habilidades da nossa <strong><font color=orange>população</font></strong> de jogadores no primeiro (`pop_measure_period1`) e no segundo (`pop_measure_period2`) semestre é realizada através do código abaixo.\n",
    "\n",
    "Vale lembrar que as habilidades são medidas através das informações que são observadas no mundo real, portanto, serão compostas de uma componente de <font color=magenta>habilidade real</font> (o <font color=magenta>sinal</font>) e uma componente de <font color=magenta>sorte</font> (o <font color=magenta>ruído</font>)."
   ]
  },
  {
   "cell_type": "code",
   "execution_count": 2,
   "metadata": {},
   "outputs": [],
   "source": [
    "pop_measure_period1 = pop_skill + pop_luck_period1\n",
    "pop_measure_period2 = pop_skill + pop_luck_period2"
   ]
  },
  {
   "cell_type": "markdown",
   "metadata": {},
   "source": [
    "Vamos verificar algumas estatísticas da nossa <strong><font color=orange>população</font></strong> de jogadores."
   ]
  },
  {
   "cell_type": "code",
   "execution_count": 3,
   "metadata": {},
   "outputs": [
    {
     "data": {
      "text/html": [
       "<div>\n",
       "<style scoped>\n",
       "    .dataframe tbody tr th:only-of-type {\n",
       "        vertical-align: middle;\n",
       "    }\n",
       "\n",
       "    .dataframe tbody tr th {\n",
       "        vertical-align: top;\n",
       "    }\n",
       "\n",
       "    .dataframe thead th {\n",
       "        text-align: right;\n",
       "    }\n",
       "</style>\n",
       "<table border=\"1\" class=\"dataframe\">\n",
       "  <thead>\n",
       "    <tr style=\"text-align: right;\">\n",
       "      <th></th>\n",
       "      <th>skill</th>\n",
       "      <th>luck1</th>\n",
       "      <th>luck2</th>\n",
       "      <th>skill_measure1</th>\n",
       "      <th>skill_measure2</th>\n",
       "    </tr>\n",
       "  </thead>\n",
       "  <tbody>\n",
       "    <tr>\n",
       "      <th>count</th>\n",
       "      <td>500.000000</td>\n",
       "      <td>500.000000</td>\n",
       "      <td>500.000000</td>\n",
       "      <td>500.000000</td>\n",
       "      <td>500.000000</td>\n",
       "    </tr>\n",
       "    <tr>\n",
       "      <th>mean</th>\n",
       "      <td>50.417666</td>\n",
       "      <td>-0.169433</td>\n",
       "      <td>-0.149284</td>\n",
       "      <td>50.248234</td>\n",
       "      <td>50.268382</td>\n",
       "    </tr>\n",
       "    <tr>\n",
       "      <th>std</th>\n",
       "      <td>9.863173</td>\n",
       "      <td>5.098281</td>\n",
       "      <td>5.203072</td>\n",
       "      <td>11.187947</td>\n",
       "      <td>10.851473</td>\n",
       "    </tr>\n",
       "    <tr>\n",
       "      <th>min</th>\n",
       "      <td>20.306639</td>\n",
       "      <td>-18.994974</td>\n",
       "      <td>-14.482600</td>\n",
       "      <td>17.791676</td>\n",
       "      <td>20.639844</td>\n",
       "    </tr>\n",
       "    <tr>\n",
       "      <th>25%</th>\n",
       "      <td>43.970388</td>\n",
       "      <td>-3.683680</td>\n",
       "      <td>-3.913889</td>\n",
       "      <td>43.206588</td>\n",
       "      <td>42.658300</td>\n",
       "    </tr>\n",
       "    <tr>\n",
       "      <th>50%</th>\n",
       "      <td>50.334745</td>\n",
       "      <td>-0.112249</td>\n",
       "      <td>-0.385512</td>\n",
       "      <td>50.349640</td>\n",
       "      <td>49.538598</td>\n",
       "    </tr>\n",
       "    <tr>\n",
       "      <th>75%</th>\n",
       "      <td>56.759845</td>\n",
       "      <td>3.239679</td>\n",
       "      <td>3.223919</td>\n",
       "      <td>57.422760</td>\n",
       "      <td>57.246697</td>\n",
       "    </tr>\n",
       "    <tr>\n",
       "      <th>max</th>\n",
       "      <td>79.273418</td>\n",
       "      <td>17.299840</td>\n",
       "      <td>19.494446</td>\n",
       "      <td>84.196497</td>\n",
       "      <td>88.173744</td>\n",
       "    </tr>\n",
       "  </tbody>\n",
       "</table>\n",
       "</div>"
      ],
      "text/plain": [
       "            skill       luck1       luck2  skill_measure1  skill_measure2\n",
       "count  500.000000  500.000000  500.000000      500.000000      500.000000\n",
       "mean    50.417666   -0.169433   -0.149284       50.248234       50.268382\n",
       "std      9.863173    5.098281    5.203072       11.187947       10.851473\n",
       "min     20.306639  -18.994974  -14.482600       17.791676       20.639844\n",
       "25%     43.970388   -3.683680   -3.913889       43.206588       42.658300\n",
       "50%     50.334745   -0.112249   -0.385512       50.349640       49.538598\n",
       "75%     56.759845    3.239679    3.223919       57.422760       57.246697\n",
       "max     79.273418   17.299840   19.494446       84.196497       88.173744"
      ]
     },
     "execution_count": 3,
     "metadata": {},
     "output_type": "execute_result"
    }
   ],
   "source": [
    "import pandas as pd\n",
    "\n",
    "df = pd.DataFrame({\n",
    "    'skill': pop_skill,\n",
    "    'luck1': pop_luck_period1, 'luck2': pop_luck_period2,\n",
    "    'skill_measure1': pop_measure_period1, 'skill_measure2': pop_measure_period2\n",
    "})\n",
    "df.describe()"
   ]
  },
  {
   "cell_type": "markdown",
   "metadata": {},
   "source": [
    "O esperado é que a média da variável que representa a habilidade real dos jogadores (<em>skill</em>) seja próxima de $50$ e as médias das componentes que representam a sorte (no primeiro e segundo semestres, <em>luck1</em> e <em>luck2</em>) sejam próximas de $0$.\n",
    "\n",
    "Vamos verificar as distribuições das duas (primeiro e segundo semestre) medições de habilidades (<em>skill_measure1</em> e <em>skill_measure2</em>) e checar se o formato das mesmas parece uma normal."
   ]
  },
  {
   "cell_type": "code",
   "execution_count": 4,
   "metadata": {},
   "outputs": [
    {
     "data": {
      "text/plain": [
       "array([[<matplotlib.axes._subplots.AxesSubplot object at 0x0000023BF663F108>]],\n",
       "      dtype=object)"
      ]
     },
     "execution_count": 4,
     "metadata": {},
     "output_type": "execute_result"
    },
    {
     "data": {
      "image/png": "[encoded data removed]",
      "text/plain": [
       "<Figure size 432x288 with 1 Axes>"
      ]
     },
     "metadata": {
      "needs_background": "light"
     },
     "output_type": "display_data"
    },
    {
     "data": {
      "image/png": "[encoded data removed]",
      "text/plain": [
       "<Figure size 432x288 with 1 Axes>"
      ]
     },
     "metadata": {
      "needs_background": "light"
     },
     "output_type": "display_data"
    }
   ],
   "source": [
    "df.hist(column='skill_measure1')\n",
    "df.hist(column='skill_measure2')"
   ]
  },
  {
   "cell_type": "markdown",
   "metadata": {},
   "source": [
    "Os histogramas devem se assemelhar à curva normal. Além disto, as variáveis que representam as duas medições são correlacionadas, uma vez que possuem a mesma componente da habilidade real dos jogadores."
   ]
  },
  {
   "cell_type": "code",
   "execution_count": 5,
   "metadata": {},
   "outputs": [
    {
     "name": "stdout",
     "output_type": "stream",
     "text": [
      "Correlation beetwen skill_measure1 and skill_measure2 = 0.7760513564050293\n",
      "p-value of correlation = 9.20513596187802e-102\n"
     ]
    }
   ],
   "source": [
    "r = st.pearsonr(pop_measure_period1, pop_measure_period2)\n",
    "\n",
    "print(\"Correlation beetwen skill_measure1 and skill_measure2 = {0}\".format(r[0]))\n",
    "print(\"p-value of correlation = {0}\".format(r[1]))"
   ]
  },
  {
   "cell_type": "markdown",
   "metadata": {},
   "source": [
    "Não esperamos que sejam perfeitamente correlacionadas, uma vez que a componente de sorte é aleatória e independente entre os semestres. Abaixo o gráfico que representa a distribuição bivariada das medições."
   ]
  },
  {
   "cell_type": "code",
   "execution_count": 6,
   "metadata": {},
   "outputs": [
    {
     "data": {
      "application/javascript": [
       "const spec = {\"config\": {\"view\": {\"continuousWidth\": 400, \"continuousHeight\": 300}}, \"data\": {\"name\": \"data-f8f9f9d1c092e492af75beb634c5058f\"}, \"mark\": \"point\", \"encoding\": {\"size\": {\"value\": 10}, \"x\": {\"type\": \"quantitative\", \"field\": \"skill_measure1\", \"scale\": {\"zero\": false}}, \"y\": {\"type\": \"quantitative\", \"field\": \"skill_measure2\"}}, \"title\": \"bivariate distribution of skill_measure1 and skill_measure2\", \"$schema\": \"https://vega.github.io/schema/vega-lite/v4.8.1.json\", \"datasets\": {\"data-f8f9f9d1c092e492af75beb634c5058f\": [{\"skill\": 61.98487202532807, \"luck1\": 0.47233543722687454, \"luck2\": -0.6167159991729891, \"skill_measure1\": 62.45720746255495, \"skill_measure2\": 61.368156026155084}, {\"skill\": 47.127489212639105, \"luck1\": 1.2999187172929139, \"luck2\": 3.6711693573740396, \"skill_measure1\": 48.427407929932016, \"skill_measure2\": 50.798658570013146}, {\"skill\": 47.68199742749907, \"luck1\": -4.035868132686364, \"luck2\": -1.4051569046630723, \"skill_measure1\": 43.64612929481271, \"skill_measure2\": 46.276840522836}, {\"skill\": 48.26459918737083, \"luck1\": 3.0021463181144155, \"luck2\": 2.0443341597105875, \"skill_measure1\": 51.26674550548524, \"skill_measure2\": 50.308933347081414}, {\"skill\": 57.324534580826175, \"luck1\": -0.32080357973795004, \"luck2\": -7.076439549405839, \"skill_measure1\": 57.00373100108823, \"skill_measure2\": 50.248095031420334}, {\"skill\": 47.74082450668809, \"luck1\": 3.269675075336334, \"luck2\": -0.31856880692037515, \"skill_measure1\": 51.01049958202442, \"skill_measure2\": 47.42225569976772}, {\"skill\": 54.10874836337856, \"luck1\": 1.3082036546787048, \"luck2\": -2.016944707305823, \"skill_measure1\": 55.416952018057266, \"skill_measure2\": 52.091803656072734}, {\"skill\": 40.961612166066146, \"luck1\": -8.16097194416561, \"luck2\": -5.013607178543471, \"skill_measure1\": 32.80064022190054, \"skill_measure2\": 35.94800498752267}, {\"skill\": 59.939418873091824, \"luck1\": -5.696532100060976, \"luck2\": -10.588023451900115, \"skill_measure1\": 54.24288677303085, \"skill_measure2\": 49.35139542119171}, {\"skill\": 48.35712427149721, \"luck1\": -3.2226916559966217, \"luck2\": 2.0616139318276447, \"skill_measure1\": 45.13443261550059, \"skill_measure2\": 50.41873820332486}, {\"skill\": 46.67354002493613, \"luck1\": 2.63642953402024, \"luck2\": -0.5178711092179098, \"skill_measure1\": 49.30996955895637, \"skill_measure2\": 46.15566891571822}, {\"skill\": 52.305313153086146, \"luck1\": 0.34311340900392084, \"luck2\": -4.808796523586601, \"skill_measure1\": 52.648426562090066, \"skill_measure2\": 47.496516629499546}, {\"skill\": 44.61866159977325, \"luck1\": 5.608877611917987, \"luck2\": -2.7609800436612635, \"skill_measure1\": 50.22753921169124, \"skill_measure2\": 41.857681556111984}, {\"skill\": 48.672485768582014, \"luck1\": -0.09482876135086886, \"luck2\": -2.2225366920676293, \"skill_measure1\": 48.577657007231146, \"skill_measure2\": 46.449949076514386}, {\"skill\": 37.995204537547714, \"luck1\": 1.9758341118919687, \"luck2\": -0.8940442108308312, \"skill_measure1\": 39.971038649439684, \"skill_measure2\": 37.10116032671688}, {\"skill\": 69.08458594557653, \"luck1\": 0.9224275073273038, \"luck2\": 1.8472652996006287, \"skill_measure1\": 70.00701345290383, \"skill_measure2\": 70.93185124517716}, {\"skill\": 39.81059634784516, \"luck1\": -4.614188755968774, \"luck2\": 0.6853860482629548, \"skill_measure1\": 35.19640759187639, \"skill_measure2\": 40.49598239610812}, {\"skill\": 42.21326475815699, \"luck1\": -6.55094783756457, \"luck2\": 1.7598661711756698, \"skill_measure1\": 35.66231692059242, \"skill_measure2\": 43.973130929332655}, {\"skill\": 46.663788095361696, \"luck1\": -1.5553901998341848, \"luck2\": -1.3901382853040665, \"skill_measure1\": 45.10839789552751, \"skill_measure2\": 45.27364981005763}, {\"skill\": 61.21227410142576, \"luck1\": 3.532110212775639, \"luck2\": -0.6176838801192085, \"skill_measure1\": 64.7443843142014, \"skill_measure2\": 60.594590221306554}, {\"skill\": 60.12919288832818, \"luck1\": 6.905971274473373, \"luck2\": -2.0833330296796198, \"skill_measure1\": 67.03516416280155, \"skill_measure2\": 58.045859858648555}, {\"skill\": 43.50149060927192, \"luck1\": 2.142237110486038, \"luck2\": 14.418662642332073, \"skill_measure1\": 45.643727719757955, \"skill_measure2\": 57.92015325160399}, {\"skill\": 56.19382815041864, \"luck1\": 1.023387273369616, \"luck2\": -3.484528709505646, \"skill_measure1\": 57.217215423788254, \"skill_measure2\": 52.70929944091299}, {\"skill\": 43.80414503385845, \"luck1\": -7.811902618890184, \"luck2\": -4.773070901711219, \"skill_measure1\": 35.99224241496826, \"skill_measure2\": 39.031074132147225}, {\"skill\": 53.2151393281493, \"luck1\": -3.112439692641622, \"luck2\": 7.861363256810766, \"skill_measure1\": 50.102699635507676, \"skill_measure2\": 61.07650258496007}, {\"skill\": 52.09160392107555, \"luck1\": 0.6860710888547141, \"luck2\": 1.2066616532539196, \"skill_measure1\": 52.77767500993027, \"skill_measure2\": 53.29826557432947}, {\"skill\": 54.07647422638573, \"luck1\": 0.7357720512768585, \"luck2\": 3.073764278511933, \"skill_measure1\": 54.81224627766259, \"skill_measure2\": 57.15023850489766}, {\"skill\": 42.99588346724337, \"luck1\": -2.1847044627527707, \"luck2\": -0.8711545524731902, \"skill_measure1\": 40.8111790044906, \"skill_measure2\": 42.124728914770174}, {\"skill\": 52.182578035180114, \"luck1\": 0.7888164531326822, \"luck2\": 0.5181600318669075, \"skill_measure1\": 52.9713944883128, \"skill_measure2\": 52.70073806704702}, {\"skill\": 46.578712221319975, \"luck1\": -6.489707289955398, \"luck2\": 1.0838125981509859, \"skill_measure1\": 40.08900493136458, \"skill_measure2\": 47.66252481947096}, {\"skill\": 37.43032467369318, \"luck1\": -1.9687139343776394, \"luck2\": 3.1188564130238667, \"skill_measure1\": 35.46161073931554, \"skill_measure2\": 40.54918108671704}, {\"skill\": 44.82724054741029, \"luck1\": -8.622304194534294, \"luck2\": 11.288640168760399, \"skill_measure1\": 36.204936352876, \"skill_measure2\": 56.11588071617069}, {\"skill\": 55.19630821356774, \"luck1\": 0.44008108791858125, \"luck2\": -2.5774621069907084, \"skill_measure1\": 55.63638930148632, \"skill_measure2\": 52.61884610657703}, {\"skill\": 58.703985764636556, \"luck1\": -3.712168750279883, \"luck2\": 4.422951289659402, \"skill_measure1\": 54.99181701435667, \"skill_measure2\": 63.12693705429596}, {\"skill\": 45.004425615369705, \"luck1\": 6.795514181893676, \"luck2\": -2.9443047120891617, \"skill_measure1\": 51.79993979726338, \"skill_measure2\": 42.06012090328054}, {\"skill\": 40.83573404195683, \"luck1\": 11.233394358671259, \"luck2\": 3.2199271274778436, \"skill_measure1\": 52.06912840062809, \"skill_measure2\": 44.05566116943468}, {\"skill\": 52.60692515568332, \"luck1\": 3.0377190035853974, \"luck2\": 2.20204803226573, \"skill_measure1\": 55.644644159268715, \"skill_measure2\": 54.80897318794905}, {\"skill\": 39.33474552142421, \"luck1\": 0.24775745512846756, \"luck2\": -6.245097972794781, \"skill_measure1\": 39.582502976552675, \"skill_measure2\": 33.08964754862943}, {\"skill\": 52.604694828463835, \"luck1\": -5.317399182474318, \"luck2\": 7.554425482089419, \"skill_measure1\": 47.287295645989516, \"skill_measure2\": 60.159120310553256}, {\"skill\": 58.97736976711127, \"luck1\": -0.2501730726303513, \"luck2\": -9.214993600834887, \"skill_measure1\": 58.72719669448092, \"skill_measure2\": 49.76237616627638}, {\"skill\": 66.02500260921104, \"luck1\": 9.225480474041438, \"luck2\": -0.13427931340050495, \"skill_measure1\": 75.25048308325248, \"skill_measure2\": 65.89072329581053}, {\"skill\": 47.58109318280137, \"luck1\": -5.1798504198083535, \"luck2\": -0.6054121928354157, \"skill_measure1\": 42.401242762993014, \"skill_measure2\": 46.97568098996595}, {\"skill\": 51.31673785056841, \"luck1\": -3.3878257385863346, \"luck2\": 7.994239014532262, \"skill_measure1\": 47.92891211198207, \"skill_measure2\": 59.31097686510067}, {\"skill\": 58.66861249877525, \"luck1\": 0.9988478722815443, \"luck2\": 1.634390851308871, \"skill_measure1\": 59.6674603710568, \"skill_measure2\": 60.303003350084126}, {\"skill\": 50.320938835201694, \"luck1\": 4.8668363602519635, \"luck2\": 6.725153026175427, \"skill_measure1\": 55.18777519545366, \"skill_measure2\": 57.04609186137712}, {\"skill\": 49.23410093178252, \"luck1\": -2.2456528030617413, \"luck2\": 6.347523755505843, \"skill_measure1\": 46.988448128720776, \"skill_measure2\": 55.58162468728836}, {\"skill\": 45.5383079207913, \"luck1\": -9.38737666936953, \"luck2\": 3.5485620407315115, \"skill_measure1\": 36.15093125142177, \"skill_measure2\": 49.08686996152281}, {\"skill\": 43.656050836008845, \"luck1\": -2.0585953034271984, \"luck2\": 0.10715990972611897, \"skill_measure1\": 41.59745553258165, \"skill_measure2\": 43.763210745734966}, {\"skill\": 49.97697012770119, \"luck1\": -2.0054265737140007, \"luck2\": -1.1419707357704092, \"skill_measure1\": 47.97154355398719, \"skill_measure2\": 48.834999391930786}, {\"skill\": 65.25112838487902, \"luck1\": -1.8597629973336884, \"luck2\": 5.943125465004617, \"skill_measure1\": 63.391365387545335, \"skill_measure2\": 71.19425384988364}, {\"skill\": 69.46060297382813, \"luck1\": 2.6307590293076095, \"luck2\": 7.039131316290483, \"skill_measure1\": 72.09136200313574, \"skill_measure2\": 76.49973429011861}, {\"skill\": 53.922764003292905, \"luck1\": 11.992385957033676, \"luck2\": -2.3015747795411565, \"skill_measure1\": 65.91514996032657, \"skill_measure2\": 51.62118922375175}, {\"skill\": 40.417923586287465, \"luck1\": 5.705062933094895, \"luck2\": -0.9276880836216412, \"skill_measure1\": 46.12298651938236, \"skill_measure2\": 39.490235502665826}, {\"skill\": 45.51867145956984, \"luck1\": 9.712791925476669, \"luck2\": -1.1404639427502388, \"skill_measure1\": 55.23146338504651, \"skill_measure2\": 44.3782075168196}, {\"skill\": 63.40386357429787, \"luck1\": 3.3826094970590037, \"luck2\": 0.6479317438442317, \"skill_measure1\": 66.78647307135688, \"skill_measure2\": 64.0517953181421}, {\"skill\": 57.67426580373673, \"luck1\": -12.055922726234483, \"luck2\": 1.2632258714239124, \"skill_measure1\": 45.618343077502246, \"skill_measure2\": 58.93749167516064}, {\"skill\": 53.54583790108611, \"luck1\": 0.7057006491387268, \"luck2\": -4.585132334032445, \"skill_measure1\": 54.251538550224836, \"skill_measure2\": 48.960705567053665}, {\"skill\": 48.83686629896356, \"luck1\": 2.3094816895224146, \"luck2\": 7.043638431349917, \"skill_measure1\": 51.14634798848597, \"skill_measure2\": 55.880504730313476}, {\"skill\": 59.294125086984046, \"luck1\": 10.820629101708693, \"luck2\": -7.668217264429177, \"skill_measure1\": 70.11475418869274, \"skill_measure2\": 51.62590782255487}, {\"skill\": 57.72041809233214, \"luck1\": 4.14517705168497, \"luck2\": 6.489032345267809, \"skill_measure1\": 61.86559514401711, \"skill_measure2\": 64.20945043759994}, {\"skill\": 44.05142656522885, \"luck1\": 1.0648396626196197, \"luck2\": -6.482252196788369, \"skill_measure1\": 45.11626622784847, \"skill_measure2\": 37.569174368440486}, {\"skill\": 52.423951548733996, \"luck1\": -8.278784338241126, \"luck2\": -0.5984793514466563, \"skill_measure1\": 44.14516721049287, \"skill_measure2\": 51.82547219728734}, {\"skill\": 24.991967603899067, \"luck1\": 1.9328661005361556, \"luck2\": 5.709167385911301, \"skill_measure1\": 26.924833704435223, \"skill_measure2\": 30.701134989810367}, {\"skill\": 38.08679815080417, \"luck1\": 0.40778758917320385, \"luck2\": -6.357089585968959, \"skill_measure1\": 38.494585739977374, \"skill_measure2\": 31.729708564835214}, {\"skill\": 52.82850822866007, \"luck1\": 4.702850403099425, \"luck2\": 0.9849172175379963, \"skill_measure1\": 57.531358631759495, \"skill_measure2\": 53.81342544619807}, {\"skill\": 70.70328166732833, \"luck1\": -3.630379596762956, \"luck2\": -1.4189342062978514, \"skill_measure1\": 67.07290207056538, \"skill_measure2\": 69.28434746103048}, {\"skill\": 35.69983553043099, \"luck1\": -4.769324884165502, \"luck2\": 4.671954876345365, \"skill_measure1\": 30.930510646265486, \"skill_measure2\": 40.371790406776356}, {\"skill\": 51.54158206491318, \"luck1\": -1.0631604607585183, \"luck2\": -0.3525266547630635, \"skill_measure1\": 50.47842160415466, \"skill_measure2\": 51.18905541015012}, {\"skill\": 48.653185284149615, \"luck1\": -3.625723003206712, \"luck2\": 19.494446236164837, \"skill_measure1\": 45.0274622809429, \"skill_measure2\": 68.14763152031445}, {\"skill\": 32.813379360407076, \"luck1\": 2.01728615029339, \"luck2\": -4.341377221857332, \"skill_measure1\": 34.83066551070046, \"skill_measure2\": 28.472002138549744}, {\"skill\": 48.01415086734147, \"luck1\": 8.689000692375071, \"luck2\": -3.62964364460082, \"skill_measure1\": 56.703151559716545, \"skill_measure2\": 44.38450722274065}, {\"skill\": 27.584642523669366, \"luck1\": 3.778586759976675, \"luck2\": -2.7675850807841753, \"skill_measure1\": 31.363229283646042, \"skill_measure2\": 24.81705744288519}, {\"skill\": 61.43026006340736, \"luck1\": 6.206833224618978, \"luck2\": 0.9578758696426604, \"skill_measure1\": 67.63709328802634, \"skill_measure2\": 62.38813593305002}, {\"skill\": 60.767754043696996, \"luck1\": -8.699361295588334, \"luck2\": 2.539164294230779, \"skill_measure1\": 52.068392748108664, \"skill_measure2\": 63.306918337927776}, {\"skill\": 42.84655622278832, \"luck1\": -3.7555444388942587, \"luck2\": -2.2704451998095516, \"skill_measure1\": 39.09101178389406, \"skill_measure2\": 40.57611102297877}, {\"skill\": 52.5667590995832, \"luck1\": -5.44332578754547, \"luck2\": 4.864225956827275, \"skill_measure1\": 47.12343331203773, \"skill_measure2\": 57.43098505641048}, {\"skill\": 59.11922858700329, \"luck1\": -9.597440331061245, \"luck2\": -6.532994139119489, \"skill_measure1\": 49.52178825594205, \"skill_measure2\": 52.586234447883804}, {\"skill\": 53.05880156648426, \"luck1\": 1.4598315313426058, \"luck2\": 1.9039021984301998, \"skill_measure1\": 54.51863309782687, \"skill_measure2\": 54.962703764914465}, {\"skill\": 59.55715590351007, \"luck1\": -4.3405093275643845, \"luck2\": 2.5432135780400937, \"skill_measure1\": 55.21664657594569, \"skill_measure2\": 62.10036948155017}, {\"skill\": 34.80639058051508, \"luck1\": 7.547675628590154, \"luck2\": 4.5667861394471885, \"skill_measure1\": 42.354066209105234, \"skill_measure2\": 39.37317671996227}, {\"skill\": 40.568443381946906, \"luck1\": -0.8731118198764272, \"luck2\": 1.4307572436534242, \"skill_measure1\": 39.69533156207048, \"skill_measure2\": 41.99920062560033}, {\"skill\": 66.17007267518673, \"luck1\": 2.6493093429624803, \"luck2\": -3.139838984478599, \"skill_measure1\": 68.81938201814921, \"skill_measure2\": 63.03023369070813}, {\"skill\": 44.38307001379063, \"luck1\": 2.29172854180093, \"luck2\": -2.135275058911144, \"skill_measure1\": 46.67479855559156, \"skill_measure2\": 42.24779495487949}, {\"skill\": 38.008045470012675, \"luck1\": -1.8176514088105613, \"luck2\": 3.9836029121087653, \"skill_measure1\": 36.19039406120211, \"skill_measure2\": 41.99164838212144}, {\"skill\": 38.27163766972488, \"luck1\": -2.2851988894750814, \"luck2\": 1.6447612127559643, \"skill_measure1\": 35.9864387802498, \"skill_measure2\": 39.91639888248085}, {\"skill\": 44.88316802122038, \"luck1\": -8.75703520227413, \"luck2\": -1.3069746989816244, \"skill_measure1\": 36.126132818946246, \"skill_measure2\": 43.57619332223875}, {\"skill\": 39.588119676975595, \"luck1\": 5.069558691816076, \"luck2\": -1.0368131969221026, \"skill_measure1\": 44.65767836879167, \"skill_measure2\": 38.55130648005349}, {\"skill\": 45.08933940638159, \"luck1\": -0.20727480743357726, \"luck2\": 3.001336977793767, \"skill_measure1\": 44.88206459894801, \"skill_measure2\": 48.09067638417536}, {\"skill\": 50.22204749153539, \"luck1\": 4.835005941962448, \"luck2\": 2.9408786249382364, \"skill_measure1\": 55.05705343349784, \"skill_measure2\": 53.16292611647363}, {\"skill\": 48.18987105841878, \"luck1\": 5.2708740298031875, \"luck2\": 14.93742732470755, \"skill_measure1\": 53.46074508822197, \"skill_measure2\": 63.12729838312633}, {\"skill\": 59.942774020218785, \"luck1\": 0.3708879642272009, \"luck2\": -4.3902054635356045, \"skill_measure1\": 60.313661984445986, \"skill_measure2\": 55.552568556683184}, {\"skill\": 52.663544504382784, \"luck1\": 8.25129687816373, \"luck2\": 0.3108089056111185, \"skill_measure1\": 60.91484138254651, \"skill_measure2\": 52.9743534099939}, {\"skill\": 47.74166774524675, \"luck1\": 0.4419228157551424, \"luck2\": -12.900007789827956, \"skill_measure1\": 48.18359056100189, \"skill_measure2\": 34.84165995541879}, {\"skill\": 38.09407486905284, \"luck1\": 5.554984958704474, \"luck2\": 6.4343024217079545, \"skill_measure1\": 43.64905982775731, \"skill_measure2\": 44.528377290760794}, {\"skill\": 41.36521173571752, \"luck1\": 1.3001163533853415, \"luck2\": -7.306731302639892, \"skill_measure1\": 42.665328089102864, \"skill_measure2\": 34.058480433077634}, {\"skill\": 48.052844408191646, \"luck1\": -4.81275955085778, \"luck2\": 5.01533778430331, \"skill_measure1\": 43.24008485733387, \"skill_measure2\": 53.06818219249496}, {\"skill\": 38.7811588766111, \"luck1\": -0.9565875809147572, \"luck2\": -4.768955058200859, \"skill_measure1\": 37.824571295696344, \"skill_measure2\": 34.01220381841024}, {\"skill\": 43.286063934422955, \"luck1\": 3.4222960109873717, \"luck2\": -4.324600984801325, \"skill_measure1\": 46.70835994541033, \"skill_measure2\": 38.961462949621634}, {\"skill\": 40.829488179035856, \"luck1\": -0.09101101856044826, \"luck2\": 4.598414180161874, \"skill_measure1\": 40.738477160475405, \"skill_measure2\": 45.42790235919773}, {\"skill\": 54.9421566119401, \"luck1\": 8.562170767512129, \"luck2\": 1.5682837345555856, \"skill_measure1\": 63.50432737945223, \"skill_measure2\": 56.510440346495685}, {\"skill\": 48.540600291580624, \"luck1\": -0.6427642706098645, \"luck2\": 6.329001848954208, \"skill_measure1\": 47.89783602097076, \"skill_measure2\": 54.86960214053483}, {\"skill\": 38.70774405126811, \"luck1\": -4.053419199129821, \"luck2\": 4.140935372185, \"skill_measure1\": 34.65432485213829, \"skill_measure2\": 42.848679423453106}, {\"skill\": 59.973053936686306, \"luck1\": -5.00728966317806, \"luck2\": -5.808058249226801, \"skill_measure1\": 54.96576427350824, \"skill_measure2\": 54.1649956874595}, {\"skill\": 58.114326267960315, \"luck1\": -1.3683943843075124, \"luck2\": 5.105652791305223, \"skill_measure1\": 56.7459318836528, \"skill_measure2\": 63.21997905926554}, {\"skill\": 66.23735223428984, \"luck1\": 7.999373685873321, \"luck2\": -0.20337962609872212, \"skill_measure1\": 74.23672592016317, \"skill_measure2\": 66.03397260819112}, {\"skill\": 42.56964422913642, \"luck1\": 5.941016176775698, \"luck2\": -2.297714659350258, \"skill_measure1\": 48.51066040591212, \"skill_measure2\": 40.27192956978617}, {\"skill\": 41.258666373273535, \"luck1\": 4.37332545504334, \"luck2\": -3.230516887379472, \"skill_measure1\": 45.63199182831688, \"skill_measure2\": 38.02814948589406}, {\"skill\": 42.33312375430428, \"luck1\": -5.727058596875089, \"luck2\": 3.980852745683148, \"skill_measure1\": 36.60606515742919, \"skill_measure2\": 46.31397649998743}, {\"skill\": 36.43872155299047, \"luck1\": 7.97357308366124, \"luck2\": -5.871377352987064, \"skill_measure1\": 44.41229463665171, \"skill_measure2\": 30.567344200003408}, {\"skill\": 48.41163545922559, \"luck1\": 6.077644122968026, \"luck2\": -6.017897597630419, \"skill_measure1\": 54.48927958219362, \"skill_measure2\": 42.39373786159517}, {\"skill\": 55.98901897996274, \"luck1\": -8.33691569193404, \"luck2\": -7.309696668422098, \"skill_measure1\": 47.6521032880287, \"skill_measure2\": 48.67932231154064}, {\"skill\": 48.916431088466005, \"luck1\": -3.4687583392986543, \"luck2\": -1.9389171174316737, \"skill_measure1\": 45.44767274916735, \"skill_measure2\": 46.977513971034334}, {\"skill\": 67.28502429993404, \"luck1\": -1.161144318406638, \"luck2\": -3.8426976270286346, \"skill_measure1\": 66.1238799815274, \"skill_measure2\": 63.4423266729054}, {\"skill\": 70.50140308175577, \"luck1\": -3.918446826466816, \"luck2\": 2.524707019530485, \"skill_measure1\": 66.58295625528895, \"skill_measure2\": 73.02611010128625}, {\"skill\": 51.22524494228698, \"luck1\": 2.568274874511353, \"luck2\": -8.76195669554538, \"skill_measure1\": 53.79351981679833, \"skill_measure2\": 42.4632882467416}, {\"skill\": 62.67127877124614, \"luck1\": 5.186994205951766, \"luck2\": 3.391537710014021, \"skill_measure1\": 67.85827297719791, \"skill_measure2\": 66.06281648126017}, {\"skill\": 35.64068576602301, \"luck1\": -1.18564594411933, \"luck2\": 8.63161724034736, \"skill_measure1\": 34.45503982190368, \"skill_measure2\": 44.27230300637037}, {\"skill\": 61.38220655414253, \"luck1\": -1.5071842366486266, \"luck2\": -5.609214355993472, \"skill_measure1\": 59.8750223174939, \"skill_measure2\": 55.772992198149055}, {\"skill\": 59.11161312655603, \"luck1\": 0.9640195828345413, \"luck2\": -1.5802605793046838, \"skill_measure1\": 60.07563270939057, \"skill_measure2\": 57.531352547251345}, {\"skill\": 59.168178328143455, \"luck1\": -1.8625351438660245, \"luck2\": -7.57869493091702, \"skill_measure1\": 57.30564318427743, \"skill_measure2\": 51.58948339722643}, {\"skill\": 57.38523000405801, \"luck1\": 2.3172109911280576, \"luck2\": 4.165509172882713, \"skill_measure1\": 59.702440995186066, \"skill_measure2\": 61.55073917694072}, {\"skill\": 50.89857175018171, \"luck1\": -15.875279746206008, \"luck2\": -0.9193374067146521, \"skill_measure1\": 35.0232920039757, \"skill_measure2\": 49.979234343467056}, {\"skill\": 54.59197995415273, \"luck1\": -3.9750521882011336, \"luck2\": -0.7316174533126436, \"skill_measure1\": 50.616927765951594, \"skill_measure2\": 53.86036250084008}, {\"skill\": 51.14624335599587, \"luck1\": -6.5458006286381085, \"luck2\": -4.556140388259247, \"skill_measure1\": 44.60044272735776, \"skill_measure2\": 46.59010296773663}, {\"skill\": 56.87511185025449, \"luck1\": -2.7237763833794744, \"luck2\": 6.172049417445945, \"skill_measure1\": 54.15133546687502, \"skill_measure2\": 63.04716126770044}, {\"skill\": 49.46587429879361, \"luck1\": -3.3268580117531874, \"luck2\": 4.083504006272621, \"skill_measure1\": 46.13901628704042, \"skill_measure2\": 53.54937830506623}, {\"skill\": 33.59400298839494, \"luck1\": 2.3801314098507804, \"luck2\": -1.4179890217357145, \"skill_measure1\": 35.974134398245724, \"skill_measure2\": 32.17601396665923}, {\"skill\": 51.038022779302466, \"luck1\": 1.7527357806183377, \"luck2\": 1.9285167002906747, \"skill_measure1\": 52.7907585599208, \"skill_measure2\": 52.96653947959314}, {\"skill\": 38.9070916060101, \"luck1\": 3.177907441060232, \"luck2\": -0.4383878968390675, \"skill_measure1\": 42.08499904707033, \"skill_measure2\": 38.46870370917103}, {\"skill\": 63.11626134114164, \"luck1\": -5.4362993248228015, \"luck2\": 2.355798181987546, \"skill_measure1\": 57.67996201631884, \"skill_measure2\": 65.47205952312919}, {\"skill\": 53.220277690583444, \"luck1\": 3.2296808065326283, \"luck2\": -10.76085854229773, \"skill_measure1\": 56.44995849711607, \"skill_measure2\": 42.45941914828572}, {\"skill\": 49.82538206075302, \"luck1\": 0.7690482976676254, \"luck2\": 4.0145955511527385, \"skill_measure1\": 50.594430358420645, \"skill_measure2\": 53.83997761190576}, {\"skill\": 43.35895541507783, \"luck1\": -2.5158958816002768, \"luck2\": 1.2946951605861967, \"skill_measure1\": 40.84305953347755, \"skill_measure2\": 44.653650575664024}, {\"skill\": 28.879424865058603, \"luck1\": -3.2614148754616332, \"luck2\": -5.157308443384755, \"skill_measure1\": 25.61800998959697, \"skill_measure2\": 23.722116421673846}, {\"skill\": 52.7270963135598, \"luck1\": -3.1318516368579723, \"luck2\": 3.231213349144605, \"skill_measure1\": 49.595244676701824, \"skill_measure2\": 55.9583096627044}, {\"skill\": 50.32931343493381, \"luck1\": -2.4261379371413248, \"luck2\": 2.747823616303072, \"skill_measure1\": 47.90317549779248, \"skill_measure2\": 53.07713705123688}, {\"skill\": 66.91976735119161, \"luck1\": -2.5904345841965353, \"luck2\": -5.961468336292095, \"skill_measure1\": 64.32933276699508, \"skill_measure2\": 60.95829901489952}, {\"skill\": 37.38436641170034, \"luck1\": -3.8719552937597945, \"luck2\": -0.2809012366685472, \"skill_measure1\": 33.512411117940545, \"skill_measure2\": 37.10346517503179}, {\"skill\": 44.73343695874226, \"luck1\": 4.620450079473675, \"luck2\": -11.130960015448046, \"skill_measure1\": 49.35388703821594, \"skill_measure2\": 33.602476943294214}, {\"skill\": 56.68303220816226, \"luck1\": -2.1151311800440147, \"luck2\": -3.4708416605785146, \"skill_measure1\": 54.56790102811824, \"skill_measure2\": 53.212190547583745}, {\"skill\": 54.5513420733226, \"luck1\": -2.924208765450506, \"luck2\": -0.7038266570068291, \"skill_measure1\": 51.62713330787209, \"skill_measure2\": 53.84751541631577}, {\"skill\": 67.27701835170708, \"luck1\": -5.060954077067023, \"luck2\": -7.189884927919325, \"skill_measure1\": 62.21606427464006, \"skill_measure2\": 60.08713342378776}, {\"skill\": 55.96848173728662, \"luck1\": -5.432376134954156, \"luck2\": -10.232092530392451, \"skill_measure1\": 50.53610560233247, \"skill_measure2\": 45.736389206894174}, {\"skill\": 54.40429298888614, \"luck1\": -0.1812785595378599, \"luck2\": -14.482600184104184, \"skill_measure1\": 54.22301442934828, \"skill_measure2\": 39.921692804781955}, {\"skill\": 48.5627973637092, \"luck1\": -3.3359331772859857, \"luck2\": 5.677720886328047, \"skill_measure1\": 45.226864186423214, \"skill_measure2\": 54.24051825003725}, {\"skill\": 35.78150474840572, \"luck1\": -0.5278418403302142, \"luck2\": 1.4084103287717764, \"skill_measure1\": 35.25366290807551, \"skill_measure2\": 37.1899150771775}, {\"skill\": 37.68705784009201, \"luck1\": 4.5944478663111905, \"luck2\": -1.9693556154045524, \"skill_measure1\": 42.2815057064032, \"skill_measure2\": 35.71770222468746}, {\"skill\": 44.160544594021324, \"luck1\": 3.051775181071549, \"luck2\": 0.17012450867344459, \"skill_measure1\": 47.21231977509287, \"skill_measure2\": 44.33066910269477}, {\"skill\": 49.22484753189254, \"luck1\": -5.526958955599111, \"luck2\": -6.267978752766641, \"skill_measure1\": 43.69788857629343, \"skill_measure2\": 42.9568687791259}, {\"skill\": 54.700215475236185, \"luck1\": 0.9354637631599849, \"luck2\": 6.3188120061805755, \"skill_measure1\": 55.63567923839617, \"skill_measure2\": 61.01902748141676}, {\"skill\": 57.309751373621125, \"luck1\": -0.9092581011966605, \"luck2\": -2.810882290083185, \"skill_measure1\": 56.40049327242446, \"skill_measure2\": 54.49886908353794}, {\"skill\": 55.08040876175809, \"luck1\": -1.7644850466426532, \"luck2\": -3.975745171066724, \"skill_measure1\": 53.31592371511544, \"skill_measure2\": 51.104663590691366}, {\"skill\": 47.363675198303675, \"luck1\": 4.3260922518328275, \"luck2\": -1.6951307844793004, \"skill_measure1\": 51.6897674501365, \"skill_measure2\": 45.66854441382437}, {\"skill\": 55.88262063383474, \"luck1\": 3.000438210002044, \"luck2\": -4.555558990344465, \"skill_measure1\": 58.883058843836785, \"skill_measure2\": 51.327061643490275}, {\"skill\": 56.01480500464052, \"luck1\": 2.2239220993361446, \"luck2\": 2.1645288706811137, \"skill_measure1\": 58.238727103976665, \"skill_measure2\": 58.17933387532163}, {\"skill\": 44.86350899649641, \"luck1\": 2.51828402099078, \"luck2\": 7.518868804559481, \"skill_measure1\": 47.38179301748718, \"skill_measure2\": 52.38237780105589}, {\"skill\": 43.93221181684855, \"luck1\": 3.413336972691604, \"luck2\": 2.636197490644241, \"skill_measure1\": 47.34554878954015, \"skill_measure2\": 46.56840930749279}, {\"skill\": 56.026941617269934, \"luck1\": 9.401983833060449, \"luck2\": 6.1754835727124675, \"skill_measure1\": 65.42892545033038, \"skill_measure2\": 62.2024251899824}, {\"skill\": 51.622831278140744, \"luck1\": 2.5247408365692166, \"luck2\": 6.860744973644747, \"skill_measure1\": 54.14757211470996, \"skill_measure2\": 58.48357625178549}, {\"skill\": 26.55018131055073, \"luck1\": -4.214986352046441, \"luck2\": 0.6878140789667964, \"skill_measure1\": 22.33519495850429, \"skill_measure2\": 27.237995389517526}, {\"skill\": 20.30663942753719, \"luck1\": -2.5149636021813704, \"luck2\": 0.3332046248256292, \"skill_measure1\": 17.791675825355817, \"skill_measure2\": 20.639844052362818}, {\"skill\": 77.72761284396915, \"luck1\": 6.468884399793087, \"luck2\": -0.2667222769573561, \"skill_measure1\": 84.19649724376224, \"skill_measure2\": 77.4608905670118}, {\"skill\": 57.2201309431513, \"luck1\": 3.178162535968033, \"luck2\": -0.6776964541432213, \"skill_measure1\": 60.39829347911933, \"skill_measure2\": 56.54243448900807}, {\"skill\": 38.40147392527955, \"luck1\": -1.297935214792849, \"luck2\": 0.712794308193811, \"skill_measure1\": 37.103538710486696, \"skill_measure2\": 39.11426823347336}, {\"skill\": 48.33068452481038, \"luck1\": -10.620289736945507, \"luck2\": -4.131387311731544, \"skill_measure1\": 37.71039478786487, \"skill_measure2\": 44.199297213078836}, {\"skill\": 49.98079910771512, \"luck1\": 1.8278310012373296, \"luck2\": -0.5345516544503879, \"skill_measure1\": 51.80863010895245, \"skill_measure2\": 49.44624745326473}, {\"skill\": 41.60031367683369, \"luck1\": -4.143789905952989, \"luck2\": 0.10746249202324354, \"skill_measure1\": 37.45652377088071, \"skill_measure2\": 41.70777616885694}, {\"skill\": 36.30510100547926, \"luck1\": -5.9377351931778675, \"luck2\": 3.9038978703005487, \"skill_measure1\": 30.36736581230139, \"skill_measure2\": 40.208998875779805}, {\"skill\": 42.4802460396277, \"luck1\": -0.9158304552246188, \"luck2\": 4.1904857213904565, \"skill_measure1\": 41.56441558440308, \"skill_measure2\": 46.67073176101816}, {\"skill\": 43.467728337354885, \"luck1\": 10.403238095359086, \"luck2\": -6.30213860631642, \"skill_measure1\": 53.87096643271397, \"skill_measure2\": 37.165589731038466}, {\"skill\": 53.304196854119134, \"luck1\": 11.027289566562121, \"luck2\": -4.280935006631764, \"skill_measure1\": 64.33148642068126, \"skill_measure2\": 49.02326184748737}, {\"skill\": 60.9926909969882, \"luck1\": 6.0292930100638795, \"luck2\": -2.1338459410091435, \"skill_measure1\": 67.02198400705208, \"skill_measure2\": 58.85884505597906}, {\"skill\": 53.082444114222646, \"luck1\": 1.2594558549381987, \"luck2\": -4.78116135675769, \"skill_measure1\": 54.34189996916084, \"skill_measure2\": 48.30128275746495}, {\"skill\": 39.81841138278617, \"luck1\": 3.6620258453398247, \"luck2\": -3.791692801809216, \"skill_measure1\": 43.48043722812599, \"skill_measure2\": 36.02671858097695}, {\"skill\": 57.845337286940726, \"luck1\": -7.324429340173376, \"luck2\": 0.39754811870406603, \"skill_measure1\": 50.52090794676735, \"skill_measure2\": 58.24288540564479}, {\"skill\": 49.951878267927626, \"luck1\": 0.009407307629687986, \"luck2\": -6.179951594158797, \"skill_measure1\": 49.96128557555731, \"skill_measure2\": 43.77192667376883}, {\"skill\": 54.73476698980485, \"luck1\": -6.465806326393936, \"luck2\": 1.3953717350892156, \"skill_measure1\": 48.26896066341091, \"skill_measure2\": 56.13013872489406}, {\"skill\": 47.45175302317438, \"luck1\": 2.43802359140243, \"luck2\": -6.828687068152449, \"skill_measure1\": 49.88977661457681, \"skill_measure2\": 40.623065955021936}, {\"skill\": 48.33837269481835, \"luck1\": -2.576295321934499, \"luck2\": -8.856078978023653, \"skill_measure1\": 45.762077372883844, \"skill_measure2\": 39.48229371679469}, {\"skill\": 44.83469146769834, \"luck1\": 2.148414784540473, \"luck2\": 0.947534543242498, \"skill_measure1\": 46.98310625223881, \"skill_measure2\": 45.78222601094084}, {\"skill\": 65.52709683913419, \"luck1\": 6.071211200390056, \"luck2\": 2.033888308315253, \"skill_measure1\": 71.59830803952424, \"skill_measure2\": 67.56098514744944}, {\"skill\": 34.81312384076088, \"luck1\": -3.0690326750275436, \"luck2\": -5.013221928882153, \"skill_measure1\": 31.744091165733337, \"skill_measure2\": 29.799901911878727}, {\"skill\": 48.749197697845275, \"luck1\": 4.744890233820416, \"luck2\": -4.505229252961825, \"skill_measure1\": 53.49408793166569, \"skill_measure2\": 44.24396844488345}, {\"skill\": 51.86361499083754, \"luck1\": 3.305084047637046, \"luck2\": -5.7542975119517585, \"skill_measure1\": 55.168699038474585, \"skill_measure2\": 46.109317478885785}, {\"skill\": 46.62539222410102, \"luck1\": -1.797575664854407, \"luck2\": 4.320528457058012, \"skill_measure1\": 44.827816559246614, \"skill_measure2\": 50.94592068115903}, {\"skill\": 47.836776567896955, \"luck1\": -6.510708789823899, \"luck2\": 3.5394631215666186, \"skill_measure1\": 41.32606777807305, \"skill_measure2\": 51.376239689463574}, {\"skill\": 41.523661139007245, \"luck1\": -6.115884684806508, \"luck2\": 2.0985196139267352, \"skill_measure1\": 35.407776454200736, \"skill_measure2\": 43.62218075293398}, {\"skill\": 49.44351362860448, \"luck1\": -5.8132287856539175, \"luck2\": -1.308567841128547, \"skill_measure1\": 43.63028484295056, \"skill_measure2\": 48.13494578747593}, {\"skill\": 38.127226080769766, \"luck1\": 0.6783493500070907, \"luck2\": -0.8189049384102618, \"skill_measure1\": 38.805575430776855, \"skill_measure2\": 37.3083211423595}, {\"skill\": 40.76683156299537, \"luck1\": -2.672510012888239, \"luck2\": 3.267129457264985, \"skill_measure1\": 38.09432155010713, \"skill_measure2\": 44.03396102026036}, {\"skill\": 55.68399302018345, \"luck1\": -4.1727278638203105, \"luck2\": -1.0481686005450084, \"skill_measure1\": 51.51126515636314, \"skill_measure2\": 54.63582441963844}, {\"skill\": 43.30693795348547, \"luck1\": 7.072640882712726, \"luck2\": -1.4843055868608763, \"skill_measure1\": 50.3795788361982, \"skill_measure2\": 41.822632366624596}, {\"skill\": 56.04983796979675, \"luck1\": 1.9118632602971875, \"luck2\": -6.42417527779949, \"skill_measure1\": 57.96170123009394, \"skill_measure2\": 49.625662691997256}, {\"skill\": 49.497271494497724, \"luck1\": 5.328567707127956, \"luck2\": 4.603477374747456, \"skill_measure1\": 54.82583920162568, \"skill_measure2\": 54.10074886924518}, {\"skill\": 53.482041729769634, \"luck1\": 4.180080926646083, \"luck2\": 0.6013597827353383, \"skill_measure1\": 57.66212265641572, \"skill_measure2\": 54.08340151250497}, {\"skill\": 56.696198134818, \"luck1\": 2.546680306288258, \"luck2\": -4.971874780391106, \"skill_measure1\": 59.24287844110626, \"skill_measure2\": 51.72432335442689}, {\"skill\": 51.20791414711442, \"luck1\": -7.468805590014092, \"luck2\": -3.631534860196233, \"skill_measure1\": 43.73910855710033, \"skill_measure2\": 47.57637928691819}, {\"skill\": 37.30475799848713, \"luck1\": -0.30523286066405914, \"luck2\": 1.3967067065518237, \"skill_measure1\": 36.99952513782308, \"skill_measure2\": 38.70146470503896}, {\"skill\": 53.829752834071364, \"luck1\": -6.404306079587703, \"luck2\": 1.6718908965638364, \"skill_measure1\": 47.42544675448366, \"skill_measure2\": 55.5016437306352}, {\"skill\": 48.6487673878607, \"luck1\": -4.641360258157422, \"luck2\": 3.2214880626837106, \"skill_measure1\": 44.00740712970328, \"skill_measure2\": 51.87025545054441}, {\"skill\": 47.517175387228825, \"luck1\": 9.687446913083653, \"luck2\": 6.690455160535558, \"skill_measure1\": 57.20462230031248, \"skill_measure2\": 54.20763054776438}, {\"skill\": 50.49368772305649, \"luck1\": -1.721423491216814, \"luck2\": -2.948806559688262, \"skill_measure1\": 48.77226423183968, \"skill_measure2\": 47.544881163368224}, {\"skill\": 45.591414918546015, \"luck1\": -5.178920622132774, \"luck2\": 6.20861209970323, \"skill_measure1\": 40.41249429641324, \"skill_measure2\": 51.800027018249246}, {\"skill\": 44.35975523531099, \"luck1\": -4.107689760766103, \"luck2\": -0.6724633228146576, \"skill_measure1\": 40.25206547454489, \"skill_measure2\": 43.687291912496335}, {\"skill\": 39.34947381696883, \"luck1\": 0.4734919667736378, \"luck2\": 3.328849418074333, \"skill_measure1\": 39.82296578374247, \"skill_measure2\": 42.678323235043166}, {\"skill\": 39.067465513385415, \"luck1\": 1.4552623403006089, \"luck2\": -5.559306477999638, \"skill_measure1\": 40.52272785368602, \"skill_measure2\": 33.50815903538577}, {\"skill\": 53.83044213180702, \"luck1\": 1.496506577768644, \"luck2\": 2.3291769789589036, \"skill_measure1\": 55.32694870957566, \"skill_measure2\": 56.159619110765924}, {\"skill\": 54.43151357408942, \"luck1\": 3.8537011117105386, \"luck2\": 2.792477815650689, \"skill_measure1\": 58.28521468579996, \"skill_measure2\": 57.223991389740114}, {\"skill\": 36.430154056368906, \"luck1\": -0.2939891521177256, \"luck2\": 2.9330125916036716, \"skill_measure1\": 36.13616490425118, \"skill_measure2\": 39.36316664797258}, {\"skill\": 30.207357225609396, \"luck1\": 1.1993549529470877, \"luck2\": 0.9783619186813931, \"skill_measure1\": 31.406712178556482, \"skill_measure2\": 31.18571914429079}, {\"skill\": 49.6371354244182, \"luck1\": 0.5703977327837775, \"luck2\": -6.782430172351159, \"skill_measure1\": 50.20753315720197, \"skill_measure2\": 42.854705252067035}, {\"skill\": 55.80015847005017, \"luck1\": -0.3630260266976352, \"luck2\": -3.4080595633421384, \"skill_measure1\": 55.43713244335254, \"skill_measure2\": 52.392098906708036}, {\"skill\": 42.4294525091877, \"luck1\": 3.4610869957055894, \"luck2\": -3.8310685296020064, \"skill_measure1\": 45.89053950489329, \"skill_measure2\": 38.59838397958569}, {\"skill\": 43.333825367926934, \"luck1\": -6.434269247507331, \"luck2\": 4.404412436688301, \"skill_measure1\": 36.899556120419604, \"skill_measure2\": 47.73823780461524}, {\"skill\": 47.21019318899459, \"luck1\": -4.269478972616191, \"luck2\": -4.611963007748138, \"skill_measure1\": 42.940714216378396, \"skill_measure2\": 42.59823018124645}, {\"skill\": 31.889505890878308, \"luck1\": -1.9131661021769055, \"luck2\": 0.8075270816147305, \"skill_measure1\": 29.976339788701402, \"skill_measure2\": 32.69703297249304}, {\"skill\": 49.887062397512096, \"luck1\": 3.2123587714042516, \"luck2\": 4.214947055751291, \"skill_measure1\": 53.09942116891635, \"skill_measure2\": 54.102009453263385}, {\"skill\": 45.069287758878325, \"luck1\": 3.200038366695184, \"luck2\": 1.7354086085798446, \"skill_measure1\": 48.26932612557351, \"skill_measure2\": 46.80469636745817}, {\"skill\": 33.38686352660399, \"luck1\": 2.0124397183601364, \"luck2\": 3.8837947050992563, \"skill_measure1\": 35.39930324496412, \"skill_measure2\": 37.270658231703244}, {\"skill\": 52.53084726513697, \"luck1\": 2.811561667887377, \"luck2\": 1.2030866504821855, \"skill_measure1\": 55.342408933024345, \"skill_measure2\": 53.733933915619154}, {\"skill\": 41.078698021443124, \"luck1\": 9.498565667167277, \"luck2\": -1.8097050738104206, \"skill_measure1\": 50.5772636886104, \"skill_measure2\": 39.268992947632704}, {\"skill\": 78.21003990262625, \"luck1\": -2.9194170315467804, \"luck2\": -1.1132274406805318, \"skill_measure1\": 75.29062287107946, \"skill_measure2\": 77.09681246194572}, {\"skill\": 62.3578694347841, \"luck1\": -10.379770394441024, \"luck2\": 5.536214421116748, \"skill_measure1\": 51.978099040343075, \"skill_measure2\": 67.89408385590085}, {\"skill\": 40.36292783399484, \"luck1\": 1.3553057912324462, \"luck2\": -2.414617885419778, \"skill_measure1\": 41.718233625227285, \"skill_measure2\": 37.94830994857506}, {\"skill\": 39.88084086936993, \"luck1\": -8.645760780102451, \"luck2\": 3.7948105431984267, \"skill_measure1\": 31.235080089267484, \"skill_measure2\": 43.67565141256836}, {\"skill\": 28.10026370764099, \"luck1\": -3.982135323108922, \"luck2\": -0.9919517217965248, \"skill_measure1\": 24.11812838453207, \"skill_measure2\": 27.108311985844466}, {\"skill\": 50.63629585973999, \"luck1\": -5.2525836912457216, \"luck2\": 13.165200193722892, \"skill_measure1\": 45.38371216849427, \"skill_measure2\": 63.801496053462884}, {\"skill\": 44.69128559112699, \"luck1\": 4.385022357340827, \"luck2\": -0.5801332971614614, \"skill_measure1\": 49.07630794846782, \"skill_measure2\": 44.11115229396553}, {\"skill\": 53.182127130767434, \"luck1\": -2.6428494613376836, \"luck2\": -5.421154037438014, \"skill_measure1\": 50.53927766942975, \"skill_measure2\": 47.76097309332942}, {\"skill\": 34.401151990639676, \"luck1\": -9.657276815611556, \"luck2\": 1.9195661599768132, \"skill_measure1\": 24.74387517502812, \"skill_measure2\": 36.320718150616486}, {\"skill\": 51.4658039620845, \"luck1\": 3.6884015515610025, \"luck2\": -7.000943768608678, \"skill_measure1\": 55.1542055136455, \"skill_measure2\": 44.46486019347582}, {\"skill\": 41.65415766862603, \"luck1\": -9.896681020231311, \"luck2\": -8.68940839407664, \"skill_measure1\": 31.757476648394714, \"skill_measure2\": 32.96474927454939}, {\"skill\": 68.27320874196012, \"luck1\": -4.575238741425937, \"luck2\": 1.5400673545560315, \"skill_measure1\": 63.697970000534184, \"skill_measure2\": 69.81327609651615}, {\"skill\": 49.567474051867514, \"luck1\": -3.180987824333158, \"luck2\": -3.771529567499849, \"skill_measure1\": 46.386486227534355, \"skill_measure2\": 45.795944484367666}, {\"skill\": 71.61528664837896, \"luck1\": -3.5458741484839438, \"luck2\": 5.916253756540588, \"skill_measure1\": 68.06941249989501, \"skill_measure2\": 77.53154040491954}, {\"skill\": 61.772855827531735, \"luck1\": -4.019544733079406, \"luck2\": 2.293735658835894, \"skill_measure1\": 57.75331109445233, \"skill_measure2\": 64.06659148636763}, {\"skill\": 40.66109118378041, \"luck1\": -18.994974303517736, \"luck2\": 7.883609142066199, \"skill_measure1\": 21.66611688026267, \"skill_measure2\": 48.544700325846605}, {\"skill\": 76.095005232821, \"luck1\": -6.140382594352353, \"luck2\": -5.1242970067241425, \"skill_measure1\": 69.95462263846863, \"skill_measure2\": 70.97070822609685}, {\"skill\": 64.20682367456418, \"luck1\": -3.1827417677802656, \"luck2\": -4.512504767649846, \"skill_measure1\": 61.02408190678391, \"skill_measure2\": 59.69431890691433}, {\"skill\": 49.90849352487919, \"luck1\": 0.43652221300880745, \"luck2\": -1.523451356213211, \"skill_measure1\": 50.345015737888, \"skill_measure2\": 48.38504216866598}, {\"skill\": 47.087889323721036, \"luck1\": -3.1486695185984637, \"luck2\": -1.5271716997361418, \"skill_measure1\": 43.939219805122576, \"skill_measure2\": 45.56071762398489}, {\"skill\": 55.33249086408397, \"luck1\": 8.25183864210494, \"luck2\": 0.8210386714169033, \"skill_measure1\": 63.58432950618891, \"skill_measure2\": 56.15352953550087}, {\"skill\": 51.984141496166835, \"luck1\": -0.8781073596649827, \"luck2\": -5.303045977018438, \"skill_measure1\": 51.106034136501854, \"skill_measure2\": 46.6810955191484}, {\"skill\": 58.809739025811915, \"luck1\": 4.734889218800399, \"luck2\": 2.2884877737412306, \"skill_measure1\": 63.54462824461231, \"skill_measure2\": 61.098226799553146}, {\"skill\": 43.7346181060857, \"luck1\": -2.222215283632216, \"luck2\": 3.5140081488374406, \"skill_measure1\": 41.51240282245348, \"skill_measure2\": 47.24862625492314}, {\"skill\": 32.41282028591363, \"luck1\": -7.895823057322774, \"luck2\": 1.3231901184012433, \"skill_measure1\": 24.51699722859086, \"skill_measure2\": 33.736010404314875}, {\"skill\": 52.70876688647349, \"luck1\": 2.669961057711139, \"luck2\": 1.0848475546061311, \"skill_measure1\": 55.37872794418463, \"skill_measure2\": 53.79361444107962}, {\"skill\": 68.14998111482095, \"luck1\": -1.0478086962175048, \"luck2\": -5.614188325857087, \"skill_measure1\": 67.10217241860344, \"skill_measure2\": 62.53579278896386}, {\"skill\": 48.309605863364936, \"luck1\": -1.2403799989925495, \"luck2\": 6.110136836417402, \"skill_measure1\": 47.069225864372385, \"skill_measure2\": 54.41974269978234}, {\"skill\": 48.14395877754685, \"luck1\": 3.182906933015884, \"luck2\": 1.2074937623401947, \"skill_measure1\": 51.326865710562736, \"skill_measure2\": 49.35145253988704}, {\"skill\": 44.13129684440173, \"luck1\": -7.905081867282815, \"luck2\": 4.157778991374668, \"skill_measure1\": 36.226214977118914, \"skill_measure2\": 48.2890758357764}, {\"skill\": 57.04696957799379, \"luck1\": 0.9209894142617585, \"luck2\": 6.240464790435692, \"skill_measure1\": 57.967958992255554, \"skill_measure2\": 63.28743436842949}, {\"skill\": 62.17250768974567, \"luck1\": 0.019555659740193396, \"luck2\": 1.7567268150304973, \"skill_measure1\": 62.19206334948586, \"skill_measure2\": 63.92923450477617}, {\"skill\": 55.39410307782158, \"luck1\": -5.910710113408108, \"luck2\": 9.487733335850415, \"skill_measure1\": 49.483392964413476, \"skill_measure2\": 64.881836413672}, {\"skill\": 52.628895513314625, \"luck1\": -4.426499920681586, \"luck2\": -8.690798054852813, \"skill_measure1\": 48.20239559263304, \"skill_measure2\": 43.93809745846181}, {\"skill\": 51.38643478674102, \"luck1\": -3.3273960620771836, \"luck2\": -2.1874895455196137, \"skill_measure1\": 48.059038724663836, \"skill_measure2\": 49.19894524122141}, {\"skill\": 45.33837837245233, \"luck1\": -1.1524039242976194, \"luck2\": 3.986120631399579, \"skill_measure1\": 44.18597444815471, \"skill_measure2\": 49.32449900385191}, {\"skill\": 29.831494274631293, \"luck1\": -6.075225471874527, \"luck2\": 6.872219780584383, \"skill_measure1\": 23.756268802756765, \"skill_measure2\": 36.70371405521568}, {\"skill\": 53.355896780408614, \"luck1\": 4.030664126413466, \"luck2\": 4.5170479455791135, \"skill_measure1\": 57.38656090682208, \"skill_measure2\": 57.87294472598773}, {\"skill\": 56.08005410665244, \"luck1\": 7.474075042241859, \"luck2\": 4.953881189616107, \"skill_measure1\": 63.5541291488943, \"skill_measure2\": 61.033935296268545}, {\"skill\": 56.88224726156227, \"luck1\": -2.9488773259532772, \"luck2\": 3.3443332308811953, \"skill_measure1\": 53.933369935608994, \"skill_measure2\": 60.22658049244347}, {\"skill\": 46.56659696898895, \"luck1\": -6.169917671982547, \"luck2\": -4.600955350704723, \"skill_measure1\": 40.3966792970064, \"skill_measure2\": 41.965641618284224}, {\"skill\": 63.19979547116985, \"luck1\": -2.5565696982760757, \"luck2\": 18.97833411649293, \"skill_measure1\": 60.64322577289377, \"skill_measure2\": 82.17812958766278}, {\"skill\": 46.09809130042758, \"luck1\": 1.351323439117493, \"luck2\": 0.4762465526334717, \"skill_measure1\": 47.44941473954508, \"skill_measure2\": 46.57433785306105}, {\"skill\": 79.27341786462418, \"luck1\": 1.759601273326288, \"luck2\": 2.3374667829920313, \"skill_measure1\": 81.03301913795046, \"skill_measure2\": 81.61088464761622}, {\"skill\": 48.291949849609566, \"luck1\": -4.259709315008374, \"luck2\": 8.212599651461337, \"skill_measure1\": 44.03224053460119, \"skill_measure2\": 56.504549501070905}, {\"skill\": 54.83419607991355, \"luck1\": 2.3438459348039733, \"luck2\": 1.3747462716843275, \"skill_measure1\": 57.178042014717526, \"skill_measure2\": 56.208942351597884}, {\"skill\": 59.80675200419192, \"luck1\": -0.05164602812636444, \"luck2\": -0.5024905740856805, \"skill_measure1\": 59.75510597606556, \"skill_measure2\": 59.30426143010624}, {\"skill\": 61.151353519150064, \"luck1\": -11.632522214804144, \"luck2\": 1.308138128283455, \"skill_measure1\": 49.51883130434592, \"skill_measure2\": 62.45949164743352}, {\"skill\": 50.470921266068224, \"luck1\": 4.465163357463913, \"luck2\": -3.8138494915784533, \"skill_measure1\": 54.93608462353214, \"skill_measure2\": 46.65707177448977}, {\"skill\": 37.325943929370986, \"luck1\": -2.802445503918623, \"luck2\": 2.6325917585941245, \"skill_measure1\": 34.52349842545236, \"skill_measure2\": 39.95853568796511}, {\"skill\": 44.065223360545026, \"luck1\": 6.677802271057134, \"luck2\": 4.229442736707357, \"skill_measure1\": 50.74302563160216, \"skill_measure2\": 48.29466609725238}, {\"skill\": 40.771722514511026, \"luck1\": -7.855840154890169, \"luck2\": -8.315694472038201, \"skill_measure1\": 32.91588235962086, \"skill_measure2\": 32.45602804247282}, {\"skill\": 54.282649016366854, \"luck1\": -4.404774785840138, \"luck2\": -8.015203858016687, \"skill_measure1\": 49.877874230526714, \"skill_measure2\": 46.26744515835017}, {\"skill\": 48.57388595729344, \"luck1\": -3.480611164710477, \"luck2\": -2.641345921124503, \"skill_measure1\": 45.09327479258297, \"skill_measure2\": 45.93254003616894}, {\"skill\": 54.37160284206093, \"luck1\": 1.6628079536229459, \"luck2\": -0.2584381450865476, \"skill_measure1\": 56.034410795683876, \"skill_measure2\": 54.11316469697438}, {\"skill\": 51.85577924604053, \"luck1\": 3.9192746255359934, \"luck2\": -8.363515034825197, \"skill_measure1\": 55.77505387157652, \"skill_measure2\": 43.49226421121533}, {\"skill\": 46.91402869077857, \"luck1\": -0.2881417444957443, \"luck2\": -2.440056471484975, \"skill_measure1\": 46.625886946282826, \"skill_measure2\": 44.4739722192936}, {\"skill\": 58.271750026848345, \"luck1\": -3.4130954037816124, \"luck2\": 8.011313060737304, \"skill_measure1\": 54.858654623066734, \"skill_measure2\": 66.28306308758565}, {\"skill\": 34.64616343032053, \"luck1\": 10.480793303887603, \"luck2\": 0.19741336381574034, \"skill_measure1\": 45.12695673420813, \"skill_measure2\": 34.84357679413627}, {\"skill\": 52.298399846462885, \"luck1\": 6.9250288247567795, \"luck2\": 0.48484837837456485, \"skill_measure1\": 59.223428671219665, \"skill_measure2\": 52.78324822483745}, {\"skill\": 56.136338525361374, \"luck1\": -10.831995360900644, \"luck2\": 2.9235096067789312, \"skill_measure1\": 45.30434316446073, \"skill_measure2\": 59.0598481321403}, {\"skill\": 57.53571135546822, \"luck1\": -0.28360783836602477, \"luck2\": -11.069177059074322, \"skill_measure1\": 57.2521035171022, \"skill_measure2\": 46.4665342963939}, {\"skill\": 61.72102285670758, \"luck1\": 0.8333744865330045, \"luck2\": 6.337750337529214, \"skill_measure1\": 62.55439734324058, \"skill_measure2\": 68.05877319423679}, {\"skill\": 66.0899676282623, \"luck1\": 5.009125450151628, \"luck2\": 1.2947450070714805, \"skill_measure1\": 71.09909307841393, \"skill_measure2\": 67.38471263533378}, {\"skill\": 35.87893422758551, \"luck1\": 1.9273547022237394, \"luck2\": -0.03872267915466057, \"skill_measure1\": 37.80628892980925, \"skill_measure2\": 35.84021154843085}, {\"skill\": 43.906916285305904, \"luck1\": -2.3142871274047647, \"luck2\": 3.777179165517745, \"skill_measure1\": 41.592629157901136, \"skill_measure2\": 47.68409545082365}, {\"skill\": 52.66985607071772, \"luck1\": 0.1721669938072219, \"luck2\": 3.692478389880811, \"skill_measure1\": 52.842023064524945, \"skill_measure2\": 56.36233446059853}, {\"skill\": 51.67271579002587, \"luck1\": -2.5211145531583123, \"luck2\": -1.3723577386396109, \"skill_measure1\": 49.151601236867556, \"skill_measure2\": 50.300358051386254}, {\"skill\": 58.11170384522303, \"luck1\": -0.04131710644782424, \"luck2\": 3.818185409591605, \"skill_measure1\": 58.070386738775206, \"skill_measure2\": 61.92988925481464}, {\"skill\": 49.74075366374215, \"luck1\": -1.0870753216033822, \"luck2\": 9.450677177467604, \"skill_measure1\": 48.65367834213877, \"skill_measure2\": 59.19143084120975}, {\"skill\": 59.67401510965685, \"luck1\": -8.255307533818572, \"luck2\": -4.9132672588918815, \"skill_measure1\": 51.418707575838276, \"skill_measure2\": 54.76074785076497}, {\"skill\": 56.37657641807545, \"luck1\": 5.034982119444443, \"luck2\": -7.896358106472901, \"skill_measure1\": 61.411558537519895, \"skill_measure2\": 48.48021831160255}, {\"skill\": 38.01274766766777, \"luck1\": 0.1489109561118954, \"luck2\": -3.753961451606788, \"skill_measure1\": 38.161658623779665, \"skill_measure2\": 34.25878621606098}, {\"skill\": 56.75996352287833, \"luck1\": 3.8513120453076417, \"luck2\": -10.970189328748685, \"skill_measure1\": 60.611275568185974, \"skill_measure2\": 45.78977419412965}, {\"skill\": 44.22390172447386, \"luck1\": -8.526347879419715, \"luck2\": 0.11093840012422188, \"skill_measure1\": 35.697553845054145, \"skill_measure2\": 44.33484012459808}, {\"skill\": 33.88240439768179, \"luck1\": -2.2079807354153873, \"luck2\": 8.640384918979475, \"skill_measure1\": 31.674423662266403, \"skill_measure2\": 42.52278931666126}, {\"skill\": 38.964767218615165, \"luck1\": -8.03434700278872, \"luck2\": 4.352817085198393, \"skill_measure1\": 30.930420215826445, \"skill_measure2\": 43.31758430381356}, {\"skill\": 64.4298932441348, \"luck1\": 6.562847936888105, \"luck2\": -4.325485697195262, \"skill_measure1\": 70.99274118102291, \"skill_measure2\": 60.10440754693954}, {\"skill\": 63.32977475666852, \"luck1\": -1.40221161617794, \"luck2\": -3.4451709932146155, \"skill_measure1\": 61.92756314049058, \"skill_measure2\": 59.8846037634539}, {\"skill\": 37.68183078583101, \"luck1\": 7.878373633201367, \"luck2\": 9.912750240727885, \"skill_measure1\": 45.560204419032374, \"skill_measure2\": 47.5945810265589}, {\"skill\": 34.624574192847064, \"luck1\": -2.2569774044248487, \"luck2\": 3.116983201879679, \"skill_measure1\": 32.36759678842221, \"skill_measure2\": 37.74155739472674}, {\"skill\": 48.22174736401604, \"luck1\": 0.5836258646825853, \"luck2\": -6.231657496056106, \"skill_measure1\": 48.80537322869863, \"skill_measure2\": 41.99008986795993}, {\"skill\": 57.7647347045182, \"luck1\": 8.843474231567672, \"luck2\": 2.727252331106577, \"skill_measure1\": 66.60820893608587, \"skill_measure2\": 60.491987035624774}, {\"skill\": 57.54099403367143, \"luck1\": 5.4992308118888955, \"luck2\": -7.728234025195254, \"skill_measure1\": 63.040224845560324, \"skill_measure2\": 49.812760008476175}, {\"skill\": 41.20298293968643, \"luck1\": -2.649591158515901, \"luck2\": -5.180911125549566, \"skill_measure1\": 38.553391781170525, \"skill_measure2\": 36.022071814136865}, {\"skill\": 51.40268586818504, \"luck1\": -4.183544608087608, \"luck2\": 2.2857824984367974, \"skill_measure1\": 47.21914126009743, \"skill_measure2\": 53.688468366621834}, {\"skill\": 23.916577138383314, \"luck1\": -5.605499272387434, \"luck2\": 7.0803093032408775, \"skill_measure1\": 18.31107786599588, \"skill_measure2\": 30.99688644162419}, {\"skill\": 68.63482724383103, \"luck1\": 4.382378770659926, \"luck2\": 4.279804051494062, \"skill_measure1\": 73.01720601449095, \"skill_measure2\": 72.9146312953251}, {\"skill\": 55.079411325988765, \"luck1\": -1.0280182618247304, \"luck2\": -8.161159473559064, \"skill_measure1\": 54.05139306416403, \"skill_measure2\": 46.918251852429705}, {\"skill\": 44.08601735933257, \"luck1\": -3.6741832772350005, \"luck2\": 2.4223439410300123, \"skill_measure1\": 40.41183408209757, \"skill_measure2\": 46.50836130036259}, {\"skill\": 40.07678101418558, \"luck1\": 0.2643714652477808, \"luck2\": -0.2577754896001785, \"skill_measure1\": 40.34115247943336, \"skill_measure2\": 39.8190055245854}, {\"skill\": 51.22992812327694, \"luck1\": -6.346093664448348, \"luck2\": -3.8932698355792663, \"skill_measure1\": 44.883834458828595, \"skill_measure2\": 47.336658287697674}, {\"skill\": 45.15822416146696, \"luck1\": -0.44931198164026687, \"luck2\": 0.40111113922223657, \"skill_measure1\": 44.7089121798267, \"skill_measure2\": 45.5593353006892}, {\"skill\": 49.995872623876124, \"luck1\": 1.3822172029027988, \"luck2\": -1.6191440059912359, \"skill_measure1\": 51.378089826778925, \"skill_measure2\": 48.376728617884886}, {\"skill\": 59.813607695995, \"luck1\": 5.091982208377646, \"luck2\": 9.106237397784065, \"skill_measure1\": 64.90558990437265, \"skill_measure2\": 68.91984509377907}, {\"skill\": 54.80547514616745, \"luck1\": 1.862338663543988, \"luck2\": -4.3658399258721445, \"skill_measure1\": 56.66781380971144, \"skill_measure2\": 50.43963522029531}, {\"skill\": 50.68274832672745, \"luck1\": 4.359491501363774, \"luck2\": 1.002732231085028, \"skill_measure1\": 55.042239828091226, \"skill_measure2\": 51.685480557812475}, {\"skill\": 50.34017709423373, \"luck1\": 0.9129258047714939, \"luck2\": -8.934254243945034, \"skill_measure1\": 51.25310289900523, \"skill_measure2\": 41.4059228502887}, {\"skill\": 57.592993907924665, \"luck1\": 2.1500530542288065, \"luck2\": -2.602059006924133, \"skill_measure1\": 59.74304696215347, \"skill_measure2\": 54.99093490100053}, {\"skill\": 53.47171547865958, \"luck1\": -4.989860749366029, \"luck2\": -1.6259487679638718, \"skill_measure1\": 48.48185472929355, \"skill_measure2\": 51.84576671069571}, {\"skill\": 67.52557838940764, \"luck1\": 4.1150455610247345, \"luck2\": 12.234923158850847, \"skill_measure1\": 71.64062395043237, \"skill_measure2\": 79.76050154825849}, {\"skill\": 70.17141871432496, \"luck1\": -2.656572500619028, \"luck2\": -5.051640168556545, \"skill_measure1\": 67.51484621370592, \"skill_measure2\": 65.11977854576841}, {\"skill\": 58.815660423102656, \"luck1\": 4.455259878142023, \"luck2\": -0.3710524873449086, \"skill_measure1\": 63.27092030124468, \"skill_measure2\": 58.444607935757745}, {\"skill\": 61.53257592736265, \"luck1\": -4.895364623753138, \"luck2\": -3.340597008520149, \"skill_measure1\": 56.63721130360951, \"skill_measure2\": 58.1919789188425}, {\"skill\": 41.409387861185195, \"luck1\": 2.9931054312291834, \"luck2\": 0.11224442326147335, \"skill_measure1\": 44.40249329241438, \"skill_measure2\": 41.52163228444667}, {\"skill\": 54.65174217713541, \"luck1\": 4.789892641971849, \"luck2\": -10.157376795230865, \"skill_measure1\": 59.44163481910726, \"skill_measure2\": 44.494365381904544}, {\"skill\": 50.45734275092627, \"luck1\": -3.03842379114218, \"luck2\": 7.031421587768991, \"skill_measure1\": 47.418918959784094, \"skill_measure2\": 57.48876433869526}, {\"skill\": 49.7655286709003, \"luck1\": 1.1234402362680962, \"luck2\": 1.2854596888056127, \"skill_measure1\": 50.8889689071684, \"skill_measure2\": 51.05098835970591}, {\"skill\": 68.10329385621898, \"luck1\": -3.904957612256406, \"luck2\": -6.127636277772831, \"skill_measure1\": 64.19833624396257, \"skill_measure2\": 61.97565757844615}, {\"skill\": 37.48526697313677, \"luck1\": -0.2903475252540987, \"luck2\": -6.126901924806841, \"skill_measure1\": 37.19491944788267, \"skill_measure2\": 31.358365048329926}, {\"skill\": 45.50990429119522, \"luck1\": -0.36507972248224047, \"luck2\": -0.0710331531806705, \"skill_measure1\": 45.14482456871298, \"skill_measure2\": 45.43887113801455}, {\"skill\": 48.171740615061736, \"luck1\": -5.805843479703299, \"luck2\": 5.143511385638635, \"skill_measure1\": 42.36589713535844, \"skill_measure2\": 53.31525200070037}, {\"skill\": 46.0197786050273, \"luck1\": 1.8858201035334308, \"luck2\": 2.931245993351303, \"skill_measure1\": 47.90559870856073, \"skill_measure2\": 48.9510245983786}, {\"skill\": 63.634183666753316, \"luck1\": 1.3383193390752137, \"luck2\": 0.19109194674021412, \"skill_measure1\": 64.97250300582853, \"skill_measure2\": 63.82527561349353}, {\"skill\": 47.90403491268187, \"luck1\": 0.13703166307874864, \"luck2\": -7.855940826165755, \"skill_measure1\": 48.041066575760624, \"skill_measure2\": 40.048094086516116}, {\"skill\": 64.38930045699225, \"luck1\": -6.1474370637670175, \"luck2\": 1.8785211369773058, \"skill_measure1\": 58.24186339322523, \"skill_measure2\": 66.26782159396956}, {\"skill\": 43.335253703594105, \"luck1\": 8.60060666633424, \"luck2\": 8.922389601612512, \"skill_measure1\": 51.93586036992835, \"skill_measure2\": 52.257643305206614}, {\"skill\": 42.30637728156377, \"luck1\": -2.5272021156020474, \"luck2\": 0.9285426724511036, \"skill_measure1\": 39.779175165961725, \"skill_measure2\": 43.23491995401487}, {\"skill\": 38.36788721430909, \"luck1\": -4.385712561298681, \"luck2\": -4.069531225129449, \"skill_measure1\": 33.98217465301041, \"skill_measure2\": 34.29835598917964}, {\"skill\": 55.419761349704466, \"luck1\": 6.809816660000086, \"luck2\": -1.0935240937183388, \"skill_measure1\": 62.229578009704554, \"skill_measure2\": 54.32623725598613}, {\"skill\": 54.60172015946554, \"luck1\": -0.0492229304798302, \"luck2\": -7.188341846385601, \"skill_measure1\": 54.552497228985715, \"skill_measure2\": 47.413378313079946}, {\"skill\": 54.16322171158636, \"luck1\": -5.790305025199545, \"luck2\": -6.916104732777497, \"skill_measure1\": 48.372916686386816, \"skill_measure2\": 47.24711697880886}, {\"skill\": 59.703189192643194, \"luck1\": 9.717325396573361, \"luck2\": -8.804630122136047, \"skill_measure1\": 69.42051458921655, \"skill_measure2\": 50.89855907050715}, {\"skill\": 52.18204598295557, \"luck1\": 8.339637793119117, \"luck2\": -3.0932397963422007, \"skill_measure1\": 60.52168377607469, \"skill_measure2\": 49.08880618661337}, {\"skill\": 69.21095232232285, \"luck1\": -4.632284086079934, \"luck2\": -1.781113097139635, \"skill_measure1\": 64.57866823624292, \"skill_measure2\": 67.42983922518322}, {\"skill\": 75.78226405945117, \"luck1\": 6.970772989155924, \"luck2\": 12.391480238443876, \"skill_measure1\": 82.75303704860708, \"skill_measure2\": 88.17374429789504}, {\"skill\": 44.676049796701754, \"luck1\": 3.926993624051784, \"luck2\": -7.37625529049215, \"skill_measure1\": 48.60304342075354, \"skill_measure2\": 37.29979450620961}, {\"skill\": 52.76973583347383, \"luck1\": -2.76489237663522, \"luck2\": -8.15313709681411, \"skill_measure1\": 50.004843456838614, \"skill_measure2\": 44.616598736659725}, {\"skill\": 50.921941576519664, \"luck1\": -7.812246984917699, \"luck2\": -2.8821658805861956, \"skill_measure1\": 43.109694591601965, \"skill_measure2\": 48.03977569593347}, {\"skill\": 56.05913089984955, \"luck1\": -4.505569104948765, \"luck2\": -4.056839195257113, \"skill_measure1\": 51.55356179490079, \"skill_measure2\": 52.00229170459244}, {\"skill\": 62.0809818916251, \"luck1\": -5.839401336503204, \"luck2\": -1.8348383165681517, \"skill_measure1\": 56.2415805551219, \"skill_measure2\": 60.24614357505695}, {\"skill\": 47.39598701547343, \"luck1\": -10.64152917410551, \"luck2\": -5.886383243291339, \"skill_measure1\": 36.75445784136792, \"skill_measure2\": 41.50960377218209}, {\"skill\": 59.81450679916878, \"luck1\": -5.240166495747884, \"luck2\": -1.839906379118035, \"skill_measure1\": 54.5743403034209, \"skill_measure2\": 57.97460042005075}, {\"skill\": 48.2587881067443, \"luck1\": 5.509814590114955, \"luck2\": 0.21610854484709643, \"skill_measure1\": 53.768602696859254, \"skill_measure2\": 48.47489665159139}, {\"skill\": 51.0326104268284, \"luck1\": -6.727098646675621, \"luck2\": 10.604669398437705, \"skill_measure1\": 44.30551178015278, \"skill_measure2\": 61.637279825266106}, {\"skill\": 58.51927241923, \"luck1\": 1.7475921539364336, \"luck2\": 0.8090591203078494, \"skill_measure1\": 60.26686457316643, \"skill_measure2\": 59.32833153953785}, {\"skill\": 58.38754878938011, \"luck1\": 7.9661049290019825, \"luck2\": 0.9271287915068964, \"skill_measure1\": 66.35365371838209, \"skill_measure2\": 59.31467758088701}, {\"skill\": 38.26382330518077, \"luck1\": -2.4704731628614085, \"luck2\": 1.0266592832818862, \"skill_measure1\": 35.79335014231936, \"skill_measure2\": 39.29048258846266}, {\"skill\": 37.112755756457915, \"luck1\": -3.58830449076111, \"luck2\": 5.763853780513289, \"skill_measure1\": 33.524451265696804, \"skill_measure2\": 42.8766095369712}, {\"skill\": 46.0743132608833, \"luck1\": -2.835428030904267, \"luck2\": -6.232610769515131, \"skill_measure1\": 43.23888522997903, \"skill_measure2\": 39.84170249136817}, {\"skill\": 60.97155165224582, \"luck1\": 5.514913441169829, \"luck2\": 9.118002459455589, \"skill_measure1\": 66.48646509341565, \"skill_measure2\": 70.0895541117014}, {\"skill\": 47.87603369215578, \"luck1\": 8.0311867134636, \"luck2\": -1.3122284978972385, \"skill_measure1\": 55.90722040561938, \"skill_measure2\": 46.56380519425854}, {\"skill\": 38.81394011063037, \"luck1\": 5.141529532727834, \"luck2\": 0.5541797650786355, \"skill_measure1\": 43.9554696433582, \"skill_measure2\": 39.368119875709006}, {\"skill\": 33.56215008458548, \"luck1\": -0.7089512154603332, \"luck2\": -0.25037368332617155, \"skill_measure1\": 32.85319886912515, \"skill_measure2\": 33.31177640125931}, {\"skill\": 40.34241701156757, \"luck1\": -3.830443112665394, \"luck2\": -5.15368957015767, \"skill_measure1\": 36.51197389890218, \"skill_measure2\": 35.188727441409895}, {\"skill\": 70.5290297036101, \"luck1\": 5.1338504140596815, \"luck2\": 0.13205655107054207, \"skill_measure1\": 75.66288011766979, \"skill_measure2\": 70.66108625468065}, {\"skill\": 45.6686345926278, \"luck1\": 4.557001531808998, \"luck2\": 1.6317980557460496, \"skill_measure1\": 50.2256361244368, \"skill_measure2\": 47.30043264837385}, {\"skill\": 56.755618622570516, \"luck1\": -0.6907575299597478, \"luck2\": -0.21217151454204233, \"skill_measure1\": 56.06486109261077, \"skill_measure2\": 56.543447108028474}, {\"skill\": 41.62613448240489, \"luck1\": -2.569241887635875, \"luck2\": -4.588658385293515, \"skill_measure1\": 39.05689259476902, \"skill_measure2\": 37.03747609711138}, {\"skill\": 53.534532369253775, \"luck1\": 5.724822525802614, \"luck2\": -4.3388522300957435, \"skill_measure1\": 59.25935489505639, \"skill_measure2\": 49.19568013915803}, {\"skill\": 46.00538039049845, \"luck1\": 14.103239354354882, \"luck2\": -7.206685484619743, \"skill_measure1\": 60.108619744853335, \"skill_measure2\": 38.79869490587871}, {\"skill\": 59.6282635235644, \"luck1\": 3.7318784871012256, \"luck2\": -0.8090093640090277, \"skill_measure1\": 63.360142010665626, \"skill_measure2\": 58.81925415955537}, {\"skill\": 55.8497049954054, \"luck1\": 1.7646453256900854, \"luck2\": -5.7033200736121, \"skill_measure1\": 57.614350321095486, \"skill_measure2\": 50.146384921793306}, {\"skill\": 50.44738551008627, \"luck1\": 5.431260197162107, \"luck2\": 4.392816521204818, \"skill_measure1\": 55.87864570724838, \"skill_measure2\": 54.840202031291085}, {\"skill\": 61.76958372391432, \"luck1\": -7.444172188811936, \"luck2\": -1.1036807416980707, \"skill_measure1\": 54.32541153510239, \"skill_measure2\": 60.66590298221625}, {\"skill\": 50.64972849863358, \"luck1\": 3.0308074727694634, \"luck2\": -5.447832133985063, \"skill_measure1\": 53.68053597140304, \"skill_measure2\": 45.20189636464852}, {\"skill\": 58.643116455954086, \"luck1\": -0.8915564130363723, \"luck2\": -6.071804186224238, \"skill_measure1\": 57.75156004291772, \"skill_measure2\": 52.571312269729845}, {\"skill\": 64.30228870558935, \"luck1\": 3.092967995235203, \"luck2\": -7.541697145001645, \"skill_measure1\": 67.39525670082455, \"skill_measure2\": 56.760591560587706}, {\"skill\": 64.51594242154015, \"luck1\": -0.27028750636523985, \"luck2\": 5.799739926322606, \"skill_measure1\": 64.24565491517491, \"skill_measure2\": 70.31568234786275}, {\"skill\": 50.91823215337771, \"luck1\": -10.62928427233051, \"luck2\": 3.896037995399903, \"skill_measure1\": 40.2889478810472, \"skill_measure2\": 54.81427014877761}, {\"skill\": 77.78620581920597, \"luck1\": -0.3718180387254976, \"luck2\": -9.753925083955595, \"skill_measure1\": 77.41438778048048, \"skill_measure2\": 68.03228073525038}, {\"skill\": 53.711892204653424, \"luck1\": 5.294664759729454, \"luck2\": 4.34474208618363, \"skill_measure1\": 59.00655696438288, \"skill_measure2\": 58.05663429083705}, {\"skill\": 50.88791019632301, \"luck1\": 3.658933211334831, \"luck2\": 4.365212286717542, \"skill_measure1\": 54.546843407657846, \"skill_measure2\": 55.253122483040556}, {\"skill\": 46.72726209147855, \"luck1\": 5.80401396955933, \"luck2\": 2.6633019212369873, \"skill_measure1\": 52.53127606103788, \"skill_measure2\": 49.39056401271554}, {\"skill\": 38.12675848825251, \"luck1\": 1.4583902814938907, \"luck2\": -2.778059842873078, \"skill_measure1\": 39.585148769746404, \"skill_measure2\": 35.348698645379436}, {\"skill\": 63.08972604516835, \"luck1\": 1.10237664803123, \"luck2\": 9.208378152869708, \"skill_measure1\": 64.19210269319957, \"skill_measure2\": 72.29810419803806}, {\"skill\": 39.69176690542747, \"luck1\": 7.432018875719427, \"luck2\": -0.44986762624933846, \"skill_measure1\": 47.1237857811469, \"skill_measure2\": 39.241899279178135}, {\"skill\": 55.652676089155925, \"luck1\": -0.004939301685535658, \"luck2\": 8.983047294337785, \"skill_measure1\": 55.647736787470386, \"skill_measure2\": 64.63572338349371}, {\"skill\": 57.91811538979619, \"luck1\": -6.335902318354164, \"luck2\": -6.466230813405803, \"skill_measure1\": 51.58221307144203, \"skill_measure2\": 51.45188457639039}, {\"skill\": 44.12516389614406, \"luck1\": 5.451778064437782, \"luck2\": -5.6205744730100875, \"skill_measure1\": 49.57694196058184, \"skill_measure2\": 38.50458942313397}, {\"skill\": 59.4507566834788, \"luck1\": 5.010111382854857, \"luck2\": 1.0934401530291484, \"skill_measure1\": 64.46086806633366, \"skill_measure2\": 60.54419683650795}, {\"skill\": 55.70399577001334, \"luck1\": 2.754259317137431, \"luck2\": -0.3469722840831688, \"skill_measure1\": 58.458255087150775, \"skill_measure2\": 55.35702348593017}, {\"skill\": 53.70931028183886, \"luck1\": 8.09368022573478, \"luck2\": 10.46462013254876, \"skill_measure1\": 61.80299050757364, \"skill_measure2\": 64.17393041438763}, {\"skill\": 40.60958093090022, \"luck1\": 0.7886030476032464, \"luck2\": -0.7451145542382837, \"skill_measure1\": 41.39818397850347, \"skill_measure2\": 39.86446637666194}, {\"skill\": 55.08724077948925, \"luck1\": 3.6443218480986777, \"luck2\": 1.9181261516486212, \"skill_measure1\": 58.73156262758793, \"skill_measure2\": 57.00536693113787}, {\"skill\": 60.51462268514545, \"luck1\": 2.0563737019519963, \"luck2\": -0.7208226288548242, \"skill_measure1\": 62.570996387097445, \"skill_measure2\": 59.79380005629062}, {\"skill\": 46.558790242292424, \"luck1\": -1.3394159003433461, \"luck2\": 9.395307762340348, \"skill_measure1\": 45.21937434194908, \"skill_measure2\": 55.95409800463277}, {\"skill\": 69.80922132533286, \"luck1\": -3.0364124431345108, \"luck2\": -2.942453312179345, \"skill_measure1\": 66.77280888219835, \"skill_measure2\": 66.86676801315352}, {\"skill\": 37.66807826131243, \"luck1\": -6.104439475160963, \"luck2\": -4.637234680993813, \"skill_measure1\": 31.56363878615147, \"skill_measure2\": 33.03084358031862}, {\"skill\": 70.70112525965955, \"luck1\": -3.653652807761576, \"luck2\": 2.861756484727913, \"skill_measure1\": 67.04747245189797, \"skill_measure2\": 73.56288174438747}, {\"skill\": 45.10104424828138, \"luck1\": 1.7225168400446746, \"luck2\": 8.262048434779855, \"skill_measure1\": 46.82356108832606, \"skill_measure2\": 53.36309268306124}, {\"skill\": 57.05689819204878, \"luck1\": 2.9374824614096164, \"luck2\": 3.8430851929150824, \"skill_measure1\": 59.99438065345839, \"skill_measure2\": 60.89998338496386}, {\"skill\": 48.12211038360155, \"luck1\": 3.3799126253521243, \"luck2\": 5.224511358423353, \"skill_measure1\": 51.50202300895368, \"skill_measure2\": 53.34662174202491}, {\"skill\": 52.49925553393711, \"luck1\": -2.5134234521376553, \"luck2\": -1.5832997571748153, \"skill_measure1\": 49.98583208179945, \"skill_measure2\": 50.915955776762296}, {\"skill\": 49.177733110061766, \"luck1\": 0.31783893525820306, \"luck2\": -3.7661552321743965, \"skill_measure1\": 49.49557204531997, \"skill_measure2\": 45.41157787788737}, {\"skill\": 39.838740020931574, \"luck1\": -3.2736900621694702, \"luck2\": 1.6009578250463976, \"skill_measure1\": 36.5650499587621, \"skill_measure2\": 41.439697845977975}, {\"skill\": 40.47714553413874, \"luck1\": -13.133872821290822, \"luck2\": 6.881503673025645, \"skill_measure1\": 27.34327271284792, \"skill_measure2\": 47.35864920716439}, {\"skill\": 64.89712947380346, \"luck1\": 4.178376677260026, \"luck2\": -7.619048006412427, \"skill_measure1\": 69.07550615106348, \"skill_measure2\": 57.27808146739103}, {\"skill\": 51.233548031544764, \"luck1\": 0.5928670197290321, \"luck2\": -11.613821829099058, \"skill_measure1\": 51.8264150512738, \"skill_measure2\": 39.619726202445705}, {\"skill\": 55.621765577087885, \"luck1\": -0.4087976381257644, \"luck2\": -5.615656445409107, \"skill_measure1\": 55.21296793896212, \"skill_measure2\": 50.00610913167878}, {\"skill\": 41.80623483446145, \"luck1\": -1.1362819952438268, \"luck2\": -0.5056517994969449, \"skill_measure1\": 40.66995283921762, \"skill_measure2\": 41.300583034964504}, {\"skill\": 67.94387723982942, \"luck1\": -15.276517206417202, \"luck2\": 4.321311273743747, \"skill_measure1\": 52.667360033412216, \"skill_measure2\": 72.26518851357316}, {\"skill\": 71.65070099364297, \"luck1\": -4.138485226509033, \"luck2\": 7.9902023582751855, \"skill_measure1\": 67.51221576713394, \"skill_measure2\": 79.64090335191815}, {\"skill\": 48.911494002410564, \"luck1\": 4.872690521556615, \"luck2\": -6.022678124702181, \"skill_measure1\": 53.78418452396718, \"skill_measure2\": 42.88881587770838}, {\"skill\": 65.8529949833151, \"luck1\": -10.352375470572506, \"luck2\": -3.3199101462115332, \"skill_measure1\": 55.500619512742595, \"skill_measure2\": 62.533084837103566}, {\"skill\": 59.32577832328582, \"luck1\": -4.875856627239999, \"luck2\": -2.0675863249144006, \"skill_measure1\": 54.44992169604582, \"skill_measure2\": 57.258191998371416}, {\"skill\": 61.493278016268135, \"luck1\": 4.777542778566112, \"luck2\": 0.38520713168025417, \"skill_measure1\": 66.27082079483425, \"skill_measure2\": 61.87848514794839}, {\"skill\": 40.772740451790604, \"luck1\": -4.160026859275581, \"luck2\": -3.4911589195937403, \"skill_measure1\": 36.61271359251502, \"skill_measure2\": 37.28158153219687}, {\"skill\": 63.367245646532545, \"luck1\": -5.743934555208275, \"luck2\": -2.609918774809772, \"skill_measure1\": 57.62331109132427, \"skill_measure2\": 60.757326871722775}, {\"skill\": 57.86233801673411, \"luck1\": 0.2532102023854246, \"luck2\": 4.546619218697963, \"skill_measure1\": 58.11554821911953, \"skill_measure2\": 62.40895723543207}, {\"skill\": 46.22685148173349, \"luck1\": 0.750940164118991, \"luck2\": -5.757461891279597, \"skill_measure1\": 46.977791645852484, \"skill_measure2\": 40.46938959045389}, {\"skill\": 46.952439543081574, \"luck1\": 3.323724794759952, \"luck2\": -4.662908804956377, \"skill_measure1\": 50.27616433784153, \"skill_measure2\": 42.289530738125194}, {\"skill\": 54.091498378180745, \"luck1\": -2.0503408384249644, \"luck2\": -2.1724845770859407, \"skill_measure1\": 52.04115753975578, \"skill_measure2\": 51.919013801094806}, {\"skill\": 49.320772363965055, \"luck1\": 10.715953073169969, \"luck2\": 1.5465558056952666, \"skill_measure1\": 60.036725437135026, \"skill_measure2\": 50.867328169660325}, {\"skill\": 51.610641286465935, \"luck1\": -6.421173172354032, \"luck2\": -2.5782616065834665, \"skill_measure1\": 45.189468114111904, \"skill_measure2\": 49.03237967988247}, {\"skill\": 68.8375057669325, \"luck1\": 5.824872129998945, \"luck2\": -5.736603168138616, \"skill_measure1\": 74.66237789693145, \"skill_measure2\": 63.10090259879388}, {\"skill\": 44.425262307219604, \"luck1\": -2.7535308106513496, \"luck2\": -2.64762261778508, \"skill_measure1\": 41.671731496568256, \"skill_measure2\": 41.77763968943452}, {\"skill\": 58.42406267348345, \"luck1\": -1.4965884250619768, \"luck2\": 3.5390087462367408, \"skill_measure1\": 56.92747424842147, \"skill_measure2\": 61.96307141972019}, {\"skill\": 44.03398672373712, \"luck1\": 3.2216050944353465, \"luck2\": 0.25169129449922534, \"skill_measure1\": 47.25559181817247, \"skill_measure2\": 44.28567801823635}, {\"skill\": 64.11655981047173, \"luck1\": -1.4934869710619392, \"luck2\": -1.4194564762277084, \"skill_measure1\": 62.62307283940979, \"skill_measure2\": 62.69710333424402}, {\"skill\": 54.48752144362955, \"luck1\": 3.0924905489844754, \"luck2\": 5.5667194307428325, \"skill_measure1\": 57.58001199261402, \"skill_measure2\": 60.05424087437238}, {\"skill\": 43.17961022978515, \"luck1\": 1.8316820744829716, \"luck2\": -0.8228776578935543, \"skill_measure1\": 45.01129230426812, \"skill_measure2\": 42.35673257189159}, {\"skill\": 47.39665702894353, \"luck1\": 9.535919932438317, \"luck2\": -0.6643125679606864, \"skill_measure1\": 56.93257696138185, \"skill_measure2\": 46.732344460982844}, {\"skill\": 53.802350548466954, \"luck1\": -7.9663735991435445, \"luck2\": -4.314433758593302, \"skill_measure1\": 45.83597694932341, \"skill_measure2\": 49.48791678987365}, {\"skill\": 33.67400652329679, \"luck1\": -1.3130339238010258, \"luck2\": 11.171081785836046, \"skill_measure1\": 32.36097259949577, \"skill_measure2\": 44.845088309132834}, {\"skill\": 51.208358486646524, \"luck1\": 2.8389162605970073, \"luck2\": 1.9851378325902416, \"skill_measure1\": 54.047274747243534, \"skill_measure2\": 53.193496319236765}, {\"skill\": 56.18638592602724, \"luck1\": -9.768425344913338, \"luck2\": -1.3010247746067638, \"skill_measure1\": 46.4179605811139, \"skill_measure2\": 54.885361151420476}, {\"skill\": 32.24805230138239, \"luck1\": 9.708773298872188, \"luck2\": -0.6764383118604068, \"skill_measure1\": 41.956825600254575, \"skill_measure2\": 31.571613989521982}, {\"skill\": 52.47140029427412, \"luck1\": -4.213310194352388, \"luck2\": 1.206486424854692, \"skill_measure1\": 48.25809009992173, \"skill_measure2\": 53.677886719128814}, {\"skill\": 31.368473918823433, \"luck1\": 2.702158723301249, \"luck2\": 10.42084267184496, \"skill_measure1\": 34.07063264212468, \"skill_measure2\": 41.78931659066839}, {\"skill\": 57.68161755483292, \"luck1\": -4.223680608907449, \"luck2\": -1.134957325513057, \"skill_measure1\": 53.45793694592547, \"skill_measure2\": 56.54666022931986}, {\"skill\": 46.22817207936398, \"luck1\": -6.334194378211603, \"luck2\": -2.4484155134762378, \"skill_measure1\": 39.89397770115238, \"skill_measure2\": 43.779756565887745}, {\"skill\": 57.57397460836016, \"luck1\": 7.697461783597738, \"luck2\": -6.531911316178114, \"skill_measure1\": 65.2714363919579, \"skill_measure2\": 51.04206329218205}, {\"skill\": 50.01828630193353, \"luck1\": -8.545985877630901, \"luck2\": -2.412440839867898, \"skill_measure1\": 41.47230042430263, \"skill_measure2\": 47.60584546206563}, {\"skill\": 62.93956167881862, \"luck1\": -7.348791694435586, \"luck2\": 0.06103912866641191, \"skill_measure1\": 55.59076998438304, \"skill_measure2\": 63.000600807485036}, {\"skill\": 47.67875220879523, \"luck1\": -4.13212996684306, \"luck2\": -2.6392323237765907, \"skill_measure1\": 43.54662224195217, \"skill_measure2\": 45.03951988501864}, {\"skill\": 33.116965450032296, \"luck1\": -3.8724289664357796, \"luck2\": 2.198425304280371, \"skill_measure1\": 29.244536483596516, \"skill_measure2\": 35.315390754312666}, {\"skill\": 42.66786709913602, \"luck1\": -8.236616067022304, \"luck2\": -4.5412204690978095, \"skill_measure1\": 34.431251032113714, \"skill_measure2\": 38.12664663003821}, {\"skill\": 40.85050285555898, \"luck1\": -1.7098700622865222, \"luck2\": -4.042965814427796, \"skill_measure1\": 39.14063279327246, \"skill_measure2\": 36.807537041131184}, {\"skill\": 38.514678154484756, \"luck1\": 6.31673465749127, \"luck2\": -3.5917721306838053, \"skill_measure1\": 44.83141281197602, \"skill_measure2\": 34.92290602380095}, {\"skill\": 42.621212439442715, \"luck1\": 5.974089848940228, \"luck2\": 9.050540998359057, \"skill_measure1\": 48.59530228838294, \"skill_measure2\": 51.67175343780177}, {\"skill\": 45.44967916153671, \"luck1\": -3.7842096876281324, \"luck2\": 9.926605080535616, \"skill_measure1\": 41.66546947390857, \"skill_measure2\": 55.37628424207232}, {\"skill\": 44.849031959832104, \"luck1\": -7.352394366423919, \"luck2\": 1.1140131377849662, \"skill_measure1\": 37.49663759340818, \"skill_measure2\": 45.96304509761707}, {\"skill\": 55.42041335365627, \"luck1\": 2.513558384023381, \"luck2\": -0.6079816090609449, \"skill_measure1\": 57.933971737679656, \"skill_measure2\": 54.81243174459533}, {\"skill\": 36.11356411354841, \"luck1\": -8.74699478806625, \"luck2\": -4.135304524141488, \"skill_measure1\": 27.366569325482157, \"skill_measure2\": 31.978259589406917}, {\"skill\": 59.279359448800726, \"luck1\": 7.6692061155379845, \"luck2\": 2.6866552707363454, \"skill_measure1\": 66.94856556433871, \"skill_measure2\": 61.96601471953707}, {\"skill\": 55.94037583091341, \"luck1\": 7.035005490246034, \"luck2\": -0.9353606868848413, \"skill_measure1\": 62.975381321159446, \"skill_measure2\": 55.00501514402857}, {\"skill\": 64.15758898662136, \"luck1\": -3.9221511453142788, \"luck2\": 7.777072724473762, \"skill_measure1\": 60.23543784130708, \"skill_measure2\": 71.93466171109513}, {\"skill\": 46.796032809009354, \"luck1\": -6.160602070462945, \"luck2\": -4.579731058133571, \"skill_measure1\": 40.63543073854641, \"skill_measure2\": 42.216301750875786}, {\"skill\": 43.98311337818312, \"luck1\": 3.65881434797659, \"luck2\": -3.649210807980396, \"skill_measure1\": 47.64192772615971, \"skill_measure2\": 40.333902570202724}, {\"skill\": 63.445441336486084, \"luck1\": -1.1625096468243428, \"luck2\": -3.8135883266615735, \"skill_measure1\": 62.282931689661744, \"skill_measure2\": 59.63185300982451}, {\"skill\": 42.268683595099155, \"luck1\": 2.8216575348180046, \"luck2\": 9.247609125979615, \"skill_measure1\": 45.09034112991716, \"skill_measure2\": 51.51629272107877}, {\"skill\": 28.969213824387857, \"luck1\": 0.9401870371071458, \"luck2\": 2.1385554202013553, \"skill_measure1\": 29.909400861495005, \"skill_measure2\": 31.107769244589214}, {\"skill\": 42.14286489774405, \"luck1\": -2.5558661122794057, \"luck2\": 4.0641281202750426, \"skill_measure1\": 39.586998785464644, \"skill_measure2\": 46.20699301801909}, {\"skill\": 46.554450924601355, \"luck1\": 3.830319249490609, \"luck2\": 4.602190843775741, \"skill_measure1\": 50.38477017409196, \"skill_measure2\": 51.1566417683771}, {\"skill\": 47.26311481976716, \"luck1\": -1.1104445351188488, \"luck2\": -2.2189096116234888, \"skill_measure1\": 46.15267028464831, \"skill_measure2\": 45.04420520814367}, {\"skill\": 68.7388251689541, \"luck1\": -2.3084544641602727, \"luck2\": 5.089895106708414, \"skill_measure1\": 66.43037070479382, \"skill_measure2\": 73.8287202756625}, {\"skill\": 53.976422625943, \"luck1\": -0.21587424986224346, \"luck2\": 1.4743391625979962, \"skill_measure1\": 53.760548376080756, \"skill_measure2\": 55.450761788541}, {\"skill\": 40.710276419766096, \"luck1\": 8.117669335857672, \"luck2\": -7.546479594129519, \"skill_measure1\": 48.827945755623766, \"skill_measure2\": 33.16379682563658}, {\"skill\": 29.51204367154873, \"luck1\": 2.198602685593409, \"luck2\": -6.675859885446855, \"skill_measure1\": 31.71064635714214, \"skill_measure2\": 22.836183786101877}, {\"skill\": 56.68227311036891, \"luck1\": -1.2755621388742804, \"luck2\": 0.7189855698825588, \"skill_measure1\": 55.40671097149463, \"skill_measure2\": 57.401258680251466}, {\"skill\": 69.25532585003393, \"luck1\": 1.8628894358424561, \"luck2\": 6.152100512892227, \"skill_measure1\": 71.11821528587639, \"skill_measure2\": 75.40742636292616}, {\"skill\": 46.677261815822085, \"luck1\": 10.598630030371286, \"luck2\": 8.083024036614363, \"skill_measure1\": 57.275891846193375, \"skill_measure2\": 54.760285852436446}, {\"skill\": 38.945789429424195, \"luck1\": -1.7816177218347518, \"luck2\": 6.743994949702243, \"skill_measure1\": 37.164171707589446, \"skill_measure2\": 45.689784379126436}, {\"skill\": 55.4814949834352, \"luck1\": 5.174364875533186, \"luck2\": -5.638463346201654, \"skill_measure1\": 60.655859858968384, \"skill_measure2\": 49.843031637233544}, {\"skill\": 52.96103535343137, \"luck1\": -0.12966916664116976, \"luck2\": 4.281829957191793, \"skill_measure1\": 52.8313661867902, \"skill_measure2\": 57.24286531062316}, {\"skill\": 49.1018630220734, \"luck1\": 5.9265482210678915, \"luck2\": -0.49181520680132934, \"skill_measure1\": 55.02841124314129, \"skill_measure2\": 48.610047815272075}, {\"skill\": 49.37141443723547, \"luck1\": 2.004190363243617, \"luck2\": -3.5533211145926344, \"skill_measure1\": 51.37560480047909, \"skill_measure2\": 45.81809332264284}, {\"skill\": 45.436045031300395, \"luck1\": 3.126460374921045, \"luck2\": -0.3999710665416376, \"skill_measure1\": 48.56250540622144, \"skill_measure2\": 45.03607396475876}, {\"skill\": 53.8526318223218, \"luck1\": -3.7301738740275265, \"luck2\": -1.6654867725451203, \"skill_measure1\": 50.12245794829427, \"skill_measure2\": 52.187145049776674}, {\"skill\": 50.42066824729691, \"luck1\": -6.375699221926384, \"luck2\": -4.517994096022104, \"skill_measure1\": 44.04496902537053, \"skill_measure2\": 45.90267415127481}, {\"skill\": 60.35642313960019, \"luck1\": 17.29984031009379, \"luck2\": -6.025521803405858, \"skill_measure1\": 77.65626344969398, \"skill_measure2\": 54.33090133619433}, {\"skill\": 60.32268701947797, \"luck1\": -2.671417558538928, \"luck2\": 7.719965322861446, \"skill_measure1\": 57.65126946093904, \"skill_measure2\": 68.04265234233941}, {\"skill\": 36.73303145447133, \"luck1\": 1.9327007107757606, \"luck2\": 6.207886540540355, \"skill_measure1\": 38.66573216524709, \"skill_measure2\": 42.94091799501169}, {\"skill\": 45.523429404140884, \"luck1\": -3.2759322636247914, \"luck2\": -6.5441964553509795, \"skill_measure1\": 42.247497140516096, \"skill_measure2\": 38.97923294878991}, {\"skill\": 45.262071623338336, \"luck1\": 5.092192595784033, \"luck2\": -5.953984224068305, \"skill_measure1\": 50.35426421912237, \"skill_measure2\": 39.30808739927003}, {\"skill\": 49.227687673264825, \"luck1\": 0.5836521463577236, \"luck2\": -3.5810379410408273, \"skill_measure1\": 49.811339819622546, \"skill_measure2\": 45.646649732224}, {\"skill\": 25.844225495073335, \"luck1\": -2.265098748160004, \"luck2\": 5.523216112138115, \"skill_measure1\": 23.57912674691333, \"skill_measure2\": 31.36744160721145}, {\"skill\": 41.79217209652024, \"luck1\": 2.6038607069409503, \"luck2\": -3.0632150358984123, \"skill_measure1\": 44.39603280346119, \"skill_measure2\": 38.72895706062183}, {\"skill\": 53.41969932837222, \"luck1\": 3.2983311956142884, \"luck2\": -3.8304196254702862, \"skill_measure1\": 56.718030523986506, \"skill_measure2\": 49.58927970290193}, {\"skill\": 52.81595172668277, \"luck1\": -4.942005317774448, \"luck2\": -2.7445323473213334, \"skill_measure1\": 47.873946408908324, \"skill_measure2\": 50.07141937936144}, {\"skill\": 56.89681856876061, \"luck1\": -3.3672355369394795, \"luck2\": -6.5430224149632625, \"skill_measure1\": 53.529583031821126, \"skill_measure2\": 50.35379615379735}, {\"skill\": 46.09114635963258, \"luck1\": -5.172983194862454, \"luck2\": -10.512646906329381, \"skill_measure1\": 40.91816316477013, \"skill_measure2\": 35.5784994533032}, {\"skill\": 59.80939353298233, \"luck1\": -1.6742047860419993, \"luck2\": -4.757678812878065, \"skill_measure1\": 58.13518874694033, \"skill_measure2\": 55.051714720104265}, {\"skill\": 48.15818656174277, \"luck1\": 1.068151292506989, \"luck2\": 14.974013462184752, \"skill_measure1\": 49.226337854249756, \"skill_measure2\": 63.13220002392752}, {\"skill\": 56.75980588182202, \"luck1\": -3.3695993616057773, \"luck2\": -3.3678765191694398, \"skill_measure1\": 53.39020652021624, \"skill_measure2\": 53.391929362652576}, {\"skill\": 46.20081506761016, \"luck1\": 1.4824232579987338, \"luck2\": -2.142274455680969, \"skill_measure1\": 47.68323832560889, \"skill_measure2\": 44.05854061192919}, {\"skill\": 45.24935382051325, \"luck1\": 5.968113679476009, \"luck2\": -4.28486460346559, \"skill_measure1\": 51.217467499989255, \"skill_measure2\": 40.96448921704766}, {\"skill\": 56.01821030777847, \"luck1\": -3.3798210529111747, \"luck2\": -12.505395851443728, \"skill_measure1\": 52.63838925486729, \"skill_measure2\": 43.51281445633474}]}};\n",
       "const opt = {};\n",
       "const type = \"vega-lite\";\n",
       "const id = \"0f139d8c-4524-41c5-bf99-5bac1c44c873\";\n",
       "\n",
       "const output_area = this;\n",
       "\n",
       "require([\"nbextensions/jupyter-vega/index\"], function(vega) {\n",
       "  const target = document.createElement(\"div\");\n",
       "  target.id = id;\n",
       "  target.className = \"vega-embed\";\n",
       "\n",
       "  const style = document.createElement(\"style\");\n",
       "  style.textContent = [\n",
       "    \".vega-embed .error p {\",\n",
       "    \"  color: firebrick;\",\n",
       "    \"  font-size: 14px;\",\n",
       "    \"}\",\n",
       "  ].join(\"\\\\n\");\n",
       "\n",
       "  // element is a jQuery wrapped DOM element inside the output area\n",
       "  // see http://ipython.readthedocs.io/en/stable/api/generated/\\\n",
       "  // IPython.display.html#IPython.display.Javascript.__init__\n",
       "  element[0].appendChild(target);\n",
       "  element[0].appendChild(style);\n",
       "\n",
       "  vega.render(\"#\" + id, spec, type, opt, output_area);\n",
       "}, function (err) {\n",
       "  if (err.requireType !== \"scripterror\") {\n",
       "    throw(err);\n",
       "  }\n",
       "});\n"
      ],
      "text/plain": [
       "<vega.vegalite.VegaLite at 0x23bf8965488>"
      ]
     },
     "metadata": {
      "jupyter-vega": "#0f139d8c-4524-41c5-bf99-5bac1c44c873"
     },
     "output_type": "display_data"
    },
    {
     "data": {
      "text/plain": []
     },
     "execution_count": 6,
     "metadata": {},
     "output_type": "execute_result"
    },
    {
     "data": {
      "image/png": "[encoded data removed]"
     },
     "metadata": {
      "jupyter-vega": "#0f139d8c-4524-41c5-bf99-5bac1c44c873"
     },
     "output_type": "display_data"
    }
   ],
   "source": [
    "import altair as alt\n",
    "alt.renderers.enable('notebook') # for the notebook only (not for JupyterLab) run this command once per session\n",
    "\n",
    "# scatter plot of dataset\n",
    "df_plot = alt.Chart(df).mark_point().encode(\n",
    "    alt.X('skill_measure1:Q', scale=alt.Scale(zero=False)),\n",
    "    y='skill_measure2:Q',\n",
    "    size=alt.value(10)\n",
    ").properties(title=\"bivariate distribution of skill_measure1 and skill_measure2\")\n",
    "\n",
    "df_plot"
   ]
  },
  {
   "cell_type": "markdown",
   "metadata": {},
   "source": [
    "Como já mencionado aqui,\n",
    "\n",
    "<blockquote>\n",
    "<strong>Regressão à média</strong> (<strong><em>regression to the mean</em></strong>) é um fenômeno estatístico que ocorre sempre que você trabalha <mark>com uma <strong><font color=gray>amostra</font></strong> <strong>não aleatória</strong> extraída da <strong><font color=orange>população</font></strong></mark> e duas variáveis <mark><strong>imperfeitamente correlacionadas</strong></mark> (correlação diferente de $1$ ou diferente de $-1$) são medidas, por exemplo, duas medições consecutivas da pressão arterial. Quanto menos correlacionadas as duas variáveis, maior o efeito da regressão para a média. Além disso, <mark>quanto mais extremo for o valor da média da <strong><font color=gray>amostra</font></strong> não aleatória (quando comparada com a média da <strong><font color=orange>população</font></strong>), mais espaço haverá para regredir à média</mark>.\n",
    "</blockquote>\n",
    "\n",
    "ou seja, <strong>regressão à média</strong> (<strong><em>regression to the mean</em></strong>) tende a ocorrer sempre que selecionamos um <strong>grupo extremo</strong> da <strong><font color=orange>população</font></strong>.\n",
    "\n",
    "Então suponha que a nossa <strong><font color=gray>amostra</font></strong> <strong>não aleatória</strong> represente o grupo de jogadores cuja habilidade tenha sido menor do que $50$ no semestre 1, ou seja, menor do que a média da <strong><font color=orange>população</font></strong>."
   ]
  },
  {
   "cell_type": "code",
   "execution_count": 7,
   "metadata": {},
   "outputs": [],
   "source": [
    "# função para filtrar as linhas do data frame\n",
    "def filter_df(filter_param, df):\n",
    "    filtered_df = df[filter_param]\n",
    "    filtered_df = filtered_df.rename(columns = {\n",
    "        'skill':'sample_skill', \n",
    "        'luck1':'sample_luck1', 'luck2':'sample_luck2', \n",
    "        'skill_measure1':'sample_skill_measure1', 'skill_measure2':'sample_skill_measure2'})\n",
    "    return filtered_df"
   ]
  },
  {
   "cell_type": "code",
   "execution_count": 8,
   "metadata": {},
   "outputs": [
    {
     "data": {
      "text/html": [
       "<div>\n",
       "<style scoped>\n",
       "    .dataframe tbody tr th:only-of-type {\n",
       "        vertical-align: middle;\n",
       "    }\n",
       "\n",
       "    .dataframe tbody tr th {\n",
       "        vertical-align: top;\n",
       "    }\n",
       "\n",
       "    .dataframe thead th {\n",
       "        text-align: right;\n",
       "    }\n",
       "</style>\n",
       "<table border=\"1\" class=\"dataframe\">\n",
       "  <thead>\n",
       "    <tr style=\"text-align: right;\">\n",
       "      <th></th>\n",
       "      <th>sample_skill</th>\n",
       "      <th>sample_luck1</th>\n",
       "      <th>sample_luck2</th>\n",
       "      <th>sample_skill_measure1</th>\n",
       "      <th>sample_skill_measure2</th>\n",
       "    </tr>\n",
       "  </thead>\n",
       "  <tbody>\n",
       "    <tr>\n",
       "      <th>1</th>\n",
       "      <td>47.127489</td>\n",
       "      <td>1.299919</td>\n",
       "      <td>3.671169</td>\n",
       "      <td>48.427408</td>\n",
       "      <td>50.798659</td>\n",
       "    </tr>\n",
       "    <tr>\n",
       "      <th>2</th>\n",
       "      <td>47.681997</td>\n",
       "      <td>-4.035868</td>\n",
       "      <td>-1.405157</td>\n",
       "      <td>43.646129</td>\n",
       "      <td>46.276841</td>\n",
       "    </tr>\n",
       "    <tr>\n",
       "      <th>7</th>\n",
       "      <td>40.961612</td>\n",
       "      <td>-8.160972</td>\n",
       "      <td>-5.013607</td>\n",
       "      <td>32.800640</td>\n",
       "      <td>35.948005</td>\n",
       "    </tr>\n",
       "    <tr>\n",
       "      <th>9</th>\n",
       "      <td>48.357124</td>\n",
       "      <td>-3.222692</td>\n",
       "      <td>2.061614</td>\n",
       "      <td>45.134433</td>\n",
       "      <td>50.418738</td>\n",
       "    </tr>\n",
       "    <tr>\n",
       "      <th>10</th>\n",
       "      <td>46.673540</td>\n",
       "      <td>2.636430</td>\n",
       "      <td>-0.517871</td>\n",
       "      <td>49.309970</td>\n",
       "      <td>46.155669</td>\n",
       "    </tr>\n",
       "  </tbody>\n",
       "</table>\n",
       "</div>"
      ],
      "text/plain": [
       "    sample_skill  sample_luck1  sample_luck2  sample_skill_measure1  \\\n",
       "1      47.127489      1.299919      3.671169              48.427408   \n",
       "2      47.681997     -4.035868     -1.405157              43.646129   \n",
       "7      40.961612     -8.160972     -5.013607              32.800640   \n",
       "9      48.357124     -3.222692      2.061614              45.134433   \n",
       "10     46.673540      2.636430     -0.517871              49.309970   \n",
       "\n",
       "    sample_skill_measure2  \n",
       "1               50.798659  \n",
       "2               46.276841  \n",
       "7               35.948005  \n",
       "9               50.418738  \n",
       "10              46.155669  "
      ]
     },
     "execution_count": 8,
     "metadata": {},
     "output_type": "execute_result"
    }
   ],
   "source": [
    "is_skill_measure1_below_50 = df['skill_measure1'] < 50\n",
    "df_skill_measure1_below_50 = filter_df(is_skill_measure1_below_50, df)\n",
    "df_skill_measure1_below_50.head()"
   ]
  },
  {
   "cell_type": "markdown",
   "metadata": {},
   "source": [
    "O que fizemos nos passos anteriores foi gerar uma <strong><font color=gray>amostra</font></strong> (a partir da nossa <strong><font color=orange>população</font></strong>) que compreende apenas jogadores tais que $\\text{skill_measure1} < 50$. Trata-se de uma <strong><font color=gray>amostra</font></strong> <strong>não aleatória</strong>.\n",
    "\n",
    "Então, se para apenas esta <strong><font color=gray>amostra</font></strong> de jogadores compararmos o desempenho deles entre o primeiro e segundo semestres (<em>sample_skill_measure1</em> e <em>sample_skill_measure2</em>), teremos:"
   ]
  },
  {
   "cell_type": "code",
   "execution_count": 9,
   "metadata": {},
   "outputs": [
    {
     "data": {
      "text/html": [
       "<div>\n",
       "<style scoped>\n",
       "    .dataframe tbody tr th:only-of-type {\n",
       "        vertical-align: middle;\n",
       "    }\n",
       "\n",
       "    .dataframe tbody tr th {\n",
       "        vertical-align: top;\n",
       "    }\n",
       "\n",
       "    .dataframe thead th {\n",
       "        text-align: right;\n",
       "    }\n",
       "</style>\n",
       "<table border=\"1\" class=\"dataframe\">\n",
       "  <thead>\n",
       "    <tr style=\"text-align: right;\">\n",
       "      <th></th>\n",
       "      <th>sample_skill_measure1</th>\n",
       "      <th>sample_skill_measure2</th>\n",
       "    </tr>\n",
       "  </thead>\n",
       "  <tbody>\n",
       "    <tr>\n",
       "      <th>count</th>\n",
       "      <td>242.000000</td>\n",
       "      <td>242.000000</td>\n",
       "    </tr>\n",
       "    <tr>\n",
       "      <th>mean</th>\n",
       "      <td>41.098062</td>\n",
       "      <td>43.597161</td>\n",
       "    </tr>\n",
       "    <tr>\n",
       "      <th>std</th>\n",
       "      <td>6.809014</td>\n",
       "      <td>8.221230</td>\n",
       "    </tr>\n",
       "    <tr>\n",
       "      <th>min</th>\n",
       "      <td>17.791676</td>\n",
       "      <td>20.639844</td>\n",
       "    </tr>\n",
       "    <tr>\n",
       "      <th>25%</th>\n",
       "      <td>36.575304</td>\n",
       "      <td>38.212161</td>\n",
       "    </tr>\n",
       "    <tr>\n",
       "      <th>50%</th>\n",
       "      <td>42.383570</td>\n",
       "      <td>43.725251</td>\n",
       "    </tr>\n",
       "    <tr>\n",
       "      <th>75%</th>\n",
       "      <td>46.699970</td>\n",
       "      <td>48.123878</td>\n",
       "    </tr>\n",
       "    <tr>\n",
       "      <th>max</th>\n",
       "      <td>49.985832</td>\n",
       "      <td>68.147632</td>\n",
       "    </tr>\n",
       "  </tbody>\n",
       "</table>\n",
       "</div>"
      ],
      "text/plain": [
       "       sample_skill_measure1  sample_skill_measure2\n",
       "count             242.000000             242.000000\n",
       "mean               41.098062              43.597161\n",
       "std                 6.809014               8.221230\n",
       "min                17.791676              20.639844\n",
       "25%                36.575304              38.212161\n",
       "50%                42.383570              43.725251\n",
       "75%                46.699970              48.123878\n",
       "max                49.985832              68.147632"
      ]
     },
     "execution_count": 9,
     "metadata": {},
     "output_type": "execute_result"
    }
   ],
   "source": [
    "df_skill_measure1_below_50[['sample_skill_measure1', 'sample_skill_measure2']].describe()"
   ]
  },
  {
   "cell_type": "markdown",
   "metadata": {},
   "source": [
    "Ao analisar os dados anteriores, a primeira impressão é a de que o desempenho dos jogadores melhorou um pouco do primeiro semestre para o segundo semestre (a média da medição do segundo semestre é um pouco maior do que a do primeiro). Isto significa que os jogadores ficaram mais habilidosos no segundo semestre? Que essa melhoria é apenas uma maturação normal em virtude dos treinos? Provavelmente, não! O que você está testemunhando aqui é o efeito da <strong>regressão à média</strong> (<strong><em>regression to the mean</em></strong>).\n",
    "\n",
    "Foi selecionado um grupo de jogadores que apresentaram um baixo desempenho na medição do primeiro semestre ($\\text{skill_measure1} < 50$). Então, para qualquer outra medição que estiver imperfeitamente correlacionada com a medição do primeiro semestre, este grupo de jogadores parecerá ter um desempenho melhor, simplesmente por causa da <strong>regressão à média</strong> (<strong><em>regression to the mean</em></strong>). Note que a habilidade real (<em>sample_skill</em>) destes jogadores permanece a mesma tanto no primeiro quanto no segundo semestre, já a componente da sorte, não é a mesma entre o primeiro e segundo semestres (<em>sample_luck1</em> e <em>sample_luck2</em>).\n",
    "\n",
    "Veja as distribuições das medições no primeiro e segundo semestres do grupo de jogadores pertencentes à <strong><font color=gray>amostra</font></strong>."
   ]
  },
  {
   "cell_type": "code",
   "execution_count": 10,
   "metadata": {},
   "outputs": [
    {
     "data": {
      "text/plain": [
       "array([[<matplotlib.axes._subplots.AxesSubplot object at 0x0000023BF89D1808>]],\n",
       "      dtype=object)"
      ]
     },
     "execution_count": 10,
     "metadata": {},
     "output_type": "execute_result"
    },
    {
     "data": {
      "image/png": "[encoded data removed]",
      "text/plain": [
       "<Figure size 432x288 with 1 Axes>"
      ]
     },
     "metadata": {
      "needs_background": "light"
     },
     "output_type": "display_data"
    },
    {
     "data": {
      "image/png": "[encoded data removed]",
      "text/plain": [
       "<Figure size 432x288 with 1 Axes>"
      ]
     },
     "metadata": {
      "needs_background": "light"
     },
     "output_type": "display_data"
    }
   ],
   "source": [
    "df_skill_measure1_below_50.hist(column='sample_skill_measure1')\n",
    "df_skill_measure1_below_50.hist(column='sample_skill_measure2')"
   ]
  },
  {
   "cell_type": "markdown",
   "metadata": {},
   "source": [
    "Observe que o histograma <em>sample_skill_measure1</em> da nossa <strong><font color=gray>amostra</font></strong> de jogadores se assemelha à metade esquerda da curva normal, o que já era esperado uma vez que selecionamos apenas os jogadores da metade inferior ($\\text{skill_measure1} < 50$) da medição do primeiro semestre da nossa <strong><font color=orange>população</font></strong>.\n",
    "\n",
    "Já, o histograma <em>sample_skill_measure2</em> não parece tão claramente cortado ao meio. Por que não? A habilidade real (<em>sample_skill</em>) destes jogadores permanece a mesma tanto no primeiro quanto no segundo semestre. Logo, isto deve ter relação com a componente da sorte, que não é a mesma entre o primeiro e segundo semestres (<em>sample_luck1</em> e <em>sample_luck2</em>).\n",
    "\n",
    "Obviamente, como todos os jogadores possuem a mesma habilidade (<em>sample_skill</em>) nas duas medições e, como os jogadores parecem, em média, ter um desempenho um pouco melhor na medição do segundo semestre (<em>sample_skill_measure2</em>) do que na do primeiro (<em>sample_skill_measure1</em>), devemos esperar mais componentes de sorte negativas na medição <em>sample_skill_measure1</em> do que na medição <em>sample_skill_measure2</em>. Vamos verificar se isto é verdade."
   ]
  },
  {
   "cell_type": "code",
   "execution_count": 11,
   "metadata": {},
   "outputs": [],
   "source": [
    "import numpy as np\n",
    "\n",
    "def count_neg_zeros_pos(array):\n",
    "    is_negative = array < 0.0\n",
    "    is_positive = array > 0.0\n",
    "    negatives = np.sum(is_negative)\n",
    "    positives = np.sum(is_positive)\n",
    "    zeros = pop_size - negatives - positives\n",
    "    return negatives, zeros, positives"
   ]
  },
  {
   "cell_type": "code",
   "execution_count": 12,
   "metadata": {},
   "outputs": [
    {
     "data": {
      "text/html": [
       "<div>\n",
       "<style scoped>\n",
       "    .dataframe tbody tr th:only-of-type {\n",
       "        vertical-align: middle;\n",
       "    }\n",
       "\n",
       "    .dataframe tbody tr th {\n",
       "        vertical-align: top;\n",
       "    }\n",
       "\n",
       "    .dataframe thead th {\n",
       "        text-align: right;\n",
       "    }\n",
       "</style>\n",
       "<table border=\"1\" class=\"dataframe\">\n",
       "  <thead>\n",
       "    <tr style=\"text-align: right;\">\n",
       "      <th></th>\n",
       "      <th>sample_luck1</th>\n",
       "      <th>sample_luck2</th>\n",
       "    </tr>\n",
       "  </thead>\n",
       "  <tbody>\n",
       "    <tr>\n",
       "      <th>negatives</th>\n",
       "      <td>165</td>\n",
       "      <td>123</td>\n",
       "    </tr>\n",
       "    <tr>\n",
       "      <th>zeros</th>\n",
       "      <td>258</td>\n",
       "      <td>258</td>\n",
       "    </tr>\n",
       "    <tr>\n",
       "      <th>positives</th>\n",
       "      <td>77</td>\n",
       "      <td>119</td>\n",
       "    </tr>\n",
       "  </tbody>\n",
       "</table>\n",
       "</div>"
      ],
      "text/plain": [
       "           sample_luck1  sample_luck2\n",
       "negatives           165           123\n",
       "zeros               258           258\n",
       "positives            77           119"
      ]
     },
     "execution_count": 12,
     "metadata": {},
     "output_type": "execute_result"
    }
   ],
   "source": [
    "sl1 = count_neg_zeros_pos(df_skill_measure1_below_50['sample_luck1'])\n",
    "sl2 = count_neg_zeros_pos(df_skill_measure1_below_50['sample_luck2'])\n",
    "\n",
    "table = pd.DataFrame(\n",
    "    {'sample_luck1': [sl1[0],sl1[1],sl1[2]], 'sample_luck2': [sl2[0],sl2[1],sl2[2]]},\n",
    "    index = ['negatives', 'zeros', 'positives']\n",
    ")\n",
    "table"
   ]
  },
  {
   "cell_type": "markdown",
   "metadata": {},
   "source": [
    "Deveria haver mais componentes de sorte negativos no semestre 1 e mais positivos para o semestre 2. Correto?\n",
    "\n",
    "Então, vamos refletir sobre o que fizemos até o momento.\n",
    "- Simulamos dois experimentos (um no semestre 1 e outro no semestre 2) que medem a performance dos jogadores. Existem imperfeições (ruídos) nestas medições (ou seja, elas possuem uma componente aleatória de sorte).\n",
    "- Selecionamos uma <strong><font color=gray>amostra</font></strong> <strong>assimétrica</strong> com base no desempenho observado em um dos experimentos (selecionamos jogadores com $\\text{skill_measure1} < 50$). Mesmo que nada tenha sido feito com este grupo de jogadores (nenhuma política nova de treino), quando realizamos um novo experimento de medição no segundo semestre, descobrimos que os jogadores apresentaram uma pequena melhora no desempenho.\n",
    "\n",
    "Se você fosse o treinador deste grupo de jogadores e tivesse sugerido a necessidade de uma nova metodologia de treinamento com base nos resultados observados no primeiro semestre (<em>sample_skill_measure1</em>), então, caso nada tivesse sido feito por você, as pessoas poderiam começar a questionar a sua sugestão de uma nova metodologia de treinamento, uma vez que ocorreu um melhora no segundo semestre sem a adoção de nenhuma nova política de treinamento. Digamos que você decidiu mostrar para estas pessoas que o ganho aparente deste grupo de jogadores não seja de fato um ganho real de desempenho. Então, você decide que analisará a mudança de desempenho entre o primeiro e segundo semestres para os jogadores que tiveram um desempenho acima da média no primeiro semestre ($\\text{skill_measure1} > 50$)."
   ]
  },
  {
   "cell_type": "code",
   "execution_count": 13,
   "metadata": {},
   "outputs": [
    {
     "data": {
      "text/html": [
       "<div>\n",
       "<style scoped>\n",
       "    .dataframe tbody tr th:only-of-type {\n",
       "        vertical-align: middle;\n",
       "    }\n",
       "\n",
       "    .dataframe tbody tr th {\n",
       "        vertical-align: top;\n",
       "    }\n",
       "\n",
       "    .dataframe thead th {\n",
       "        text-align: right;\n",
       "    }\n",
       "</style>\n",
       "<table border=\"1\" class=\"dataframe\">\n",
       "  <thead>\n",
       "    <tr style=\"text-align: right;\">\n",
       "      <th></th>\n",
       "      <th>sample_skill</th>\n",
       "      <th>sample_luck1</th>\n",
       "      <th>sample_luck2</th>\n",
       "      <th>sample_skill_measure1</th>\n",
       "      <th>sample_skill_measure2</th>\n",
       "    </tr>\n",
       "  </thead>\n",
       "  <tbody>\n",
       "    <tr>\n",
       "      <th>0</th>\n",
       "      <td>61.984872</td>\n",
       "      <td>0.472335</td>\n",
       "      <td>-0.616716</td>\n",
       "      <td>62.457207</td>\n",
       "      <td>61.368156</td>\n",
       "    </tr>\n",
       "    <tr>\n",
       "      <th>3</th>\n",
       "      <td>48.264599</td>\n",
       "      <td>3.002146</td>\n",
       "      <td>2.044334</td>\n",
       "      <td>51.266746</td>\n",
       "      <td>50.308933</td>\n",
       "    </tr>\n",
       "    <tr>\n",
       "      <th>4</th>\n",
       "      <td>57.324535</td>\n",
       "      <td>-0.320804</td>\n",
       "      <td>-7.076440</td>\n",
       "      <td>57.003731</td>\n",
       "      <td>50.248095</td>\n",
       "    </tr>\n",
       "    <tr>\n",
       "      <th>5</th>\n",
       "      <td>47.740825</td>\n",
       "      <td>3.269675</td>\n",
       "      <td>-0.318569</td>\n",
       "      <td>51.010500</td>\n",
       "      <td>47.422256</td>\n",
       "    </tr>\n",
       "    <tr>\n",
       "      <th>6</th>\n",
       "      <td>54.108748</td>\n",
       "      <td>1.308204</td>\n",
       "      <td>-2.016945</td>\n",
       "      <td>55.416952</td>\n",
       "      <td>52.091804</td>\n",
       "    </tr>\n",
       "  </tbody>\n",
       "</table>\n",
       "</div>"
      ],
      "text/plain": [
       "   sample_skill  sample_luck1  sample_luck2  sample_skill_measure1  \\\n",
       "0     61.984872      0.472335     -0.616716              62.457207   \n",
       "3     48.264599      3.002146      2.044334              51.266746   \n",
       "4     57.324535     -0.320804     -7.076440              57.003731   \n",
       "5     47.740825      3.269675     -0.318569              51.010500   \n",
       "6     54.108748      1.308204     -2.016945              55.416952   \n",
       "\n",
       "   sample_skill_measure2  \n",
       "0              61.368156  \n",
       "3              50.308933  \n",
       "4              50.248095  \n",
       "5              47.422256  \n",
       "6              52.091804  "
      ]
     },
     "execution_count": 13,
     "metadata": {},
     "output_type": "execute_result"
    }
   ],
   "source": [
    "is_skill_measure1_above_50 = df['skill_measure1'] > 50\n",
    "df_skill_measure1_above_50 = filter_df(is_skill_measure1_above_50, df)\n",
    "df_skill_measure1_above_50.head()"
   ]
  },
  {
   "cell_type": "markdown",
   "metadata": {},
   "source": [
    "Desta vez, geramos uma <strong><font color=gray>amostra</font></strong> (a partir da nossa <strong><font color=orange>população</font></strong>) que compreende apenas jogadores tais que $\\text{skill_measure1} > 50$. Novamente, trata-se de uma <strong><font color=gray>amostra</font></strong> <strong>não aleatória</strong>.\n",
    "\n",
    "Se compararmos o desempenho somente destes jogadores da nossa <strong><font color=gray>amostra</font></strong> entre o primeiro e segundo semestres (<em>sample_skill_measure1</em> e <em>sample_skill_measure2</em>), teremos:"
   ]
  },
  {
   "cell_type": "code",
   "execution_count": 14,
   "metadata": {},
   "outputs": [
    {
     "data": {
      "text/html": [
       "<div>\n",
       "<style scoped>\n",
       "    .dataframe tbody tr th:only-of-type {\n",
       "        vertical-align: middle;\n",
       "    }\n",
       "\n",
       "    .dataframe tbody tr th {\n",
       "        vertical-align: top;\n",
       "    }\n",
       "\n",
       "    .dataframe thead th {\n",
       "        text-align: right;\n",
       "    }\n",
       "</style>\n",
       "<table border=\"1\" class=\"dataframe\">\n",
       "  <thead>\n",
       "    <tr style=\"text-align: right;\">\n",
       "      <th></th>\n",
       "      <th>sample_skill_measure1</th>\n",
       "      <th>sample_skill_measure2</th>\n",
       "    </tr>\n",
       "  </thead>\n",
       "  <tbody>\n",
       "    <tr>\n",
       "      <th>count</th>\n",
       "      <td>258.000000</td>\n",
       "      <td>258.000000</td>\n",
       "    </tr>\n",
       "    <tr>\n",
       "      <th>mean</th>\n",
       "      <td>58.830952</td>\n",
       "      <td>56.525883</td>\n",
       "    </tr>\n",
       "    <tr>\n",
       "      <th>std</th>\n",
       "      <td>6.838843</td>\n",
       "      <td>9.167280</td>\n",
       "    </tr>\n",
       "    <tr>\n",
       "      <th>min</th>\n",
       "      <td>50.004843</td>\n",
       "      <td>37.165590</td>\n",
       "    </tr>\n",
       "    <tr>\n",
       "      <th>25%</th>\n",
       "      <td>53.812881</td>\n",
       "      <td>50.171812</td>\n",
       "    </tr>\n",
       "    <tr>\n",
       "      <th>50%</th>\n",
       "      <td>57.234659</td>\n",
       "      <td>55.403893</td>\n",
       "    </tr>\n",
       "    <tr>\n",
       "      <th>75%</th>\n",
       "      <td>63.213246</td>\n",
       "      <td>62.069192</td>\n",
       "    </tr>\n",
       "    <tr>\n",
       "      <th>max</th>\n",
       "      <td>84.196497</td>\n",
       "      <td>88.173744</td>\n",
       "    </tr>\n",
       "  </tbody>\n",
       "</table>\n",
       "</div>"
      ],
      "text/plain": [
       "       sample_skill_measure1  sample_skill_measure2\n",
       "count             258.000000             258.000000\n",
       "mean               58.830952              56.525883\n",
       "std                 6.838843               9.167280\n",
       "min                50.004843              37.165590\n",
       "25%                53.812881              50.171812\n",
       "50%                57.234659              55.403893\n",
       "75%                63.213246              62.069192\n",
       "max                84.196497              88.173744"
      ]
     },
     "execution_count": 14,
     "metadata": {},
     "output_type": "execute_result"
    }
   ],
   "source": [
    "df_skill_measure1_above_50[['sample_skill_measure1', 'sample_skill_measure2']].describe()"
   ]
  },
  {
   "cell_type": "markdown",
   "metadata": {},
   "source": [
    "O que aconteceu desta vez? Parece que o grupo de jogadores acima da média no primeiro semestre apresentou uma piora no desempenho do primeiro para o segundo semestre. Agora, aquelas pessoas que criticaram a sua sugestão de um novo programa de treinamento estão realmente convencidos (ou deveríamos dizer, confusos?). Elas argumentaram que os jogadores de baixo desempenho no primeiro semestre melhoraram mesmo sem qualquer programa especial de treinamento, mas os jogadores de alto desempenho pioraram. Talvez as pessoas digam que você deveria aplicar o seu programa especial de treinamento nos jogadores que apresentaram alto desempenho no primeiro semestre, para evitar mais pioras futuras de desempenho.\n",
    "\n",
    "O que está acontecendo aqui? O que você testemunhou aqui novamente foi o fenômeno estatístico chamado <strong>regressão à média</strong> (<strong><em>regression to the mean</em></strong>). Isto ocorre em parte porque as medições realizadas são imperfeitas (possuem ruidos).\n",
    "\n",
    "No nosso exemplo, os experimentos de medição revelam parcialmente a <font color=magenta>habilidade verdadeira</font> dos jogadores, pois eles também capturam os <font color=magenta>ruídos</font> (no nosso exemplo, a componente de <font color=magenta>sorte</font>). Para qualquer jogador, a componente da sorte pode funcionar a favor ou contra, o jogador pode ter um dia bom (ou seja, sorte positiva) ou um dia ruim (sorte negativa). Se teve um dia ruim, então, a medição resultante do experimento será inferior à sua habilidade verdadeira, ao passo que, se teve um dia bom, a medição resultante do experimento estará acima da sua habilidade real.\n",
    "\n",
    "Quando selecionamos um grupo de jogadores com desempenho abaixo da média da <strong><font color=orange>população</font></strong> de $500$ jogadores, foram escolhidos muitos jogadores que realmente apresentavam habilidade abaixo da média, mas também foram selecionados jogadores cujo resultado da medição de habilidade foi abaixo da média porque estavam num dia ruim (ou seja, a componente da sorte negativa). Então, quando foi realizado um segundo experimento de medição com estes mesmos jogadores, a habilidade real dos mesmos permaneceu a mesma, mas a chance de terem um dia tão ruim quanto tiveram no primeiro experimento é bem menor. Logo, é esperado que no segundo experimento (<em>sample_skill_measure2</em>) este grupo de jogadores apresente uma média melhor do que a da medição do primeiro experimento.\n",
    "\n",
    "Também é possível que, ao repetirmos estas mesmas simulações de antes, eventualmente, os resultados não ocorram como descrevi aqui. Isto pode acontecer porque não selecionamos um grupo de jogadores com desempenho tão extremo. Vamos repetir as simulações com um grupo de jogadores com desempenho bem mais extremo do que $\\text{skill_measure1} < 50$."
   ]
  },
  {
   "cell_type": "code",
   "execution_count": 15,
   "metadata": {},
   "outputs": [
    {
     "data": {
      "text/html": [
       "<div>\n",
       "<style scoped>\n",
       "    .dataframe tbody tr th:only-of-type {\n",
       "        vertical-align: middle;\n",
       "    }\n",
       "\n",
       "    .dataframe tbody tr th {\n",
       "        vertical-align: top;\n",
       "    }\n",
       "\n",
       "    .dataframe thead th {\n",
       "        text-align: right;\n",
       "    }\n",
       "</style>\n",
       "<table border=\"1\" class=\"dataframe\">\n",
       "  <thead>\n",
       "    <tr style=\"text-align: right;\">\n",
       "      <th></th>\n",
       "      <th>sample_skill</th>\n",
       "      <th>sample_luck1</th>\n",
       "      <th>sample_luck2</th>\n",
       "      <th>sample_skill_measure1</th>\n",
       "      <th>sample_skill_measure2</th>\n",
       "    </tr>\n",
       "  </thead>\n",
       "  <tbody>\n",
       "    <tr>\n",
       "      <th>7</th>\n",
       "      <td>40.961612</td>\n",
       "      <td>-8.160972</td>\n",
       "      <td>-5.013607</td>\n",
       "      <td>32.800640</td>\n",
       "      <td>35.948005</td>\n",
       "    </tr>\n",
       "    <tr>\n",
       "      <th>14</th>\n",
       "      <td>37.995205</td>\n",
       "      <td>1.975834</td>\n",
       "      <td>-0.894044</td>\n",
       "      <td>39.971039</td>\n",
       "      <td>37.101160</td>\n",
       "    </tr>\n",
       "    <tr>\n",
       "      <th>16</th>\n",
       "      <td>39.810596</td>\n",
       "      <td>-4.614189</td>\n",
       "      <td>0.685386</td>\n",
       "      <td>35.196408</td>\n",
       "      <td>40.495982</td>\n",
       "    </tr>\n",
       "    <tr>\n",
       "      <th>17</th>\n",
       "      <td>42.213265</td>\n",
       "      <td>-6.550948</td>\n",
       "      <td>1.759866</td>\n",
       "      <td>35.662317</td>\n",
       "      <td>43.973131</td>\n",
       "    </tr>\n",
       "    <tr>\n",
       "      <th>23</th>\n",
       "      <td>43.804145</td>\n",
       "      <td>-7.811903</td>\n",
       "      <td>-4.773071</td>\n",
       "      <td>35.992242</td>\n",
       "      <td>39.031074</td>\n",
       "    </tr>\n",
       "  </tbody>\n",
       "</table>\n",
       "</div>"
      ],
      "text/plain": [
       "    sample_skill  sample_luck1  sample_luck2  sample_skill_measure1  \\\n",
       "7      40.961612     -8.160972     -5.013607              32.800640   \n",
       "14     37.995205      1.975834     -0.894044              39.971039   \n",
       "16     39.810596     -4.614189      0.685386              35.196408   \n",
       "17     42.213265     -6.550948      1.759866              35.662317   \n",
       "23     43.804145     -7.811903     -4.773071              35.992242   \n",
       "\n",
       "    sample_skill_measure2  \n",
       "7               35.948005  \n",
       "14              37.101160  \n",
       "16              40.495982  \n",
       "17              43.973131  \n",
       "23              39.031074  "
      ]
     },
     "execution_count": 15,
     "metadata": {},
     "output_type": "execute_result"
    }
   ],
   "source": [
    "is_skill_measure1_below_40 = df['skill_measure1'] < 40\n",
    "df_skill_measure1_below_40 = filter_df(is_skill_measure1_below_40, df)\n",
    "df_skill_measure1_below_40.head()"
   ]
  },
  {
   "cell_type": "markdown",
   "metadata": {},
   "source": [
    "Desta vez, geramos uma <strong><font color=gray>amostra</font></strong> (a partir da nossa <strong><font color=orange>população</font></strong>) que compreende apenas jogadores tais que $\\text{skill_measure1} < 40$. Além de ser uma <strong><font color=gray>amostra</font></strong> <strong>não aleatória</strong>, trata-se de uma amostra bem mais extrema do que a anterior.\n",
    "\n",
    "Vejamos as distribuições dos dois experimentos."
   ]
  },
  {
   "cell_type": "code",
   "execution_count": 16,
   "metadata": {},
   "outputs": [
    {
     "data": {
      "text/plain": [
       "array([[<matplotlib.axes._subplots.AxesSubplot object at 0x0000023BF8D27A08>]],\n",
       "      dtype=object)"
      ]
     },
     "execution_count": 16,
     "metadata": {},
     "output_type": "execute_result"
    },
    {
     "data": {
      "image/png": "[encoded data removed]",
      "text/plain": [
       "<Figure size 432x288 with 1 Axes>"
      ]
     },
     "metadata": {
      "needs_background": "light"
     },
     "output_type": "display_data"
    },
    {
     "data": {
      "image/png": "[encoded data removed]",
      "text/plain": [
       "<Figure size 432x288 with 1 Axes>"
      ]
     },
     "metadata": {
      "needs_background": "light"
     },
     "output_type": "display_data"
    }
   ],
   "source": [
    "df_skill_measure1_below_40.hist(column='sample_skill_measure1')\n",
    "df_skill_measure1_below_40.hist(column='sample_skill_measure2')"
   ]
  },
  {
   "cell_type": "markdown",
   "metadata": {},
   "source": [
    "Agora, o histograma <em>sample_skill_measure1</em> da nossa <strong><font color=gray>amostra</font></strong> de jogadores parece ter sido claramente cortado, já, o histograma <em>sample_skill_measure2</em> não. E quanto às médias dos dois experimentos?"
   ]
  },
  {
   "cell_type": "code",
   "execution_count": 17,
   "metadata": {},
   "outputs": [
    {
     "data": {
      "text/html": [
       "<div>\n",
       "<style scoped>\n",
       "    .dataframe tbody tr th:only-of-type {\n",
       "        vertical-align: middle;\n",
       "    }\n",
       "\n",
       "    .dataframe tbody tr th {\n",
       "        vertical-align: top;\n",
       "    }\n",
       "\n",
       "    .dataframe thead th {\n",
       "        text-align: right;\n",
       "    }\n",
       "</style>\n",
       "<table border=\"1\" class=\"dataframe\">\n",
       "  <thead>\n",
       "    <tr style=\"text-align: right;\">\n",
       "      <th></th>\n",
       "      <th>sample_skill_measure1</th>\n",
       "      <th>sample_skill_measure2</th>\n",
       "    </tr>\n",
       "  </thead>\n",
       "  <tbody>\n",
       "    <tr>\n",
       "      <th>count</th>\n",
       "      <td>91.000000</td>\n",
       "      <td>91.000000</td>\n",
       "    </tr>\n",
       "    <tr>\n",
       "      <th>mean</th>\n",
       "      <td>33.843274</td>\n",
       "      <td>38.250323</td>\n",
       "    </tr>\n",
       "    <tr>\n",
       "      <th>std</th>\n",
       "      <td>5.062275</td>\n",
       "      <td>6.555654</td>\n",
       "    </tr>\n",
       "    <tr>\n",
       "      <th>min</th>\n",
       "      <td>17.791676</td>\n",
       "      <td>20.639844</td>\n",
       "    </tr>\n",
       "    <tr>\n",
       "      <th>25%</th>\n",
       "      <td>31.619031</td>\n",
       "      <td>33.523893</td>\n",
       "    </tr>\n",
       "    <tr>\n",
       "      <th>50%</th>\n",
       "      <td>35.407776</td>\n",
       "      <td>38.701465</td>\n",
       "    </tr>\n",
       "    <tr>\n",
       "      <th>75%</th>\n",
       "      <td>37.179546</td>\n",
       "      <td>43.087919</td>\n",
       "    </tr>\n",
       "    <tr>\n",
       "      <th>max</th>\n",
       "      <td>39.971039</td>\n",
       "      <td>56.115881</td>\n",
       "    </tr>\n",
       "  </tbody>\n",
       "</table>\n",
       "</div>"
      ],
      "text/plain": [
       "       sample_skill_measure1  sample_skill_measure2\n",
       "count              91.000000              91.000000\n",
       "mean               33.843274              38.250323\n",
       "std                 5.062275               6.555654\n",
       "min                17.791676              20.639844\n",
       "25%                31.619031              33.523893\n",
       "50%                35.407776              38.701465\n",
       "75%                37.179546              43.087919\n",
       "max                39.971039              56.115881"
      ]
     },
     "execution_count": 17,
     "metadata": {},
     "output_type": "execute_result"
    }
   ],
   "source": [
    "df_skill_measure1_below_40[['sample_skill_measure1', 'sample_skill_measure2']].describe()"
   ]
  },
  {
   "cell_type": "markdown",
   "metadata": {},
   "source": [
    "Analisando as médias, é possível observar que esta <strong><font color=gray>amostra</font></strong> de jogadores apresentou um desempenho muito superior no segundo experimento se comparado ao primeiro. Os efeitos da <strong>regressão à média</strong> (<strong><em>regression to the mean</em></strong>) aqui estão mais evidentes."
   ]
  },
  {
   "cell_type": "markdown",
   "metadata": {},
   "source": [
    "## Explicação da regressão à média através de uma ilustração"
   ]
  },
  {
   "cell_type": "markdown",
   "metadata": {},
   "source": [
    "![regression-to-the-mean](figures/regression_to_the_mean2.jpg)"
   ]
  },
  {
   "cell_type": "markdown",
   "metadata": {},
   "source": [
    "## O que precisamos saber sobre regressão à média\n",
    "\n",
    "<strong>Trata-se de um fenômeno estatístico</strong>\n",
    "\n",
    ">A regressão à média ocorre quando uma amostragem é realizada de forma assimétrica em relação à população. Se você fizer uma amostragem aleatória da população, observará (sujeito a erro aleatório) que a população e a sua amostra possuem a mesma média na primeira medição. Então, como a amostra já está na média da população na primeira medição, é impossível que esta média volte à média da população.\n",
    "\n",
    "<strong>É um fenômeno de grupo</strong>\n",
    "\n",
    ">Não é possível determinar de que maneira a medição de uma característica de um indivíduo irá se mover com base na regressão à média. Embora a média do grupo se mova em direção à média da população, é provável que a medição de alguns indivíduos do grupo mova na direção oposta.\n",
    "\n",
    "<strong>É um fenômeno relativo</strong>\n",
    "\n",
    ">Isto não tem qualquer relação com as tendências maturacionais gerais. Pode acontecer de todos na população ganharem 20 pontos (em média) entre a medição 1 e a medição 2. Mas mesmo neste caso, a regressão à média ainda pode operar, ou seja, as pessoas com baixa pontuação, em média, ganhando mais pontos do que o ganho populacional de 20 pontos (e, portanto, sua média estará mais próxima da média da população).\n",
    "\n",
    "<strong>A regressão à média pode ocorrer para cima ou para baixo</strong>\n",
    "\n",
    ">Se uma amostra compreender pontuadores abaixo da média da população, então, o efeito da regressão à média ocasionará a percepção de que a pontuação dos mesmos melhorou na segunda medição. Porém, se uma amostra for composta por pontuadores acima da média da população, então, a percepção contrária ocorrerá.\n",
    "\n",
    "<strong>Quanto mais extremo o grupo amostral, maior a regressão à média</strong>\n",
    "\n",
    ">Se uma amostra diferir da população apenas um pouco na primeira medida, então, não haverá muito espaço para regressão à média, pois, a média da amostra já estará próxima da média da população. Já, se uma amostra for muito extrema em relação à população, então, a média da amostra estará mais distante da média da população e haverá mais espaço para regressão à média.\n",
    "\n",
    "<strong>Quanto menos correlacionadas as duas medições, maior o efeito da regressão à média</strong>\n",
    "\n",
    ">Outro fator que afeta o tamanho do efeito da regressão à média é a correlação entre as duas medições. Se as duas medições estiverem perfeitamente correlacionadas, então, não haverá regressão à média. No entanto, é improvável que isto ocorra na prática. Sabe-se que não existe uma medição perfeita, ou seja, assume-se que toda medida tem algum erro aleatório (algum ruído)."
   ]
  },
  {
   "cell_type": "markdown",
   "metadata": {},
   "source": [
    "## Resumo\n",
    "\n",
    "<strong>R1.</strong> <strong>Regressão à média</strong> (<strong><em>regression to the mean</em></strong>) <mark>é um fenômeno estatístico</mark> que ocorre sempre que:\n",
    "- você trabalha com uma <strong><font color=gray>amostra</font></strong> <strong>não aleatória</strong> extraída da <strong><font color=orange>população</font></strong>\n",
    "- e duas variáveis <strong>imperfeitamente correlacionadas</strong> (correlação diferente de $1$ ou diferente de $-1$) são medidas.\n",
    "\n",
    "<strong>R2.</strong> Quanto menos correlacionadas as duas variáveis, maior o efeito da regressão para a média. Além disso, quanto mais extremo for o valor da média da <strong><font color=gray>amostra</font></strong> não aleatória (quando comparada com a média da <strong><font color=orange>população</font></strong>), mais espaço haverá para regredir à média."
   ]
  },
  {
   "cell_type": "markdown",
   "metadata": {},
   "source": [
    "*Referências*:\n",
    "- http://people.duke.edu/~rnau/regintro.htm\n",
    "- https://socialresearchmethods.net/kb/regression-to-the-mean/\n",
    "- https://billtrochim.net/simul/reg_c.htm"
   ]
  },
  {
   "cell_type": "markdown",
   "metadata": {},
   "source": [
    "<!--NAVIGATION-->\n",
    "< [Conteúdo](Index.ipynb) >\n",
    "\n",
    "<a href=\"https://colab.research.google.com/github/fmafonseca/statistical-thinking-data-science/blob/master/notebooks/1001.Regressao-a-Media.ipynb\"><img align=\"left\" src=\"https://colab.research.google.com/assets/colab-badge.svg\" alt=\"Open in Colab\" title=\"Open and Execute in Google Colaboratory\"></a>"
   ]
  },
  {
   "cell_type": "code",
   "execution_count": null,
   "metadata": {},
   "outputs": [],
   "source": []
  }
 ],
 "metadata": {
  "kernelspec": {
   "display_name": "Python 3",
   "language": "python",
   "name": "python3"
  },
  "language_info": {
   "codemirror_mode": {
    "name": "ipython",
    "version": 3
   },
   "file_extension": ".py",
   "mimetype": "text/x-python",
   "name": "python",
   "nbconvert_exporter": "python",
   "pygments_lexer": "ipython3",
   "version": "3.7.6"
  }
 },
 "nbformat": 4,
 "nbformat_minor": 2
}
